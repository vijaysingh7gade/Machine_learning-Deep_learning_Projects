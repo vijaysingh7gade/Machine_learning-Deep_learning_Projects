{
 "cells": [
  {
   "cell_type": "markdown",
   "metadata": {
    "colab_type": "text",
    "id": "4WH1Pr4KQlCh"
   },
   "source": [
    "### Build a DNN using Keras with `RELU` and `ADAM`"
   ]
  },
  {
   "cell_type": "markdown",
   "metadata": {
    "colab_type": "text",
    "id": "TbvI8LqlQlCl",
    "slideshow": {
     "slide_type": "slide"
    }
   },
   "source": [
    "#### Load tensorflow"
   ]
  },
  {
   "cell_type": "code",
   "execution_count": 0,
   "metadata": {
    "colab": {},
    "colab_type": "code",
    "id": "SPW-a-qYQlCp"
   },
   "outputs": [],
   "source": [
    "from keras.datasets import fashion_mnist\n",
    "# import the necessary packages\n",
    "from keras.models import Sequential\n",
    "import tensorflow as tf\n",
    "import keras\n",
    "import matplotlib.pyplot as plt\n",
    "from keras.layers.normalization import BatchNormalization\n",
    "from keras.layers.convolutional import Conv2D\n",
    "from keras.layers.convolutional import MaxPooling2D\n",
    "from keras.layers.core import Activation\n",
    "from keras.layers.core import Flatten\n",
    "from keras.layers.core import Dropout\n",
    "from keras.layers.core import Dense\n",
    "import keras"
   ]
  },
  {
   "cell_type": "markdown",
   "metadata": {
    "colab_type": "text",
    "id": "74cQBsi5QlCw",
    "slideshow": {
     "slide_type": "slide"
    }
   },
   "source": [
    "#### Collect Fashion mnist data from tf.keras.datasets "
   ]
  },
  {
   "cell_type": "code",
   "execution_count": 0,
   "metadata": {
    "colab": {},
    "colab_type": "code",
    "id": "wVWy0oDTr2Kj"
   },
   "outputs": [],
   "source": [
    "(x_train, y_train), (x_test, y_test) = fashion_mnist.load_data()"
   ]
  },
  {
   "cell_type": "markdown",
   "metadata": {
    "colab_type": "text",
    "id": "no7aWYZyQlC1",
    "slideshow": {
     "slide_type": "slide"
    }
   },
   "source": [
    "#### Change train and test labels into one-hot vectors"
   ]
  },
  {
   "cell_type": "code",
   "execution_count": 0,
   "metadata": {
    "colab": {},
    "colab_type": "code",
    "id": "UX6otc4wQlC2"
   },
   "outputs": [],
   "source": [
    "y_train = keras.utils.to_categorical(y_train,10)\n",
    "y_test= keras.utils.to_categorical(y_test,10)"
   ]
  },
  {
   "cell_type": "markdown",
   "metadata": {
    "colab_type": "text",
    "id": "QjNrRTdoQlC5",
    "slideshow": {
     "slide_type": "slide"
    }
   },
   "source": [
    "#### Build the Graph"
   ]
  },
  {
   "cell_type": "markdown",
   "metadata": {
    "colab_type": "text",
    "id": "CDJ9DHVNQlC7"
   },
   "source": [
    "#### Initialize model, reshape & normalize data"
   ]
  },
  {
   "cell_type": "code",
   "execution_count": 0,
   "metadata": {
    "colab": {},
    "colab_type": "code",
    "id": "ElmM_5s-nGX3"
   },
   "outputs": [],
   "source": [
    "\n",
    "model = tf.keras.models.Sequential()\n",
    "model.add(tf.keras.layers.Reshape((784,),input_shape=(28,28,)))\n",
    "model.add(tf.keras.layers.BatchNormalization())\n"
   ]
  },
  {
   "cell_type": "markdown",
   "metadata": {
    "colab_type": "text",
    "id": "kBGwTTilQlDD",
    "slideshow": {
     "slide_type": "slide"
    }
   },
   "source": [
    "#### Add two fully connected layers with 200 and 100 neurons respectively with `relu` activations. Add a dropout layer with `p=0.25`"
   ]
  },
  {
   "cell_type": "code",
   "execution_count": 0,
   "metadata": {
    "colab": {},
    "colab_type": "code",
    "id": "IXbfpfOzQlDF"
   },
   "outputs": [],
   "source": [
    "#Hidden layers\n",
    "model.add(tf.keras.layers.Dense(200, activation='relu', name='Layer_1'))\n",
    "model.add(tf.keras.layers.Dense(100, activation='relu', name='Layer_2'))\n",
    "\n",
    "#Dropout layer\n",
    "model.add(tf.keras.layers.Dropout(0.25))\n"
   ]
  },
  {
   "cell_type": "markdown",
   "metadata": {
    "colab_type": "text",
    "id": "5I8f5otcQlDJ"
   },
   "source": [
    "### Add the output layer with a fully connected layer with 10 neurons with `softmax` activation. Use `categorical_crossentropy` loss and `adam` optimizer and train the network. And, report the final validation."
   ]
  },
  {
   "cell_type": "code",
   "execution_count": 0,
   "metadata": {
    "colab": {},
    "colab_type": "code",
    "id": "JZkvKymSd0Sr"
   },
   "outputs": [],
   "source": [
    "#Output layer\n",
    "model.add(tf.keras.layers.Dense(10, activation='softmax', name='Output'))"
   ]
  },
  {
   "cell_type": "code",
   "execution_count": 0,
   "metadata": {
    "colab": {},
    "colab_type": "code",
    "id": "kw9xvrYqpBM5"
   },
   "outputs": [],
   "source": [
    "model.compile(optimizer='adam', loss='categorical_crossentropy', metrics=['accuracy'])"
   ]
  },
  {
   "cell_type": "code",
   "execution_count": 27,
   "metadata": {
    "colab": {
     "base_uri": "https://localhost:8080/",
     "height": 731
    },
    "colab_type": "code",
    "id": "Lur0_MKkpLpI",
    "outputId": "af109a31-65ae-4fba-8644-542fad5dcb2d"
   },
   "outputs": [
    {
     "name": "stdout",
     "output_type": "stream",
     "text": [
      "Train on 60000 samples, validate on 10000 samples\n",
      "Epoch 1/20\n",
      "60000/60000 [==============================] - 11s 182us/sample - loss: 0.2477 - acc: 0.9074 - val_loss: 0.3665 - val_acc: 0.8842\n",
      "Epoch 2/20\n",
      "60000/60000 [==============================] - 11s 186us/sample - loss: 0.2394 - acc: 0.9093 - val_loss: 0.4039 - val_acc: 0.8806\n",
      "Epoch 3/20\n",
      "60000/60000 [==============================] - 10s 173us/sample - loss: 0.2341 - acc: 0.9100 - val_loss: 0.3746 - val_acc: 0.8904\n",
      "Epoch 4/20\n",
      "60000/60000 [==============================] - 10s 172us/sample - loss: 0.2271 - acc: 0.9144 - val_loss: 0.3742 - val_acc: 0.8861\n",
      "Epoch 5/20\n",
      "60000/60000 [==============================] - 10s 173us/sample - loss: 0.2188 - acc: 0.9165 - val_loss: 0.3896 - val_acc: 0.8907\n",
      "Epoch 6/20\n",
      "60000/60000 [==============================] - 10s 173us/sample - loss: 0.2157 - acc: 0.9191 - val_loss: 0.3717 - val_acc: 0.8924\n",
      "Epoch 7/20\n",
      "60000/60000 [==============================] - 11s 177us/sample - loss: 0.2065 - acc: 0.9203 - val_loss: 0.4174 - val_acc: 0.8898\n",
      "Epoch 8/20\n",
      "60000/60000 [==============================] - 11s 176us/sample - loss: 0.2016 - acc: 0.9228 - val_loss: 0.3589 - val_acc: 0.8910\n",
      "Epoch 9/20\n",
      "60000/60000 [==============================] - 11s 177us/sample - loss: 0.1993 - acc: 0.9241 - val_loss: 0.3755 - val_acc: 0.8915\n",
      "Epoch 10/20\n",
      "60000/60000 [==============================] - 11s 175us/sample - loss: 0.1946 - acc: 0.9261 - val_loss: 0.4043 - val_acc: 0.8932\n",
      "Epoch 11/20\n",
      "60000/60000 [==============================] - 11s 185us/sample - loss: 0.1877 - acc: 0.9268 - val_loss: 0.4796 - val_acc: 0.8892\n",
      "Epoch 12/20\n",
      "60000/60000 [==============================] - 11s 176us/sample - loss: 0.1849 - acc: 0.9292 - val_loss: 0.4156 - val_acc: 0.8909\n",
      "Epoch 13/20\n",
      "60000/60000 [==============================] - 11s 177us/sample - loss: 0.1838 - acc: 0.9294 - val_loss: 0.4829 - val_acc: 0.8880\n",
      "Epoch 14/20\n",
      "60000/60000 [==============================] - 11s 176us/sample - loss: 0.1797 - acc: 0.9329 - val_loss: 0.4641 - val_acc: 0.8869\n",
      "Epoch 15/20\n",
      "60000/60000 [==============================] - 11s 177us/sample - loss: 0.1749 - acc: 0.9333 - val_loss: 0.4504 - val_acc: 0.8894\n",
      "Epoch 16/20\n",
      "60000/60000 [==============================] - 11s 178us/sample - loss: 0.1731 - acc: 0.9339 - val_loss: 0.4308 - val_acc: 0.8950\n",
      "Epoch 17/20\n",
      "60000/60000 [==============================] - 11s 179us/sample - loss: 0.1711 - acc: 0.9354 - val_loss: 0.5050 - val_acc: 0.8937\n",
      "Epoch 18/20\n",
      "60000/60000 [==============================] - 11s 177us/sample - loss: 0.1668 - acc: 0.9368 - val_loss: 0.5051 - val_acc: 0.8837\n",
      "Epoch 19/20\n",
      "60000/60000 [==============================] - 11s 179us/sample - loss: 0.1641 - acc: 0.9373 - val_loss: 0.4945 - val_acc: 0.8871\n",
      "Epoch 20/20\n",
      "60000/60000 [==============================] - 11s 178us/sample - loss: 0.1623 - acc: 0.9383 - val_loss: 0.5623 - val_acc: 0.8895\n"
     ]
    },
    {
     "data": {
      "text/plain": [
       "<tensorflow.python.keras.callbacks.History at 0x7f9951dc1cc0>"
      ]
     },
     "execution_count": 27,
     "metadata": {
      "tags": []
     },
     "output_type": "execute_result"
    }
   ],
   "source": [
    "#Train the model\n",
    "model.fit(x_train,y_train,          \n",
    "          validation_data=(x_test,y_test),\n",
    "          epochs=20,\n",
    "          batch_size=32)"
   ]
  },
  {
   "cell_type": "code",
   "execution_count": 28,
   "metadata": {
    "colab": {
     "base_uri": "https://localhost:8080/",
     "height": 51
    },
    "colab_type": "code",
    "id": "h2KSZ10WpXsv",
    "outputId": "b733859b-73b0-4239-8f0d-4d6bc7019cac"
   },
   "outputs": [
    {
     "name": "stdout",
     "output_type": "stream",
     "text": [
      "\n",
      " Test accuracy: 0.8895\n"
     ]
    }
   ],
   "source": [
    "# Evaluate the model on test set\n",
    "score = model.evaluate(x_test, y_test, verbose=0)\n",
    "# Print test accuracy\n",
    "print('\\n', 'Test accuracy:', score[1])"
   ]
  },
  {
   "cell_type": "code",
   "execution_count": 29,
   "metadata": {
    "colab": {
     "base_uri": "https://localhost:8080/",
     "height": 51
    },
    "colab_type": "code",
    "id": "X_NdCxLEsLmo",
    "outputId": "591fd742-ae32-468e-9bcc-5d00956a1f6d"
   },
   "outputs": [
    {
     "name": "stdout",
     "output_type": "stream",
     "text": [
      "\n",
      " Test accuracy: 0.95411664\n"
     ]
    }
   ],
   "source": [
    "# Evaluate the model on test set\n",
    "score = model.evaluate(x_train, y_train, verbose=0)\n",
    "# Print test accuracy\n",
    "print('\\n', 'Test accuracy:', score[1])"
   ]
  },
  {
   "cell_type": "code",
   "execution_count": 0,
   "metadata": {
    "colab": {},
    "colab_type": "code",
    "id": "8kMw41h_sXF-"
   },
   "outputs": [],
   "source": []
  }
 ],
 "metadata": {
  "colab": {
   "collapsed_sections": [],
   "name": "Updated_R7_ExternalLab_Questions.ipynb",
   "provenance": [],
   "version": "0.3.2"
  },
  "kernelspec": {
   "display_name": "Python 3",
   "language": "python",
   "name": "python3"
  },
  "language_info": {
   "codemirror_mode": {
    "name": "ipython",
    "version": 3
   },
   "file_extension": ".py",
   "mimetype": "text/x-python",
   "name": "python",
   "nbconvert_exporter": "python",
   "pygments_lexer": "ipython3",
   "version": "3.7.1"
  }
 },
 "nbformat": 4,
 "nbformat_minor": 1
}
