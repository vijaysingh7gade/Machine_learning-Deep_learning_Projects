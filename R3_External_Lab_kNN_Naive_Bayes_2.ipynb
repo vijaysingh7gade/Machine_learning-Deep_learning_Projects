{
 "cells": [
  {
   "cell_type": "code",
   "execution_count": 0,
   "metadata": {
    "colab": {},
    "colab_type": "code",
    "id": "tgurv7cNHunL",
    "scrolled": false
   },
   "outputs": [],
   "source": [
    "import warnings \n",
    "warnings.filterwarnings('ignore')"
   ]
  },
  {
   "cell_type": "markdown",
   "metadata": {
    "colab_type": "text",
    "id": "rrfjYa2HHunT"
   },
   "source": [
    "## K-Nearest-Neighbors"
   ]
  },
  {
   "cell_type": "markdown",
   "metadata": {
    "colab_type": "text",
    "id": "Apk3bnmwHunW"
   },
   "source": [
    "KNN falls in the supervised learning family of algorithms. Informally, this means that we are given a labelled dataset consiting of training observations (x,y) and would like to capture the relationship between x and y. More formally, our goal is to learn a function h:X→Y so that given an unseen observation x, h(x) can confidently predict the corresponding output y.\n",
    "\n",
    "In this module we will explore the inner workings of KNN, choosing the optimal K values and using KNN from scikit-learn."
   ]
  },
  {
   "cell_type": "markdown",
   "metadata": {
    "colab_type": "text",
    "id": "mezpuK1ZHunX"
   },
   "source": [
    "## Overview\n",
    "\n",
    "1.Read the problem statement.\n",
    "\n",
    "2.Get the dataset.\n",
    "\n",
    "3.Explore the dataset.\n",
    "\n",
    "4.Pre-processing of dataset.\n",
    "\n",
    "5.Visualization\n",
    "\n",
    "6.Transform the dataset for building machine learning model.\n",
    "\n",
    "7.Split data into train, test set.\n",
    "\n",
    "7.Build Model.\n",
    "\n",
    "8.Apply the model.\n",
    "\n",
    "9.Evaluate the model.\n",
    "\n",
    "10.Finding Optimal K value\n",
    "\n",
    "11.Repeat 7,8,9 steps."
   ]
  },
  {
   "cell_type": "markdown",
   "metadata": {
    "colab_type": "text",
    "id": "6SA8iHIbHunZ"
   },
   "source": [
    "## Problem statement\n",
    "\n",
    "### Dataset\n",
    "\n",
    "The data set we’ll be using is the Iris Flower Dataset which was first introduced in 1936 by the famous statistician Ronald Fisher and consists of 50 observations from each of three species of Iris (Iris setosa, Iris virginica and Iris versicolor). Four features were measured from each sample: the length and the width of the sepals and petals.\n",
    "\n",
    "**Attributes of the dataset:** https://archive.ics.uci.edu/ml/datasets/Iris\n",
    "\n",
    "**Train the KNN algorithm to be able to distinguish the species from one another given the measurements of the 4 features.**"
   ]
  },
  {
   "cell_type": "markdown",
   "metadata": {
    "colab_type": "text",
    "id": "-wa55vNkHuna"
   },
   "source": [
    "## Question 1\n",
    "\n",
    "Import the data set and print 10 random rows from the data set"
   ]
  },
  {
   "cell_type": "code",
   "execution_count": 400,
   "metadata": {},
   "outputs": [],
   "source": [
    "#Import all the necessary modules\n",
    "import pandas as pd\n",
    "import numpy as np\n",
    "from sklearn.model_selection import train_test_split\n",
    "from sklearn.naive_bayes import GaussianNB\n",
    "from sklearn.neighbors import KNeighborsClassifier\n",
    "from sklearn.preprocessing import StandardScaler,minmax_scale\n",
    "from sklearn import model_selection\n",
    "from sklearn import metrics\n",
    "from scipy.stats import zscore\n",
    "\n",
    "from sklearn.metrics import accuracy_score, confusion_matrix, recall_score, precision_score, auc, roc_curve\n",
    "# importing ploting libraries\n",
    "import matplotlib.pyplot as plt   \n",
    "#importing seaborn for statistical plots\n",
    "import seaborn as sns\n",
    "# To enable plotting graphs in Jupyter notebook\n",
    "%matplotlib inline "
   ]
  },
  {
   "cell_type": "code",
   "execution_count": 401,
   "metadata": {
    "colab": {},
    "colab_type": "code",
    "id": "sRB61Z9rHunc"
   },
   "outputs": [
    {
     "data": {
      "text/html": [
       "<div>\n",
       "<style scoped>\n",
       "    .dataframe tbody tr th:only-of-type {\n",
       "        vertical-align: middle;\n",
       "    }\n",
       "\n",
       "    .dataframe tbody tr th {\n",
       "        vertical-align: top;\n",
       "    }\n",
       "\n",
       "    .dataframe thead th {\n",
       "        text-align: right;\n",
       "    }\n",
       "</style>\n",
       "<table border=\"1\" class=\"dataframe\">\n",
       "  <thead>\n",
       "    <tr style=\"text-align: right;\">\n",
       "      <th></th>\n",
       "      <th>Sepal Length (in cm)</th>\n",
       "      <th>Sepal Width in (cm)</th>\n",
       "      <th>Petal length (in cm)</th>\n",
       "      <th>Petal width (in cm)</th>\n",
       "      <th>Class</th>\n",
       "    </tr>\n",
       "  </thead>\n",
       "  <tbody>\n",
       "    <tr>\n",
       "      <th>68</th>\n",
       "      <td>6.2</td>\n",
       "      <td>2.2</td>\n",
       "      <td>4.5</td>\n",
       "      <td>1.5</td>\n",
       "      <td>Iris-versicolor</td>\n",
       "    </tr>\n",
       "    <tr>\n",
       "      <th>8</th>\n",
       "      <td>4.4</td>\n",
       "      <td>2.9</td>\n",
       "      <td>1.4</td>\n",
       "      <td>0.2</td>\n",
       "      <td>Iris-setosa</td>\n",
       "    </tr>\n",
       "    <tr>\n",
       "      <th>22</th>\n",
       "      <td>4.6</td>\n",
       "      <td>3.6</td>\n",
       "      <td>1.0</td>\n",
       "      <td>0.2</td>\n",
       "      <td>Iris-setosa</td>\n",
       "    </tr>\n",
       "    <tr>\n",
       "      <th>46</th>\n",
       "      <td>5.1</td>\n",
       "      <td>3.8</td>\n",
       "      <td>1.6</td>\n",
       "      <td>0.2</td>\n",
       "      <td>Iris-setosa</td>\n",
       "    </tr>\n",
       "    <tr>\n",
       "      <th>6</th>\n",
       "      <td>4.6</td>\n",
       "      <td>3.4</td>\n",
       "      <td>1.4</td>\n",
       "      <td>0.3</td>\n",
       "      <td>Iris-setosa</td>\n",
       "    </tr>\n",
       "    <tr>\n",
       "      <th>23</th>\n",
       "      <td>5.1</td>\n",
       "      <td>3.3</td>\n",
       "      <td>1.7</td>\n",
       "      <td>0.5</td>\n",
       "      <td>Iris-setosa</td>\n",
       "    </tr>\n",
       "    <tr>\n",
       "      <th>55</th>\n",
       "      <td>5.7</td>\n",
       "      <td>2.8</td>\n",
       "      <td>4.5</td>\n",
       "      <td>1.3</td>\n",
       "      <td>Iris-versicolor</td>\n",
       "    </tr>\n",
       "    <tr>\n",
       "      <th>37</th>\n",
       "      <td>4.9</td>\n",
       "      <td>3.1</td>\n",
       "      <td>1.5</td>\n",
       "      <td>0.1</td>\n",
       "      <td>Iris-setosa</td>\n",
       "    </tr>\n",
       "    <tr>\n",
       "      <th>139</th>\n",
       "      <td>6.9</td>\n",
       "      <td>3.1</td>\n",
       "      <td>5.4</td>\n",
       "      <td>2.1</td>\n",
       "      <td>Iris-virginica</td>\n",
       "    </tr>\n",
       "    <tr>\n",
       "      <th>104</th>\n",
       "      <td>6.5</td>\n",
       "      <td>3.0</td>\n",
       "      <td>5.8</td>\n",
       "      <td>2.2</td>\n",
       "      <td>Iris-virginica</td>\n",
       "    </tr>\n",
       "  </tbody>\n",
       "</table>\n",
       "</div>"
      ],
      "text/plain": [
       "     Sepal Length (in cm)  Sepal Width in (cm)  Petal length (in cm)  \\\n",
       "68                    6.2                  2.2                   4.5   \n",
       "8                     4.4                  2.9                   1.4   \n",
       "22                    4.6                  3.6                   1.0   \n",
       "46                    5.1                  3.8                   1.6   \n",
       "6                     4.6                  3.4                   1.4   \n",
       "23                    5.1                  3.3                   1.7   \n",
       "55                    5.7                  2.8                   4.5   \n",
       "37                    4.9                  3.1                   1.5   \n",
       "139                   6.9                  3.1                   5.4   \n",
       "104                   6.5                  3.0                   5.8   \n",
       "\n",
       "     Petal width (in cm)            Class  \n",
       "68                   1.5  Iris-versicolor  \n",
       "8                    0.2      Iris-setosa  \n",
       "22                   0.2      Iris-setosa  \n",
       "46                   0.2      Iris-setosa  \n",
       "6                    0.3      Iris-setosa  \n",
       "23                   0.5      Iris-setosa  \n",
       "55                   1.3  Iris-versicolor  \n",
       "37                   0.1      Iris-setosa  \n",
       "139                  2.1   Iris-virginica  \n",
       "104                  2.2   Iris-virginica  "
      ]
     },
     "execution_count": 401,
     "metadata": {},
     "output_type": "execute_result"
    }
   ],
   "source": [
    "df=pd.read_csv(\"E:/python basics/External lab resideny 3/Iris.csv\")\n",
    "df.sample(10)"
   ]
  },
  {
   "cell_type": "markdown",
   "metadata": {
    "colab_type": "text",
    "id": "b9C0p94MHunh"
   },
   "source": [
    "## Data Pre-processing"
   ]
  },
  {
   "cell_type": "markdown",
   "metadata": {
    "colab_type": "text",
    "id": "jGECp-6FHunj"
   },
   "source": [
    "## Question 2 - Estimating missing values\n",
    "\n",
    "*Its not good to remove the records having missing values all the time. We may end up loosing some data points. So, we will have to see how to replace those missing values with some estimated values (median) *"
   ]
  },
  {
   "cell_type": "code",
   "execution_count": 402,
   "metadata": {
    "colab": {},
    "colab_type": "code",
    "id": "O_dYSD1zHunl"
   },
   "outputs": [],
   "source": [
    "df['Sepal Length (in cm)']=df['Sepal Length (in cm)'].replace(0,df['Sepal Length (in cm)'].median())\n",
    "df['Sepal Width in (cm)']=df['Sepal Width in (cm)'].replace(0,df['Sepal Width in (cm)'].median())\n",
    "df['Petal length (in cm)']=df['Petal length (in cm)'].replace(0,df['Petal length (in cm)'].median())\n",
    "df['Petal width (in cm)']=df['Petal width (in cm)'].replace(0,df['Petal width (in cm)'].median())"
   ]
  },
  {
   "cell_type": "markdown",
   "metadata": {
    "colab_type": "text",
    "id": "Lzf0ZdGMHunq"
   },
   "source": [
    "## Question 3 - Dealing with categorical data\n",
    "\n",
    "Change all the classes to numericals (0to2)."
   ]
  },
  {
   "cell_type": "code",
   "execution_count": 403,
   "metadata": {
    "colab": {},
    "colab_type": "code",
    "id": "C6rpSp2yHuns"
   },
   "outputs": [
    {
     "data": {
      "text/plain": [
       "Index(['Sepal Length (in cm)', 'Sepal Width in (cm)', 'Petal length (in cm)',\n",
       "       'Petal width (in cm)', 'Class_Iris-setosa', 'Class_Iris-versicolor',\n",
       "       'Class_Iris-virginica'],\n",
       "      dtype='object')"
      ]
     },
     "execution_count": 403,
     "metadata": {},
     "output_type": "execute_result"
    }
   ],
   "source": [
    "yinfo=pd.get_dummies(df['Class'])\n",
    "df=pd.get_dummies(df)\n",
    "df.columns"
   ]
  },
  {
   "cell_type": "markdown",
   "metadata": {
    "colab_type": "text",
    "id": "GdXGD0yAHunx"
   },
   "source": [
    "## Question 4\n",
    "\n",
    "*Observe the association of each independent variable with target variable and drop variables from feature set having correlation in range -0.1 to 0.1 with target variable.*"
   ]
  },
  {
   "cell_type": "code",
   "execution_count": 404,
   "metadata": {
    "colab": {},
    "colab_type": "code",
    "id": "UP3Cxwj3Huny"
   },
   "outputs": [
    {
     "data": {
      "text/html": [
       "<div>\n",
       "<style scoped>\n",
       "    .dataframe tbody tr th:only-of-type {\n",
       "        vertical-align: middle;\n",
       "    }\n",
       "\n",
       "    .dataframe tbody tr th {\n",
       "        vertical-align: top;\n",
       "    }\n",
       "\n",
       "    .dataframe thead th {\n",
       "        text-align: right;\n",
       "    }\n",
       "</style>\n",
       "<table border=\"1\" class=\"dataframe\">\n",
       "  <thead>\n",
       "    <tr style=\"text-align: right;\">\n",
       "      <th></th>\n",
       "      <th>Sepal Length (in cm)</th>\n",
       "      <th>Sepal Width in (cm)</th>\n",
       "      <th>Petal length (in cm)</th>\n",
       "      <th>Petal width (in cm)</th>\n",
       "      <th>Class_Iris-setosa</th>\n",
       "      <th>Class_Iris-versicolor</th>\n",
       "      <th>Class_Iris-virginica</th>\n",
       "    </tr>\n",
       "  </thead>\n",
       "  <tbody>\n",
       "    <tr>\n",
       "      <th>Sepal Length (in cm)</th>\n",
       "      <td>1.000000</td>\n",
       "      <td>-0.109369</td>\n",
       "      <td>0.871754</td>\n",
       "      <td>0.817954</td>\n",
       "      <td>-0.717416</td>\n",
       "      <td>0.079396</td>\n",
       "      <td>0.638020</td>\n",
       "    </tr>\n",
       "    <tr>\n",
       "      <th>Sepal Width in (cm)</th>\n",
       "      <td>-0.109369</td>\n",
       "      <td>1.000000</td>\n",
       "      <td>-0.420516</td>\n",
       "      <td>-0.356544</td>\n",
       "      <td>0.595601</td>\n",
       "      <td>-0.464700</td>\n",
       "      <td>-0.130901</td>\n",
       "    </tr>\n",
       "    <tr>\n",
       "      <th>Petal length (in cm)</th>\n",
       "      <td>0.871754</td>\n",
       "      <td>-0.420516</td>\n",
       "      <td>1.000000</td>\n",
       "      <td>0.962757</td>\n",
       "      <td>-0.922688</td>\n",
       "      <td>0.201587</td>\n",
       "      <td>0.721102</td>\n",
       "    </tr>\n",
       "    <tr>\n",
       "      <th>Petal width (in cm)</th>\n",
       "      <td>0.817954</td>\n",
       "      <td>-0.356544</td>\n",
       "      <td>0.962757</td>\n",
       "      <td>1.000000</td>\n",
       "      <td>-0.887510</td>\n",
       "      <td>0.118376</td>\n",
       "      <td>0.769134</td>\n",
       "    </tr>\n",
       "    <tr>\n",
       "      <th>Class_Iris-setosa</th>\n",
       "      <td>-0.717416</td>\n",
       "      <td>0.595601</td>\n",
       "      <td>-0.922688</td>\n",
       "      <td>-0.887510</td>\n",
       "      <td>1.000000</td>\n",
       "      <td>-0.500000</td>\n",
       "      <td>-0.500000</td>\n",
       "    </tr>\n",
       "    <tr>\n",
       "      <th>Class_Iris-versicolor</th>\n",
       "      <td>0.079396</td>\n",
       "      <td>-0.464700</td>\n",
       "      <td>0.201587</td>\n",
       "      <td>0.118376</td>\n",
       "      <td>-0.500000</td>\n",
       "      <td>1.000000</td>\n",
       "      <td>-0.500000</td>\n",
       "    </tr>\n",
       "    <tr>\n",
       "      <th>Class_Iris-virginica</th>\n",
       "      <td>0.638020</td>\n",
       "      <td>-0.130901</td>\n",
       "      <td>0.721102</td>\n",
       "      <td>0.769134</td>\n",
       "      <td>-0.500000</td>\n",
       "      <td>-0.500000</td>\n",
       "      <td>1.000000</td>\n",
       "    </tr>\n",
       "  </tbody>\n",
       "</table>\n",
       "</div>"
      ],
      "text/plain": [
       "                       Sepal Length (in cm)  Sepal Width in (cm)  \\\n",
       "Sepal Length (in cm)               1.000000            -0.109369   \n",
       "Sepal Width in (cm)               -0.109369             1.000000   \n",
       "Petal length (in cm)               0.871754            -0.420516   \n",
       "Petal width (in cm)                0.817954            -0.356544   \n",
       "Class_Iris-setosa                 -0.717416             0.595601   \n",
       "Class_Iris-versicolor              0.079396            -0.464700   \n",
       "Class_Iris-virginica               0.638020            -0.130901   \n",
       "\n",
       "                       Petal length (in cm)  Petal width (in cm)  \\\n",
       "Sepal Length (in cm)               0.871754             0.817954   \n",
       "Sepal Width in (cm)               -0.420516            -0.356544   \n",
       "Petal length (in cm)               1.000000             0.962757   \n",
       "Petal width (in cm)                0.962757             1.000000   \n",
       "Class_Iris-setosa                 -0.922688            -0.887510   \n",
       "Class_Iris-versicolor              0.201587             0.118376   \n",
       "Class_Iris-virginica               0.721102             0.769134   \n",
       "\n",
       "                       Class_Iris-setosa  Class_Iris-versicolor  \\\n",
       "Sepal Length (in cm)           -0.717416               0.079396   \n",
       "Sepal Width in (cm)             0.595601              -0.464700   \n",
       "Petal length (in cm)           -0.922688               0.201587   \n",
       "Petal width (in cm)            -0.887510               0.118376   \n",
       "Class_Iris-setosa               1.000000              -0.500000   \n",
       "Class_Iris-versicolor          -0.500000               1.000000   \n",
       "Class_Iris-virginica           -0.500000              -0.500000   \n",
       "\n",
       "                       Class_Iris-virginica  \n",
       "Sepal Length (in cm)               0.638020  \n",
       "Sepal Width in (cm)               -0.130901  \n",
       "Petal length (in cm)               0.721102  \n",
       "Petal width (in cm)                0.769134  \n",
       "Class_Iris-setosa                 -0.500000  \n",
       "Class_Iris-versicolor             -0.500000  \n",
       "Class_Iris-virginica               1.000000  "
      ]
     },
     "execution_count": 404,
     "metadata": {},
     "output_type": "execute_result"
    }
   ],
   "source": [
    "df.corr()"
   ]
  },
  {
   "cell_type": "code",
   "execution_count": 405,
   "metadata": {},
   "outputs": [
    {
     "name": "stdout",
     "output_type": "stream",
     "text": [
      "<class 'pandas.core.frame.DataFrame'>\n",
      "RangeIndex: 150 entries, 0 to 149\n",
      "Data columns (total 6 columns):\n",
      "Sepal Width in (cm)      150 non-null float64\n",
      "Petal length (in cm)     150 non-null float64\n",
      "Petal width (in cm)      150 non-null float64\n",
      "Class_Iris-setosa        150 non-null uint8\n",
      "Class_Iris-versicolor    150 non-null uint8\n",
      "Class_Iris-virginica     150 non-null uint8\n",
      "dtypes: float64(3), uint8(3)\n",
      "memory usage: 4.0 KB\n"
     ]
    }
   ],
   "source": [
    "df.drop(['Sepal Length (in cm)'],axis=1,inplace=True)\n",
    "df.info()"
   ]
  },
  {
   "cell_type": "markdown",
   "metadata": {
    "colab_type": "text",
    "id": "oQ0XwK2qHun4"
   },
   "source": [
    "## Question 5\n",
    "\n",
    "*Observe the independent variables variance and drop such variables having no variance or almost zero variance(variance < 0.1). They will be having almost no influence on the classification.*"
   ]
  },
  {
   "cell_type": "code",
   "execution_count": 406,
   "metadata": {
    "colab": {},
    "colab_type": "code",
    "id": "jzVVZN2MHun7"
   },
   "outputs": [
    {
     "name": "stdout",
     "output_type": "stream",
     "text": [
      "Sepal Width in (cm)    False\n",
      "dtype: bool\n",
      "Petal length (in cm)    False\n",
      "dtype: bool\n",
      "Petal width (in cm)    False\n",
      "dtype: bool\n"
     ]
    }
   ],
   "source": [
    "print(df.iloc[:,0:1].var() < 0.1)\n",
    "print(df.iloc[:,1:2].var() < 0.1)\n",
    "print(df.iloc[:,2:3].var() < 0.1)\n",
    "# No independent columns variance < 0.1"
   ]
  },
  {
   "cell_type": "markdown",
   "metadata": {
    "colab_type": "text",
    "id": "H7Ajl_WfHuoB"
   },
   "source": [
    "## Question 6\n",
    "\n",
    "*Plot the scatter matrix for all the variables.*"
   ]
  },
  {
   "cell_type": "code",
   "execution_count": 407,
   "metadata": {
    "colab": {},
    "colab_type": "code",
    "id": "np7YAIF8HuoC"
   },
   "outputs": [
    {
     "data": {
      "text/plain": [
       "<matplotlib.collections.PathCollection at 0x231563b3940>"
      ]
     },
     "execution_count": 407,
     "metadata": {},
     "output_type": "execute_result"
    },
    {
     "data": {
      "image/png": "[encoded data removed]",
      "text/plain": [
       "<Figure size 432x288 with 1 Axes>"
      ]
     },
     "metadata": {
      "needs_background": "light"
     },
     "output_type": "display_data"
    }
   ],
   "source": [
    "x = df[['Class_Iris-versicolor','Class_Iris-setosa','Class_Iris-virginica']]\n",
    "y = df[['Sepal Width in (cm)','Petal length (in cm)','Petal width (in cm)']]\n",
    "plt.scatter(x,y)\n"
   ]
  },
  {
   "cell_type": "markdown",
   "metadata": {
    "colab_type": "text",
    "id": "86y0-5mUHuoK"
   },
   "source": [
    "## Split the dataset into training and test sets\n",
    "\n",
    "## Question 7\n",
    "\n",
    "*Split the dataset into training and test sets with 80-20 ratio.*"
   ]
  },
  {
   "cell_type": "code",
   "execution_count": 408,
   "metadata": {
    "colab": {},
    "colab_type": "code",
    "id": "ucaAL9l0HuoM"
   },
   "outputs": [],
   "source": [
    "y = yinfo\n",
    "X = df[['Sepal Width in (cm)','Petal length (in cm)','Petal width (in cm)']]"
   ]
  },
  {
   "cell_type": "code",
   "execution_count": 409,
   "metadata": {},
   "outputs": [],
   "source": [
    "test_size = 0.20 # taking 80:20 training and test set\n",
    "seed = 7  # Random numbmer seeding for reapeatability of the code\n",
    "X_train, X_test, y_train, y_test = train_test_split(X, y, test_size=test_size, random_state=seed)"
   ]
  },
  {
   "cell_type": "code",
   "execution_count": null,
   "metadata": {},
   "outputs": [],
   "source": []
  },
  {
   "cell_type": "markdown",
   "metadata": {
    "colab_type": "text",
    "id": "0NBIs8ryHuoS"
   },
   "source": [
    "## Question 8 - Model\n",
    "\n",
    "*Build the model and train and test on training and test sets respectively using **scikit-learn**. Print the Accuracy of the model with different values of **k=3,5,9**.*\n",
    "\n",
    "**Hint:** For accuracy you can check **accuracy_score()** in scikit-learn"
   ]
  },
  {
   "cell_type": "code",
   "execution_count": 410,
   "metadata": {
    "colab": {},
    "colab_type": "code",
    "id": "SyAgXdpmHuoU"
   },
   "outputs": [
    {
     "name": "stdout",
     "output_type": "stream",
     "text": [
      "0.9\n"
     ]
    }
   ],
   "source": [
    "NNH = KNeighborsClassifier(n_neighbors=3)\n",
    "NNH.fit(X_train,y_train)\n",
    "flower_pred=NNH.predict(X_test)\n",
    "score=NNH.score(X_test,y_test)\n",
    "print(score)"
   ]
  },
  {
   "cell_type": "code",
   "execution_count": null,
   "metadata": {},
   "outputs": [],
   "source": []
  },
  {
   "cell_type": "code",
   "execution_count": 411,
   "metadata": {},
   "outputs": [
    {
     "data": {
      "text/plain": [
       "0.8666666666666667"
      ]
     },
     "execution_count": 411,
     "metadata": {},
     "output_type": "execute_result"
    }
   ],
   "source": [
    "NNH = KNeighborsClassifier(n_neighbors=5)\n",
    "NNH.fit(X_train,y_train)\n",
    "flower_pred=NNH.predict(X_test)\n",
    "NNH.score(X_test,y_test)"
   ]
  },
  {
   "cell_type": "code",
   "execution_count": null,
   "metadata": {},
   "outputs": [],
   "source": []
  },
  {
   "cell_type": "code",
   "execution_count": 412,
   "metadata": {},
   "outputs": [
    {
     "data": {
      "text/plain": [
       "0.8666666666666667"
      ]
     },
     "execution_count": 412,
     "metadata": {},
     "output_type": "execute_result"
    }
   ],
   "source": [
    "NNH = KNeighborsClassifier(n_neighbors=9)\n",
    "NNH.fit(X_train,y_train)\n",
    "flower_pred=NNH.predict(X_test)\n",
    "NNH.score(X_test,y_test)"
   ]
  },
  {
   "cell_type": "code",
   "execution_count": null,
   "metadata": {},
   "outputs": [],
   "source": []
  },
  {
   "cell_type": "markdown",
   "metadata": {
    "colab_type": "text",
    "id": "SsPnubVeHuoY"
   },
   "source": [
    "## Question 9 - Cross Validation\n",
    "\n",
    "Run the KNN with no of neighbours to be 1,3,5..19 and *Find the **optimal number of neighbours** from the above list using the Mis classification error"
   ]
  },
  {
   "cell_type": "markdown",
   "metadata": {
    "colab_type": "text",
    "id": "jY6Vy-IjHuoZ"
   },
   "source": [
    "Hint:\n",
    "\n",
    "Misclassification error (MSE) = 1 - Test accuracy score. Calculated MSE for each model with neighbours = 1,3,5...19 and find the model with lowest MSE"
   ]
  },
  {
   "cell_type": "code",
   "execution_count": 413,
   "metadata": {
    "colab": {},
    "colab_type": "code",
    "id": "L3RcCZTxHuob"
   },
   "outputs": [
    {
     "name": "stdout",
     "output_type": "stream",
     "text": [
      "The Model score 0.9333333333333333 with neighbour 13 and lowest MSE  is : 0.06666666666666665 \n"
     ]
    }
   ],
   "source": [
    "optimal_MSE=0;\n",
    "score_optimal =0;\n",
    "MSE_ALL=[]\n",
    "NNH = KNeighborsClassifier(n_neighbors=1)\n",
    "NNH.fit(X_train,y_train)\n",
    "flower_pred = NNH.predict(X_test)\n",
    "score = NNH.score(X_test,y_test)\n",
    "MSE= 1 - score\n",
    "index =1\n",
    "NNHI=0    \n",
    "for i in np.arange(2,20):\n",
    "    NNHI = KNeighborsClassifier(n_neighbors=i)\n",
    "    NNHI.fit(X_train,y_train)\n",
    "    flower_pred = NNHI.predict(X_test)\n",
    "    score = NNHI.score(X_test,y_test)\n",
    "    lowest_MSE = 1 - score\n",
    "    MSE_ALL.append(MSE)\n",
    "    if(MSE > lowest_MSE):\n",
    "        MSE = lowest_MSE\n",
    "        index=i\n",
    "        score_optimal = NNHI.score(X_test,y_test)\n",
    "        \n",
    "print(\"The Model score {0} with neighbour {1} and lowest MSE  is : {2} \".format(score_optimal,index,MSE))        \n"
   ]
  },
  {
   "cell_type": "markdown",
   "metadata": {
    "colab_type": "text",
    "id": "qPj4qKLdHuog"
   },
   "source": [
    "## Question 10\n",
    "\n",
    "*Plot misclassification error vs k (with k value on X-axis) using matplotlib.*"
   ]
  },
  {
   "cell_type": "code",
   "execution_count": 414,
   "metadata": {
    "colab": {},
    "colab_type": "code",
    "id": "DkO_m64YHuoh"
   },
   "outputs": [
    {
     "data": {
      "text/plain": [
       "<matplotlib.axes._subplots.AxesSubplot at 0x23156480ac8>"
      ]
     },
     "execution_count": 414,
     "metadata": {},
     "output_type": "execute_result"
    },
    {
     "data": {
      "image/png": "[encoded data removed]",
      "text/plain": [
       "<Figure size 432x288 with 1 Axes>"
      ]
     },
     "metadata": {
      "needs_background": "light"
     },
     "output_type": "display_data"
    }
   ],
   "source": [
    "curve=pd.DataFrame(MSE_ALL)        \n",
    "curve.plot()\n",
    "\n",
    "\n"
   ]
  },
  {
   "cell_type": "markdown",
   "metadata": {
    "colab_type": "text",
    "id": "v6sXbH93Huol"
   },
   "source": [
    "# Naive Bayes with Iris Data"
   ]
  },
  {
   "cell_type": "code",
   "execution_count": 415,
   "metadata": {
    "colab": {},
    "colab_type": "code",
    "id": "Fwgqcy8iHuon"
   },
   "outputs": [],
   "source": [
    "#Load all required library\n",
    "import pandas as pd\n",
    "import numpy as np\n",
    "from matplotlib import pyplot as plt\n",
    "%matplotlib inline\n",
    "from sklearn import datasets\n",
    "from sklearn.decomposition import PCA\n",
    "from sklearn.naive_bayes import GaussianNB, BernoulliNB, MultinomialNB"
   ]
  },
  {
   "cell_type": "markdown",
   "metadata": {
    "colab_type": "text",
    "id": "mSUZN0ExHuot"
   },
   "source": [
    "### Slice  Iris data set for Independent variables and dependent variables\n",
    "#### Please note 'Species' is my dependent variables, name it y and independent set data as X"
   ]
  },
  {
   "cell_type": "code",
   "execution_count": 416,
   "metadata": {
    "colab": {},
    "colab_type": "code",
    "id": "MtjTNX6bHuov"
   },
   "outputs": [
    {
     "name": "stdout",
     "output_type": "stream",
     "text": [
      "<class 'pandas.core.frame.DataFrame'>\n",
      "RangeIndex: 150 entries, 0 to 149\n",
      "Data columns (total 6 columns):\n",
      "Sepal Length (in cm)     150 non-null float64\n",
      "Sepal Width in (cm)      150 non-null float64\n",
      "Petal length (in cm)     150 non-null float64\n",
      "Petal width (in cm)      150 non-null float64\n",
      "Class_Iris-versicolor    150 non-null uint8\n",
      "Class_Iris-virginica     150 non-null uint8\n",
      "dtypes: float64(4), uint8(2)\n",
      "memory usage: 5.1 KB\n"
     ]
    }
   ],
   "source": [
    "df=pd.read_csv(\"E:/python basics/External lab resideny 3/Iris.csv\")\n",
    "df1=df\n",
    "df=pd.get_dummies(df,drop_first=True)\n",
    "\n",
    "y = df[['Class_Iris-versicolor']]\n",
    "X = df[['Sepal Width in (cm)','Petal length (in cm)','Petal width (in cm)','Class_Iris-virginica']]\n",
    "df.info()"
   ]
  },
  {
   "cell_type": "code",
   "execution_count": 417,
   "metadata": {
    "colab": {},
    "colab_type": "code",
    "id": "z4oZginZHuo2"
   },
   "outputs": [
    {
     "name": "stdout",
     "output_type": "stream",
     "text": [
      "     Class_Iris-versicolor\n",
      "0                        0\n",
      "1                        0\n",
      "2                        0\n",
      "3                        0\n",
      "4                        0\n",
      "5                        0\n",
      "6                        0\n",
      "7                        0\n",
      "8                        0\n",
      "9                        0\n",
      "10                       0\n",
      "11                       0\n",
      "12                       0\n",
      "13                       0\n",
      "14                       0\n",
      "15                       0\n",
      "16                       0\n",
      "17                       0\n",
      "18                       0\n",
      "19                       0\n",
      "20                       0\n",
      "21                       0\n",
      "22                       0\n",
      "23                       0\n",
      "24                       0\n",
      "25                       0\n",
      "26                       0\n",
      "27                       0\n",
      "28                       0\n",
      "29                       0\n",
      "..                     ...\n",
      "120                      0\n",
      "121                      0\n",
      "122                      0\n",
      "123                      0\n",
      "124                      0\n",
      "125                      0\n",
      "126                      0\n",
      "127                      0\n",
      "128                      0\n",
      "129                      0\n",
      "130                      0\n",
      "131                      0\n",
      "132                      0\n",
      "133                      0\n",
      "134                      0\n",
      "135                      0\n",
      "136                      0\n",
      "137                      0\n",
      "138                      0\n",
      "139                      0\n",
      "140                      0\n",
      "141                      0\n",
      "142                      0\n",
      "143                      0\n",
      "144                      0\n",
      "145                      0\n",
      "146                      0\n",
      "147                      0\n",
      "148                      0\n",
      "149                      0\n",
      "\n",
      "[150 rows x 1 columns]\n",
      "     Sepal Width in (cm)  Petal length (in cm)  Petal width (in cm)  \\\n",
      "0                    3.5                   1.4                  0.2   \n",
      "1                    3.0                   1.4                  0.2   \n",
      "2                    3.2                   1.3                  0.2   \n",
      "3                    3.1                   1.5                  0.2   \n",
      "4                    3.6                   1.4                  0.2   \n",
      "5                    3.9                   1.7                  0.4   \n",
      "6                    3.4                   1.4                  0.3   \n",
      "7                    3.4                   1.5                  0.2   \n",
      "8                    2.9                   1.4                  0.2   \n",
      "9                    3.1                   1.5                  0.1   \n",
      "10                   3.7                   1.5                  0.2   \n",
      "11                   3.4                   1.6                  0.2   \n",
      "12                   3.0                   1.4                  0.1   \n",
      "13                   3.0                   1.1                  0.1   \n",
      "14                   4.0                   1.2                  0.2   \n",
      "15                   4.4                   1.5                  0.4   \n",
      "16                   3.9                   1.3                  0.4   \n",
      "17                   3.5                   1.4                  0.3   \n",
      "18                   3.8                   1.7                  0.3   \n",
      "19                   3.8                   1.5                  0.3   \n",
      "20                   3.4                   1.7                  0.2   \n",
      "21                   3.7                   1.5                  0.4   \n",
      "22                   3.6                   1.0                  0.2   \n",
      "23                   3.3                   1.7                  0.5   \n",
      "24                   3.4                   1.9                  0.2   \n",
      "25                   3.0                   1.6                  0.2   \n",
      "26                   3.4                   1.6                  0.4   \n",
      "27                   3.5                   1.5                  0.2   \n",
      "28                   3.4                   1.4                  0.2   \n",
      "29                   3.2                   1.6                  0.2   \n",
      "..                   ...                   ...                  ...   \n",
      "120                  3.2                   5.7                  2.3   \n",
      "121                  2.8                   4.9                  2.0   \n",
      "122                  2.8                   6.7                  2.0   \n",
      "123                  2.7                   4.9                  1.8   \n",
      "124                  3.3                   5.7                  2.1   \n",
      "125                  3.2                   6.0                  1.8   \n",
      "126                  2.8                   4.8                  1.8   \n",
      "127                  3.0                   4.9                  1.8   \n",
      "128                  2.8                   5.6                  2.1   \n",
      "129                  3.0                   5.8                  1.6   \n",
      "130                  2.8                   6.1                  1.9   \n",
      "131                  3.8                   6.4                  2.0   \n",
      "132                  2.8                   5.6                  2.2   \n",
      "133                  2.8                   5.1                  1.5   \n",
      "134                  2.6                   5.6                  1.4   \n",
      "135                  3.0                   6.1                  2.3   \n",
      "136                  3.4                   5.6                  2.4   \n",
      "137                  3.1                   5.5                  1.8   \n",
      "138                  3.0                   4.8                  1.8   \n",
      "139                  3.1                   5.4                  2.1   \n",
      "140                  3.1                   5.6                  2.4   \n",
      "141                  3.1                   5.1                  2.3   \n",
      "142                  2.7                   5.1                  1.9   \n",
      "143                  3.2                   5.9                  2.3   \n",
      "144                  3.3                   5.7                  2.5   \n",
      "145                  3.0                   5.2                  2.3   \n",
      "146                  2.5                   5.0                  1.9   \n",
      "147                  3.0                   5.2                  2.0   \n",
      "148                  3.4                   5.4                  2.3   \n",
      "149                  3.0                   5.1                  1.8   \n",
      "\n",
      "     Class_Iris-virginica  \n",
      "0                       0  \n",
      "1                       0  \n",
      "2                       0  \n",
      "3                       0  \n",
      "4                       0  \n",
      "5                       0  \n",
      "6                       0  \n",
      "7                       0  \n",
      "8                       0  \n",
      "9                       0  \n",
      "10                      0  \n",
      "11                      0  \n",
      "12                      0  \n",
      "13                      0  \n",
      "14                      0  \n",
      "15                      0  \n",
      "16                      0  \n",
      "17                      0  \n",
      "18                      0  \n",
      "19                      0  \n",
      "20                      0  \n",
      "21                      0  \n",
      "22                      0  \n",
      "23                      0  \n",
      "24                      0  \n",
      "25                      0  \n",
      "26                      0  \n",
      "27                      0  \n",
      "28                      0  \n",
      "29                      0  \n",
      "..                    ...  \n",
      "120                     1  \n",
      "121                     1  \n",
      "122                     1  \n",
      "123                     1  \n",
      "124                     1  \n",
      "125                     1  \n",
      "126                     1  \n",
      "127                     1  \n",
      "128                     1  \n",
      "129                     1  \n",
      "130                     1  \n",
      "131                     1  \n",
      "132                     1  \n",
      "133                     1  \n",
      "134                     1  \n",
      "135                     1  \n",
      "136                     1  \n",
      "137                     1  \n",
      "138                     1  \n",
      "139                     1  \n",
      "140                     1  \n",
      "141                     1  \n",
      "142                     1  \n",
      "143                     1  \n",
      "144                     1  \n",
      "145                     1  \n",
      "146                     1  \n",
      "147                     1  \n",
      "148                     1  \n",
      "149                     1  \n",
      "\n",
      "[150 rows x 4 columns]\n"
     ]
    }
   ],
   "source": [
    "#Check the dataset\n",
    "print(y)\n",
    "print(X)"
   ]
  },
  {
   "cell_type": "markdown",
   "metadata": {
    "colab_type": "text",
    "id": "0tjAAFABHuo8"
   },
   "source": [
    "# Question 11 \n",
    "Find the distribution of target variable (Class)\n",
    "\n",
    "And, Plot the distribution of target variable using histogram"
   ]
  },
  {
   "cell_type": "code",
   "execution_count": 418,
   "metadata": {
    "colab": {},
    "colab_type": "code",
    "id": "9MOM08lIHuo-"
   },
   "outputs": [
    {
     "name": "stdout",
     "output_type": "stream",
     "text": [
      "Iris-versicolor    50\n",
      "Iris-setosa        50\n",
      "Iris-virginica     50\n",
      "Name: Class, dtype: int64\n"
     ]
    },
    {
     "data": {
      "image/png": "[encoded data removed]",
      "text/plain": [
       "<Figure size 432x288 with 1 Axes>"
      ]
     },
     "metadata": {
      "needs_background": "light"
     },
     "output_type": "display_data"
    }
   ],
   "source": [
    "df1['Class'].value_counts().plot(kind=\"bar\")\n",
    "print(df1['Class'].value_counts())"
   ]
  },
  {
   "cell_type": "code",
   "execution_count": 419,
   "metadata": {
    "colab": {},
    "colab_type": "code",
    "id": "RnfaMmoaHupH"
   },
   "outputs": [],
   "source": [
    "#Drop Id variable from data"
   ]
  },
  {
   "cell_type": "code",
   "execution_count": 432,
   "metadata": {},
   "outputs": [],
   "source": [
    "# No Id variable from data exist."
   ]
  },
  {
   "cell_type": "markdown",
   "metadata": {
    "colab_type": "text",
    "id": "4t25mCgtHupL"
   },
   "source": [
    "### Question 12 \n",
    "Find Correlation among all variables and give your insights "
   ]
  },
  {
   "cell_type": "code",
   "execution_count": 420,
   "metadata": {
    "colab": {},
    "colab_type": "code",
    "id": "QH1X0KHKHupN"
   },
   "outputs": [],
   "source": [
    "#Please note, it's Require to remove correlated features because they are voted twice in the model and \n",
    "## it can lead to over inflating importance.We will ignore it here"
   ]
  },
  {
   "cell_type": "code",
   "execution_count": 421,
   "metadata": {
    "colab": {},
    "colab_type": "code",
    "id": "Hpx6ESv0HupS"
   },
   "outputs": [
    {
     "data": {
      "text/html": [
       "<div>\n",
       "<style scoped>\n",
       "    .dataframe tbody tr th:only-of-type {\n",
       "        vertical-align: middle;\n",
       "    }\n",
       "\n",
       "    .dataframe tbody tr th {\n",
       "        vertical-align: top;\n",
       "    }\n",
       "\n",
       "    .dataframe thead th {\n",
       "        text-align: right;\n",
       "    }\n",
       "</style>\n",
       "<table border=\"1\" class=\"dataframe\">\n",
       "  <thead>\n",
       "    <tr style=\"text-align: right;\">\n",
       "      <th></th>\n",
       "      <th>Sepal Length (in cm)</th>\n",
       "      <th>Sepal Width in (cm)</th>\n",
       "      <th>Petal length (in cm)</th>\n",
       "      <th>Petal width (in cm)</th>\n",
       "      <th>Class_Iris-versicolor</th>\n",
       "      <th>Class_Iris-virginica</th>\n",
       "    </tr>\n",
       "  </thead>\n",
       "  <tbody>\n",
       "    <tr>\n",
       "      <th>Sepal Length (in cm)</th>\n",
       "      <td>1.000000</td>\n",
       "      <td>-0.109369</td>\n",
       "      <td>0.871754</td>\n",
       "      <td>0.817954</td>\n",
       "      <td>0.079396</td>\n",
       "      <td>0.638020</td>\n",
       "    </tr>\n",
       "    <tr>\n",
       "      <th>Sepal Width in (cm)</th>\n",
       "      <td>-0.109369</td>\n",
       "      <td>1.000000</td>\n",
       "      <td>-0.420516</td>\n",
       "      <td>-0.356544</td>\n",
       "      <td>-0.464700</td>\n",
       "      <td>-0.130901</td>\n",
       "    </tr>\n",
       "    <tr>\n",
       "      <th>Petal length (in cm)</th>\n",
       "      <td>0.871754</td>\n",
       "      <td>-0.420516</td>\n",
       "      <td>1.000000</td>\n",
       "      <td>0.962757</td>\n",
       "      <td>0.201587</td>\n",
       "      <td>0.721102</td>\n",
       "    </tr>\n",
       "    <tr>\n",
       "      <th>Petal width (in cm)</th>\n",
       "      <td>0.817954</td>\n",
       "      <td>-0.356544</td>\n",
       "      <td>0.962757</td>\n",
       "      <td>1.000000</td>\n",
       "      <td>0.118376</td>\n",
       "      <td>0.769134</td>\n",
       "    </tr>\n",
       "    <tr>\n",
       "      <th>Class_Iris-versicolor</th>\n",
       "      <td>0.079396</td>\n",
       "      <td>-0.464700</td>\n",
       "      <td>0.201587</td>\n",
       "      <td>0.118376</td>\n",
       "      <td>1.000000</td>\n",
       "      <td>-0.500000</td>\n",
       "    </tr>\n",
       "    <tr>\n",
       "      <th>Class_Iris-virginica</th>\n",
       "      <td>0.638020</td>\n",
       "      <td>-0.130901</td>\n",
       "      <td>0.721102</td>\n",
       "      <td>0.769134</td>\n",
       "      <td>-0.500000</td>\n",
       "      <td>1.000000</td>\n",
       "    </tr>\n",
       "  </tbody>\n",
       "</table>\n",
       "</div>"
      ],
      "text/plain": [
       "                       Sepal Length (in cm)  Sepal Width in (cm)  \\\n",
       "Sepal Length (in cm)               1.000000            -0.109369   \n",
       "Sepal Width in (cm)               -0.109369             1.000000   \n",
       "Petal length (in cm)               0.871754            -0.420516   \n",
       "Petal width (in cm)                0.817954            -0.356544   \n",
       "Class_Iris-versicolor              0.079396            -0.464700   \n",
       "Class_Iris-virginica               0.638020            -0.130901   \n",
       "\n",
       "                       Petal length (in cm)  Petal width (in cm)  \\\n",
       "Sepal Length (in cm)               0.871754             0.817954   \n",
       "Sepal Width in (cm)               -0.420516            -0.356544   \n",
       "Petal length (in cm)               1.000000             0.962757   \n",
       "Petal width (in cm)                0.962757             1.000000   \n",
       "Class_Iris-versicolor              0.201587             0.118376   \n",
       "Class_Iris-virginica               0.721102             0.769134   \n",
       "\n",
       "                       Class_Iris-versicolor  Class_Iris-virginica  \n",
       "Sepal Length (in cm)                0.079396              0.638020  \n",
       "Sepal Width in (cm)                -0.464700             -0.130901  \n",
       "Petal length (in cm)                0.201587              0.721102  \n",
       "Petal width (in cm)                 0.118376              0.769134  \n",
       "Class_Iris-versicolor               1.000000             -0.500000  \n",
       "Class_Iris-virginica               -0.500000              1.000000  "
      ]
     },
     "execution_count": 421,
     "metadata": {},
     "output_type": "execute_result"
    }
   ],
   "source": [
    "df.corr()"
   ]
  },
  {
   "cell_type": "code",
   "execution_count": 422,
   "metadata": {},
   "outputs": [
    {
     "name": "stdout",
     "output_type": "stream",
     "text": [
      "<class 'pandas.core.frame.DataFrame'>\n",
      "RangeIndex: 150 entries, 0 to 149\n",
      "Data columns (total 4 columns):\n",
      "Sepal Width in (cm)      150 non-null float64\n",
      "Petal length (in cm)     150 non-null float64\n",
      "Petal width (in cm)      150 non-null float64\n",
      "Class_Iris-versicolor    150 non-null uint8\n",
      "dtypes: float64(3), uint8(1)\n",
      "memory usage: 3.7 KB\n"
     ]
    }
   ],
   "source": [
    "df.drop(['Sepal Length (in cm)'],axis=1,inplace=True)\n",
    "df.drop(['Class_Iris-virginica'],axis=1,inplace=True)\n",
    "\n",
    "df.info()"
   ]
  },
  {
   "cell_type": "markdown",
   "metadata": {
    "colab_type": "text",
    "id": "fMwqZfKEHupV"
   },
   "source": [
    "### Split data in Training and test set in 80:20."
   ]
  },
  {
   "cell_type": "code",
   "execution_count": 423,
   "metadata": {
    "colab": {},
    "colab_type": "code",
    "id": "yRCFfCqHHupW"
   },
   "outputs": [],
   "source": [
    "test_size = 0.20 # taking 80:20 training and test set\n",
    "seed = 7  # Random numbmer seeding for reapeatability of the code\n",
    "X_train, X_test, y_train, y_test = train_test_split(X, y, test_size=test_size, random_state=seed)"
   ]
  },
  {
   "cell_type": "markdown",
   "metadata": {
    "colab_type": "text",
    "id": "z8d4yxofHupb"
   },
   "source": [
    "### Question 13 \n",
    "Do Feature Scaling "
   ]
  },
  {
   "cell_type": "code",
   "execution_count": 424,
   "metadata": {
    "colab": {},
    "colab_type": "code",
    "id": "Y7o_ra27Hupe"
   },
   "outputs": [
    {
     "name": "stderr",
     "output_type": "stream",
     "text": [
      "C:\\ProgramData\\Anaconda3\\lib\\site-packages\\sklearn\\preprocessing\\data.py:625: DataConversionWarning: Data with input dtype uint8, float64 were all converted to float64 by StandardScaler.\n",
      "  return self.partial_fit(X, y)\n",
      "C:\\ProgramData\\Anaconda3\\lib\\site-packages\\sklearn\\base.py:462: DataConversionWarning: Data with input dtype uint8, float64 were all converted to float64 by StandardScaler.\n",
      "  return self.fit(X, **fit_params).transform(X)\n"
     ]
    },
    {
     "data": {
      "text/plain": [
       "array([[ 1.03205722e+00, -1.34127240e+00, -1.31297673e+00,\n",
       "        -7.07106781e-01],\n",
       "       [-1.24957601e-01, -1.34127240e+00, -1.31297673e+00,\n",
       "        -7.07106781e-01],\n",
       "       [ 3.37848329e-01, -1.39813811e+00, -1.31297673e+00,\n",
       "        -7.07106781e-01],\n",
       "       [ 1.06445364e-01, -1.28440670e+00, -1.31297673e+00,\n",
       "        -7.07106781e-01],\n",
       "       [ 1.26346019e+00, -1.34127240e+00, -1.31297673e+00,\n",
       "        -7.07106781e-01],\n",
       "       [ 1.95766909e+00, -1.17067529e+00, -1.05003079e+00,\n",
       "        -7.07106781e-01],\n",
       "       [ 8.00654259e-01, -1.34127240e+00, -1.18150376e+00,\n",
       "        -7.07106781e-01],\n",
       "       [ 8.00654259e-01, -1.28440670e+00, -1.31297673e+00,\n",
       "        -7.07106781e-01],\n",
       "       [-3.56360566e-01, -1.34127240e+00, -1.31297673e+00,\n",
       "        -7.07106781e-01],\n",
       "       [ 1.06445364e-01, -1.28440670e+00, -1.44444970e+00,\n",
       "        -7.07106781e-01],\n",
       "       [ 1.49486315e+00, -1.28440670e+00, -1.31297673e+00,\n",
       "        -7.07106781e-01],\n",
       "       [ 8.00654259e-01, -1.22754100e+00, -1.31297673e+00,\n",
       "        -7.07106781e-01],\n",
       "       [-1.24957601e-01, -1.34127240e+00, -1.44444970e+00,\n",
       "        -7.07106781e-01],\n",
       "       [-1.24957601e-01, -1.51186952e+00, -1.44444970e+00,\n",
       "        -7.07106781e-01],\n",
       "       [ 2.18907205e+00, -1.45500381e+00, -1.31297673e+00,\n",
       "        -7.07106781e-01],\n",
       "       [ 3.11468391e+00, -1.28440670e+00, -1.05003079e+00,\n",
       "        -7.07106781e-01],\n",
       "       [ 1.95766909e+00, -1.39813811e+00, -1.05003079e+00,\n",
       "        -7.07106781e-01],\n",
       "       [ 1.03205722e+00, -1.34127240e+00, -1.18150376e+00,\n",
       "        -7.07106781e-01],\n",
       "       [ 1.72626612e+00, -1.17067529e+00, -1.18150376e+00,\n",
       "        -7.07106781e-01],\n",
       "       [ 1.72626612e+00, -1.28440670e+00, -1.18150376e+00,\n",
       "        -7.07106781e-01],\n",
       "       [ 8.00654259e-01, -1.17067529e+00, -1.31297673e+00,\n",
       "        -7.07106781e-01],\n",
       "       [ 1.49486315e+00, -1.28440670e+00, -1.05003079e+00,\n",
       "        -7.07106781e-01],\n",
       "       [ 1.26346019e+00, -1.56873522e+00, -1.31297673e+00,\n",
       "        -7.07106781e-01],\n",
       "       [ 5.69251294e-01, -1.17067529e+00, -9.18557817e-01,\n",
       "        -7.07106781e-01],\n",
       "       [ 8.00654259e-01, -1.05694388e+00, -1.31297673e+00,\n",
       "        -7.07106781e-01],\n",
       "       [-1.24957601e-01, -1.22754100e+00, -1.31297673e+00,\n",
       "        -7.07106781e-01],\n",
       "       [ 8.00654259e-01, -1.22754100e+00, -1.05003079e+00,\n",
       "        -7.07106781e-01],\n",
       "       [ 1.03205722e+00, -1.28440670e+00, -1.31297673e+00,\n",
       "        -7.07106781e-01],\n",
       "       [ 8.00654259e-01, -1.34127240e+00, -1.31297673e+00,\n",
       "        -7.07106781e-01],\n",
       "       [ 3.37848329e-01, -1.22754100e+00, -1.31297673e+00,\n",
       "        -7.07106781e-01],\n",
       "       [ 1.06445364e-01, -1.22754100e+00, -1.31297673e+00,\n",
       "        -7.07106781e-01],\n",
       "       [ 8.00654259e-01, -1.28440670e+00, -1.05003079e+00,\n",
       "        -7.07106781e-01],\n",
       "       [ 2.42047502e+00, -1.28440670e+00, -1.44444970e+00,\n",
       "        -7.07106781e-01],\n",
       "       [ 2.65187798e+00, -1.34127240e+00, -1.31297673e+00,\n",
       "        -7.07106781e-01],\n",
       "       [ 1.06445364e-01, -1.28440670e+00, -1.44444970e+00,\n",
       "        -7.07106781e-01],\n",
       "       [ 3.37848329e-01, -1.45500381e+00, -1.31297673e+00,\n",
       "        -7.07106781e-01],\n",
       "       [ 1.03205722e+00, -1.39813811e+00, -1.31297673e+00,\n",
       "        -7.07106781e-01],\n",
       "       [ 1.06445364e-01, -1.28440670e+00, -1.44444970e+00,\n",
       "        -7.07106781e-01],\n",
       "       [-1.24957601e-01, -1.39813811e+00, -1.31297673e+00,\n",
       "        -7.07106781e-01],\n",
       "       [ 8.00654259e-01, -1.28440670e+00, -1.31297673e+00,\n",
       "        -7.07106781e-01],\n",
       "       [ 1.03205722e+00, -1.39813811e+00, -1.18150376e+00,\n",
       "        -7.07106781e-01],\n",
       "       [-1.74477836e+00, -1.39813811e+00, -1.18150376e+00,\n",
       "        -7.07106781e-01],\n",
       "       [ 3.37848329e-01, -1.39813811e+00, -1.31297673e+00,\n",
       "        -7.07106781e-01],\n",
       "       [ 1.03205722e+00, -1.22754100e+00, -7.87084847e-01,\n",
       "        -7.07106781e-01],\n",
       "       [ 1.72626612e+00, -1.05694388e+00, -1.05003079e+00,\n",
       "        -7.07106781e-01],\n",
       "       [-1.24957601e-01, -1.34127240e+00, -1.18150376e+00,\n",
       "        -7.07106781e-01],\n",
       "       [ 1.72626612e+00, -1.22754100e+00, -1.31297673e+00,\n",
       "        -7.07106781e-01],\n",
       "       [ 3.37848329e-01, -1.34127240e+00, -1.31297673e+00,\n",
       "        -7.07106781e-01],\n",
       "       [ 1.49486315e+00, -1.28440670e+00, -1.31297673e+00,\n",
       "        -7.07106781e-01],\n",
       "       [ 5.69251294e-01, -1.34127240e+00, -1.31297673e+00,\n",
       "        -7.07106781e-01],\n",
       "       [ 3.37848329e-01,  5.35295827e-01,  2.64698913e-01,\n",
       "        -7.07106781e-01],\n",
       "       [ 3.37848329e-01,  4.21564419e-01,  3.96171883e-01,\n",
       "        -7.07106781e-01],\n",
       "       [ 1.06445364e-01,  6.49027235e-01,  3.96171883e-01,\n",
       "        -7.07106781e-01],\n",
       "       [-1.74477836e+00,  1.37235899e-01,  1.33225943e-01,\n",
       "        -7.07106781e-01],\n",
       "       [-5.87763531e-01,  4.78430123e-01,  3.96171883e-01,\n",
       "        -7.07106781e-01],\n",
       "       [-5.87763531e-01,  4.21564419e-01,  1.33225943e-01,\n",
       "        -7.07106781e-01],\n",
       "       [ 5.69251294e-01,  5.35295827e-01,  5.27644853e-01,\n",
       "        -7.07106781e-01],\n",
       "       [-1.51337539e+00, -2.60824029e-01, -2.61192967e-01,\n",
       "        -7.07106781e-01],\n",
       "       [-3.56360566e-01,  4.78430123e-01,  1.33225943e-01,\n",
       "        -7.07106781e-01],\n",
       "       [-8.19166497e-01,  8.03701950e-02,  2.64698913e-01,\n",
       "        -7.07106781e-01],\n",
       "       [-2.43898725e+00, -1.47092621e-01, -2.61192967e-01,\n",
       "        -7.07106781e-01],\n",
       "       [-1.24957601e-01,  2.50967307e-01,  3.96171883e-01,\n",
       "        -7.07106781e-01],\n",
       "       [-1.97618132e+00,  1.37235899e-01, -2.61192967e-01,\n",
       "        -7.07106781e-01],\n",
       "       [-3.56360566e-01,  5.35295827e-01,  2.64698913e-01,\n",
       "        -7.07106781e-01],\n",
       "       [-3.56360566e-01, -9.02269170e-02,  1.33225943e-01,\n",
       "        -7.07106781e-01],\n",
       "       [ 1.06445364e-01,  3.64698715e-01,  2.64698913e-01,\n",
       "        -7.07106781e-01],\n",
       "       [-1.24957601e-01,  4.21564419e-01,  3.96171883e-01,\n",
       "        -7.07106781e-01],\n",
       "       [-8.19166497e-01,  1.94101603e-01, -2.61192967e-01,\n",
       "        -7.07106781e-01],\n",
       "       [-1.97618132e+00,  4.21564419e-01,  3.96171883e-01,\n",
       "        -7.07106781e-01],\n",
       "       [-1.28197243e+00,  8.03701950e-02, -1.29719997e-01,\n",
       "        -7.07106781e-01],\n",
       "       [ 3.37848329e-01,  5.92161531e-01,  7.90590793e-01,\n",
       "        -7.07106781e-01],\n",
       "       [-5.87763531e-01,  1.37235899e-01,  1.33225943e-01,\n",
       "        -7.07106781e-01],\n",
       "       [-1.28197243e+00,  6.49027235e-01,  3.96171883e-01,\n",
       "        -7.07106781e-01],\n",
       "       [-5.87763531e-01,  5.35295827e-01,  1.75297293e-03,\n",
       "        -7.07106781e-01],\n",
       "       [-3.56360566e-01,  3.07833011e-01,  1.33225943e-01,\n",
       "        -7.07106781e-01],\n",
       "       [-1.24957601e-01,  3.64698715e-01,  2.64698913e-01,\n",
       "        -7.07106781e-01],\n",
       "       [-5.87763531e-01,  5.92161531e-01,  2.64698913e-01,\n",
       "        -7.07106781e-01],\n",
       "       [-1.24957601e-01,  7.05892939e-01,  6.59117823e-01,\n",
       "        -7.07106781e-01],\n",
       "       [-3.56360566e-01,  4.21564419e-01,  3.96171883e-01,\n",
       "        -7.07106781e-01],\n",
       "       [-1.05056946e+00, -1.47092621e-01, -2.61192967e-01,\n",
       "        -7.07106781e-01],\n",
       "       [-1.51337539e+00,  2.35044910e-02, -1.29719997e-01,\n",
       "        -7.07106781e-01],\n",
       "       [-1.51337539e+00, -3.33612130e-02, -2.61192967e-01,\n",
       "        -7.07106781e-01],\n",
       "       [-8.19166497e-01,  8.03701950e-02,  1.75297293e-03,\n",
       "        -7.07106781e-01],\n",
       "       [-8.19166497e-01,  7.62758643e-01,  5.27644853e-01,\n",
       "        -7.07106781e-01],\n",
       "       [-1.24957601e-01,  4.21564419e-01,  3.96171883e-01,\n",
       "        -7.07106781e-01],\n",
       "       [ 8.00654259e-01,  4.21564419e-01,  5.27644853e-01,\n",
       "        -7.07106781e-01],\n",
       "       [ 1.06445364e-01,  5.35295827e-01,  3.96171883e-01,\n",
       "        -7.07106781e-01],\n",
       "       [-1.74477836e+00,  3.64698715e-01,  1.33225943e-01,\n",
       "        -7.07106781e-01],\n",
       "       [-1.24957601e-01,  1.94101603e-01,  1.33225943e-01,\n",
       "        -7.07106781e-01],\n",
       "       [-1.28197243e+00,  1.37235899e-01,  1.33225943e-01,\n",
       "        -7.07106781e-01],\n",
       "       [-1.05056946e+00,  3.64698715e-01,  1.75297293e-03,\n",
       "        -7.07106781e-01],\n",
       "       [-1.24957601e-01,  4.78430123e-01,  2.64698913e-01,\n",
       "        -7.07106781e-01],\n",
       "       [-1.05056946e+00,  1.37235899e-01,  1.75297293e-03,\n",
       "        -7.07106781e-01],\n",
       "       [-1.74477836e+00, -2.60824029e-01, -2.61192967e-01,\n",
       "        -7.07106781e-01],\n",
       "       [-8.19166497e-01,  2.50967307e-01,  1.33225943e-01,\n",
       "        -7.07106781e-01],\n",
       "       [-1.24957601e-01,  2.50967307e-01,  1.75297293e-03,\n",
       "        -7.07106781e-01],\n",
       "       [-3.56360566e-01,  2.50967307e-01,  1.33225943e-01,\n",
       "        -7.07106781e-01],\n",
       "       [-3.56360566e-01,  3.07833011e-01,  1.33225943e-01,\n",
       "        -7.07106781e-01],\n",
       "       [-1.28197243e+00, -4.31421141e-01, -1.29719997e-01,\n",
       "        -7.07106781e-01],\n",
       "       [-5.87763531e-01,  1.94101603e-01,  1.33225943e-01,\n",
       "        -7.07106781e-01],\n",
       "       [ 5.69251294e-01,  1.27454998e+00,  1.71090158e+00,\n",
       "         1.41421356e+00],\n",
       "       [-8.19166497e-01,  7.62758643e-01,  9.22063763e-01,\n",
       "         1.41421356e+00],\n",
       "       [-1.24957601e-01,  1.21768427e+00,  1.18500970e+00,\n",
       "         1.41421356e+00],\n",
       "       [-3.56360566e-01,  1.04708716e+00,  7.90590793e-01,\n",
       "         1.41421356e+00],\n",
       "       [-1.24957601e-01,  1.16081857e+00,  1.31648267e+00,\n",
       "         1.41421356e+00],\n",
       "       [-1.24957601e-01,  1.61574420e+00,  1.18500970e+00,\n",
       "         1.41421356e+00],\n",
       "       [-1.28197243e+00,  4.21564419e-01,  6.59117823e-01,\n",
       "         1.41421356e+00],\n",
       "       [-3.56360566e-01,  1.44514709e+00,  7.90590793e-01,\n",
       "         1.41421356e+00],\n",
       "       [-1.28197243e+00,  1.16081857e+00,  7.90590793e-01,\n",
       "         1.41421356e+00],\n",
       "       [ 1.26346019e+00,  1.33141568e+00,  1.71090158e+00,\n",
       "         1.41421356e+00],\n",
       "       [ 3.37848329e-01,  7.62758643e-01,  1.05353673e+00,\n",
       "         1.41421356e+00],\n",
       "       [-8.19166497e-01,  8.76490051e-01,  9.22063763e-01,\n",
       "         1.41421356e+00],\n",
       "       [-1.24957601e-01,  9.90221459e-01,  1.18500970e+00,\n",
       "         1.41421356e+00],\n",
       "       [-1.28197243e+00,  7.05892939e-01,  1.05353673e+00,\n",
       "         1.41421356e+00],\n",
       "       [-5.87763531e-01,  7.62758643e-01,  1.57942861e+00,\n",
       "         1.41421356e+00],\n",
       "       [ 3.37848329e-01,  8.76490051e-01,  1.44795564e+00,\n",
       "         1.41421356e+00],\n",
       "       [-1.24957601e-01,  9.90221459e-01,  7.90590793e-01,\n",
       "         1.41421356e+00],\n",
       "       [ 1.72626612e+00,  1.67260991e+00,  1.31648267e+00,\n",
       "         1.41421356e+00],\n",
       "       [-1.05056946e+00,  1.78634131e+00,  1.44795564e+00,\n",
       "         1.41421356e+00],\n",
       "       [-1.97618132e+00,  7.05892939e-01,  3.96171883e-01,\n",
       "         1.41421356e+00],\n",
       "       [ 3.37848329e-01,  1.10395287e+00,  1.44795564e+00,\n",
       "         1.41421356e+00],\n",
       "       [-5.87763531e-01,  6.49027235e-01,  1.05353673e+00,\n",
       "         1.41421356e+00],\n",
       "       [-5.87763531e-01,  1.67260991e+00,  1.05353673e+00,\n",
       "         1.41421356e+00],\n",
       "       [-8.19166497e-01,  6.49027235e-01,  7.90590793e-01,\n",
       "         1.41421356e+00],\n",
       "       [ 5.69251294e-01,  1.10395287e+00,  1.18500970e+00,\n",
       "         1.41421356e+00],\n",
       "       [ 3.37848329e-01,  1.27454998e+00,  7.90590793e-01,\n",
       "         1.41421356e+00],\n",
       "       [-5.87763531e-01,  5.92161531e-01,  7.90590793e-01,\n",
       "         1.41421356e+00],\n",
       "       [-1.24957601e-01,  6.49027235e-01,  7.90590793e-01,\n",
       "         1.41421356e+00],\n",
       "       [-5.87763531e-01,  1.04708716e+00,  1.18500970e+00,\n",
       "         1.41421356e+00],\n",
       "       [-1.24957601e-01,  1.16081857e+00,  5.27644853e-01,\n",
       "         1.41421356e+00],\n",
       "       [-5.87763531e-01,  1.33141568e+00,  9.22063763e-01,\n",
       "         1.41421356e+00],\n",
       "       [ 1.72626612e+00,  1.50201279e+00,  1.05353673e+00,\n",
       "         1.41421356e+00],\n",
       "       [-5.87763531e-01,  1.04708716e+00,  1.31648267e+00,\n",
       "         1.41421356e+00],\n",
       "       [-5.87763531e-01,  7.62758643e-01,  3.96171883e-01,\n",
       "         1.41421356e+00],\n",
       "       [-1.05056946e+00,  1.04708716e+00,  2.64698913e-01,\n",
       "         1.41421356e+00],\n",
       "       [-1.24957601e-01,  1.33141568e+00,  1.44795564e+00,\n",
       "         1.41421356e+00],\n",
       "       [ 8.00654259e-01,  1.04708716e+00,  1.57942861e+00,\n",
       "         1.41421356e+00],\n",
       "       [ 1.06445364e-01,  9.90221459e-01,  7.90590793e-01,\n",
       "         1.41421356e+00],\n",
       "       [-1.24957601e-01,  5.92161531e-01,  7.90590793e-01,\n",
       "         1.41421356e+00],\n",
       "       [ 1.06445364e-01,  9.33355755e-01,  1.18500970e+00,\n",
       "         1.41421356e+00],\n",
       "       [ 1.06445364e-01,  1.04708716e+00,  1.57942861e+00,\n",
       "         1.41421356e+00],\n",
       "       [ 1.06445364e-01,  7.62758643e-01,  1.44795564e+00,\n",
       "         1.41421356e+00],\n",
       "       [-8.19166497e-01,  7.62758643e-01,  9.22063763e-01,\n",
       "         1.41421356e+00],\n",
       "       [ 3.37848329e-01,  1.21768427e+00,  1.44795564e+00,\n",
       "         1.41421356e+00],\n",
       "       [ 5.69251294e-01,  1.10395287e+00,  1.71090158e+00,\n",
       "         1.41421356e+00],\n",
       "       [-1.24957601e-01,  8.19624347e-01,  1.44795564e+00,\n",
       "         1.41421356e+00],\n",
       "       [-1.28197243e+00,  7.05892939e-01,  9.22063763e-01,\n",
       "         1.41421356e+00],\n",
       "       [-1.24957601e-01,  8.19624347e-01,  1.05353673e+00,\n",
       "         1.41421356e+00],\n",
       "       [ 8.00654259e-01,  9.33355755e-01,  1.44795564e+00,\n",
       "         1.41421356e+00],\n",
       "       [-1.24957601e-01,  7.62758643e-01,  7.90590793e-01,\n",
       "         1.41421356e+00]])"
      ]
     },
     "execution_count": 424,
     "metadata": {},
     "output_type": "execute_result"
    }
   ],
   "source": [
    "# Use StandardScaler or similar methods\n",
    "sc=StandardScaler()\n",
    "sc.fit_transform(X)"
   ]
  },
  {
   "cell_type": "code",
   "execution_count": 425,
   "metadata": {
    "colab": {},
    "colab_type": "code",
    "id": "bhJcgQOmHupi"
   },
   "outputs": [],
   "source": [
    "model = GaussianNB()"
   ]
  },
  {
   "cell_type": "markdown",
   "metadata": {
    "colab_type": "text",
    "id": "yLtqsTXwHupn"
   },
   "source": [
    "### Question 14 \n",
    "Train and Fit NaiveBayes Model"
   ]
  },
  {
   "cell_type": "code",
   "execution_count": 426,
   "metadata": {
    "colab": {},
    "colab_type": "code",
    "id": "7gqp9ej6Hupp"
   },
   "outputs": [
    {
     "name": "stderr",
     "output_type": "stream",
     "text": [
      "C:\\ProgramData\\Anaconda3\\lib\\site-packages\\sklearn\\utils\\validation.py:761: DataConversionWarning: A column-vector y was passed when a 1d array was expected. Please change the shape of y to (n_samples, ), for example using ravel().\n",
      "  y = column_or_1d(y, warn=True)\n"
     ]
    },
    {
     "data": {
      "text/plain": [
       "GaussianNB(priors=None, var_smoothing=1e-09)"
      ]
     },
     "execution_count": 426,
     "metadata": {},
     "output_type": "execute_result"
    }
   ],
   "source": [
    "#Fit the model\n",
    "model.fit(X_train,y_train)"
   ]
  },
  {
   "cell_type": "code",
   "execution_count": 427,
   "metadata": {
    "colab": {},
    "colab_type": "code",
    "id": "v_4CFBdRHupt"
   },
   "outputs": [],
   "source": [
    "#Predict\n",
    "y_pred=model.predict(X_test)\n"
   ]
  },
  {
   "cell_type": "markdown",
   "metadata": {
    "colab_type": "text",
    "id": "UW_HXYOeHupy"
   },
   "source": [
    "### Question 15 \n",
    "Print Accuracy and Confusion Matrix and Conclude your findings"
   ]
  },
  {
   "cell_type": "code",
   "execution_count": 428,
   "metadata": {
    "colab": {},
    "colab_type": "code",
    "id": "8mZGt-uLHup0"
   },
   "outputs": [
    {
     "data": {
      "text/plain": [
       "array([[18,  0],\n",
       "       [ 0, 12]], dtype=int64)"
      ]
     },
     "execution_count": 428,
     "metadata": {},
     "output_type": "execute_result"
    }
   ],
   "source": [
    "# show Confusion Matrix\n",
    "confusion_matrix(y_test,y_pred)"
   ]
  },
  {
   "cell_type": "code",
   "execution_count": 429,
   "metadata": {
    "colab": {},
    "colab_type": "code",
    "id": "AUqBiwmiHup4"
   },
   "outputs": [
    {
     "data": {
      "text/plain": [
       "1.0"
      ]
     },
     "execution_count": 429,
     "metadata": {},
     "output_type": "execute_result"
    }
   ],
   "source": [
    "# show accuracy\n",
    "\n",
    "model.score(X_test,y_test)"
   ]
  },
  {
   "cell_type": "code",
   "execution_count": 430,
   "metadata": {
    "colab": {},
    "colab_type": "code",
    "id": "bhCN30DZHup-"
   },
   "outputs": [],
   "source": [
    "#Show precision and Recall metrics"
   ]
  },
  {
   "cell_type": "code",
   "execution_count": 431,
   "metadata": {
    "colab": {},
    "colab_type": "code",
    "id": "xoj4zdh6HuqC"
   },
   "outputs": [
    {
     "name": "stdout",
     "output_type": "stream",
     "text": [
      "1.0\n",
      "1.0\n"
     ]
    }
   ],
   "source": [
    "print(recall_score(y_test, y_pred))\n",
    "print(precision_score(y_test,y_pred))"
   ]
  },
  {
   "cell_type": "markdown",
   "metadata": {
    "colab_type": "text",
    "id": "rY_-DYU-HuqH"
   },
   "source": [
    "# For Practice  - Optional\n",
    "\n",
    "All the questions from 16 to 20 are for practice."
   ]
  },
  {
   "cell_type": "markdown",
   "metadata": {
    "colab_type": "text",
    "id": "fdHjJ_hNHuqJ"
   },
   "source": [
    "# Using SVM with Diebetes Dataset"
   ]
  },
  {
   "cell_type": "code",
   "execution_count": 0,
   "metadata": {
    "colab": {},
    "colab_type": "code",
    "id": "dAK4a1jMHuqM"
   },
   "outputs": [],
   "source": [
    "#Import library\n",
    "import pandas as pd\n",
    "import numpy as np\n",
    "import matplotlib.pyplot as plt\n",
    "%matplotlib inline"
   ]
  },
  {
   "cell_type": "markdown",
   "metadata": {
    "colab_type": "text",
    "id": "PFapFRFpHuqP"
   },
   "source": [
    "# Question 16 \n",
    "Read the input file 'Diabetes.csv' using Pandas and check it's column names.\n",
    "\n",
    "Check dimension of dataset.\n",
    "\n",
    "Check distribution of dependent variable, Outcome and plot it.\n"
   ]
  },
  {
   "cell_type": "code",
   "execution_count": 0,
   "metadata": {
    "colab": {},
    "colab_type": "code",
    "id": "JymT5eSnHuqQ"
   },
   "outputs": [],
   "source": []
  },
  {
   "cell_type": "code",
   "execution_count": 0,
   "metadata": {
    "colab": {},
    "colab_type": "code",
    "id": "Po47LmyPHuqW"
   },
   "outputs": [],
   "source": [
    "# Eye ball the imported dataset"
   ]
  },
  {
   "cell_type": "code",
   "execution_count": 0,
   "metadata": {
    "colab": {},
    "colab_type": "code",
    "id": "jBIM8ETyHuqZ"
   },
   "outputs": [],
   "source": []
  },
  {
   "cell_type": "code",
   "execution_count": 0,
   "metadata": {
    "colab": {},
    "colab_type": "code",
    "id": "xySkX-gfHuqi"
   },
   "outputs": [],
   "source": []
  },
  {
   "cell_type": "markdown",
   "metadata": {
    "colab_type": "text",
    "id": "UZVGVK1zHuqn"
   },
   "source": [
    "### Out of  768 data points, 500 are labeled as 0 and 268 as 1.\n",
    "### Outcome 0 means No diabetes, outcome 1 means diabetes"
   ]
  },
  {
   "cell_type": "code",
   "execution_count": 0,
   "metadata": {
    "colab": {},
    "colab_type": "code",
    "id": "B9KjFXnQHuqp"
   },
   "outputs": [],
   "source": []
  },
  {
   "cell_type": "code",
   "execution_count": 0,
   "metadata": {
    "colab": {},
    "colab_type": "code",
    "id": "Ell7v-4UHuqu"
   },
   "outputs": [],
   "source": [
    "# Check data types and info of dataset"
   ]
  },
  {
   "cell_type": "markdown",
   "metadata": {
    "colab_type": "text",
    "id": "QZ_U9-ctHuq0"
   },
   "source": [
    "# Question 17 \n",
    "Check data distribution using summary statistics and provide your findings.\n",
    "\n",
    "Do correlation analysis and bivariate viualization with Insights\n"
   ]
  },
  {
   "cell_type": "code",
   "execution_count": 0,
   "metadata": {
    "colab": {},
    "colab_type": "code",
    "id": "dbyJecg8Huq0"
   },
   "outputs": [],
   "source": []
  },
  {
   "cell_type": "code",
   "execution_count": 0,
   "metadata": {
    "colab": {},
    "colab_type": "code",
    "id": "V4CkSxdiHuq5"
   },
   "outputs": [],
   "source": []
  },
  {
   "cell_type": "code",
   "execution_count": 0,
   "metadata": {
    "colab": {},
    "colab_type": "code",
    "id": "pAj1Y0yyHuq9"
   },
   "outputs": [],
   "source": []
  },
  {
   "cell_type": "markdown",
   "metadata": {
    "colab_type": "text",
    "id": "YvA6mDiBHurA"
   },
   "source": [
    "# Question 18 \n",
    "Do train and test split. \n",
    "Optionally - You can do with stratify sampling(optional) on Outcome variable to maintain the distribution of dependent variable"
   ]
  },
  {
   "cell_type": "code",
   "execution_count": 0,
   "metadata": {
    "colab": {},
    "colab_type": "code",
    "id": "3z7rPjFcHurC"
   },
   "outputs": [],
   "source": []
  },
  {
   "cell_type": "code",
   "execution_count": 0,
   "metadata": {
    "colab": {},
    "colab_type": "code",
    "id": "qbO2YMc_HurE"
   },
   "outputs": [],
   "source": []
  },
  {
   "cell_type": "markdown",
   "metadata": {
    "colab_type": "text",
    "id": "98rPDoBhHurJ"
   },
   "source": [
    "# Question 19 \n",
    "Train Support Vector Machine Model(1 Marks)"
   ]
  },
  {
   "cell_type": "code",
   "execution_count": 0,
   "metadata": {
    "colab": {},
    "colab_type": "code",
    "id": "Xab8A8BBHurK"
   },
   "outputs": [],
   "source": [
    "# use from sklearn.svm import SVC"
   ]
  },
  {
   "cell_type": "code",
   "execution_count": 0,
   "metadata": {
    "colab": {},
    "colab_type": "code",
    "id": "fdamjFXEHurQ"
   },
   "outputs": [],
   "source": [
    "# your insights"
   ]
  },
  {
   "cell_type": "markdown",
   "metadata": {
    "colab_type": "text",
    "id": "Mq-50g3uHurS"
   },
   "source": [
    "# Question 20\n",
    "Scale the data points using MinMaxScaler\n",
    "\n",
    "Fit SVM Model on Scale data and give your observation"
   ]
  },
  {
   "cell_type": "code",
   "execution_count": 0,
   "metadata": {
    "colab": {},
    "colab_type": "code",
    "id": "NSLZcoL0HurU"
   },
   "outputs": [],
   "source": []
  },
  {
   "cell_type": "code",
   "execution_count": 0,
   "metadata": {
    "colab": {},
    "colab_type": "code",
    "id": "uGkQN3JVHurX"
   },
   "outputs": [],
   "source": []
  },
  {
   "cell_type": "markdown",
   "metadata": {
    "colab_type": "text",
    "id": "hCsfETJ2HurZ"
   },
   "source": [
    "#we can try increasing either C or gamma to fit a more complex model."
   ]
  },
  {
   "cell_type": "markdown",
   "metadata": {
    "colab_type": "text",
    "id": "AoT381TxHure"
   },
   "source": [
    "# Optional Question - \n",
    "Try improving the model accuracy using C=1000 (1 Marks)"
   ]
  },
  {
   "cell_type": "code",
   "execution_count": 0,
   "metadata": {
    "colab": {},
    "colab_type": "code",
    "id": "FZN07IhuHurf"
   },
   "outputs": [],
   "source": []
  },
  {
   "cell_type": "markdown",
   "metadata": {
    "colab_type": "text",
    "id": "uy4vnGXeHurj"
   },
   "source": [
    "### Here, increasing C allows us to improve the model, resulting in ??? accuracy.\n",
    "### Let's try to explore different Kernel and C (Bonus for practice)"
   ]
  },
  {
   "cell_type": "code",
   "execution_count": 0,
   "metadata": {
    "colab": {},
    "colab_type": "code",
    "id": "ilPg9hnTHurk"
   },
   "outputs": [],
   "source": [
    "import multiprocessing \n",
    "from sklearn.model_selection import GridSearchCV"
   ]
  },
  {
   "cell_type": "code",
   "execution_count": 0,
   "metadata": {
    "colab": {},
    "colab_type": "code",
    "id": "2Op5Cz2EHurm"
   },
   "outputs": [],
   "source": [
    " param_grid = [    {        \n",
    "     'kernel': ['linear', 'rbf', 'poly', 'sigmoid'],        \n",
    "     'C': [ 0.1, 0.2, 0.4, 0.5, 1.0, 1.5, 1.8, 2.0, 2.5, 3.0 ]    } ]"
   ]
  },
  {
   "cell_type": "code",
   "execution_count": 0,
   "metadata": {
    "colab": {},
    "colab_type": "code",
    "id": "AOCT8zOAHurp"
   },
   "outputs": [],
   "source": [
    "gs = GridSearchCV(estimator=SVC(), param_grid=param_grid,scoring='accuracy', cv=10, n_jobs=multiprocessing.cpu_count())"
   ]
  },
  {
   "cell_type": "code",
   "execution_count": 0,
   "metadata": {
    "colab": {},
    "colab_type": "code",
    "id": "yxRfWXkIHurx",
    "outputId": "9075257f-63f5-4df2-e398-32930e40e634"
   },
   "outputs": [
    {
     "data": {
      "text/plain": [
       "GridSearchCV(cv=10, error_score='raise',\n",
       "       estimator=SVC(C=1.0, cache_size=200, class_weight=None, coef0=0.0,\n",
       "  decision_function_shape=None, degree=3, gamma='auto', kernel='rbf',\n",
       "  max_iter=-1, probability=False, random_state=None, shrinking=True,\n",
       "  tol=0.001, verbose=False),\n",
       "       fit_params={}, iid=True, n_jobs=4,\n",
       "       param_grid=[{'kernel': ['linear', 'rbf', 'poly', 'sigmoid'], 'C': [0.1, 0.2, 0.4, 0.5, 1.0, 1.5, 1.8, 2.0, 2.5, 3.0]}],\n",
       "       pre_dispatch='2*n_jobs', refit=True, return_train_score=True,\n",
       "       scoring='accuracy', verbose=0)"
      ]
     },
     "execution_count": 22,
     "metadata": {
      "tags": []
     },
     "output_type": "execute_result"
    }
   ],
   "source": [
    "gs.fit(X_train_scaled, y_train) "
   ]
  },
  {
   "cell_type": "code",
   "execution_count": 0,
   "metadata": {
    "colab": {},
    "colab_type": "code",
    "id": "P9T6fpUuHur7",
    "outputId": "89989835-2087-4b45-be7b-6bfef63109ed"
   },
   "outputs": [
    {
     "data": {
      "text/plain": [
       "SVC(C=2.5, cache_size=200, class_weight=None, coef0=0.0,\n",
       "  decision_function_shape=None, degree=3, gamma='auto', kernel='linear',\n",
       "  max_iter=-1, probability=False, random_state=None, shrinking=True,\n",
       "  tol=0.001, verbose=False)"
      ]
     },
     "execution_count": 23,
     "metadata": {
      "tags": []
     },
     "output_type": "execute_result"
    }
   ],
   "source": [
    "gs.best_estimator_"
   ]
  },
  {
   "cell_type": "code",
   "execution_count": 0,
   "metadata": {
    "colab": {},
    "colab_type": "code",
    "id": "QQRZQ5BXHusD",
    "outputId": "c5f31470-8c94-4580-af58-bfb434840389"
   },
   "outputs": [
    {
     "data": {
      "text/plain": [
       "0.77777777777777779"
      ]
     },
     "execution_count": 24,
     "metadata": {
      "tags": []
     },
     "output_type": "execute_result"
    }
   ],
   "source": [
    "gs.best_score_ "
   ]
  }
 ],
 "metadata": {
  "colab": {
   "name": "R3_External_Lab_kNN_Naive_Bayes.ipynb",
   "provenance": [],
   "version": "0.3.2"
  },
  "kernelspec": {
   "display_name": "Python 3",
   "language": "python",
   "name": "python3"
  },
  "language_info": {
   "codemirror_mode": {
    "name": "ipython",
    "version": 3
   },
   "file_extension": ".py",
   "mimetype": "text/x-python",
   "name": "python",
   "nbconvert_exporter": "python",
   "pygments_lexer": "ipython3",
   "version": "3.7.1"
  }
 },
 "nbformat": 4,
 "nbformat_minor": 1
}
