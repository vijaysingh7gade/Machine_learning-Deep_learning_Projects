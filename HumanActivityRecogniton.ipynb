{
 "cells": [
  {
   "cell_type": "code",
   "execution_count": 0,
   "metadata": {
    "colab": {},
    "colab_type": "code",
    "id": "WeeM8uT-tY-E"
   },
   "outputs": [],
   "source": [
    "# Importing libraries\n",
    "import pandas as pd\n",
    "import numpy as np\n",
    "\n",
    "from keras.models import Sequential, Model\n",
    "from keras.layers import LSTM, Conv1D, MaxPooling1D, Flatten, LSTM, BatchNormalization, Input\n",
    "from keras.layers.core import Dense, Dropout\n",
    "from keras.callbacks import EarlyStopping, ReduceLROnPlateau, ModelCheckpoint\n",
    "import keras\n",
    "\n",
    "from keras.regularizers import l1, l2, l1_l2\n",
    "from sklearn.model_selection import train_test_split\n",
    "from keras.models import load_model \n",
    "from sklearn.metrics import accuracy_score\n",
    "\n",
    "from prettytable import PrettyTable"
   ]
  },
  {
   "cell_type": "code",
   "execution_count": 0,
   "metadata": {
    "colab": {},
    "colab_type": "code",
    "id": "tXUIz3AKTk2r"
   },
   "outputs": [],
   "source": [
    "pt = PrettyTable()\n",
    "pt.field_names = ['Model', 'Loss', 'Test Accuracy']"
   ]
  },
  {
   "cell_type": "code",
   "execution_count": 2,
   "metadata": {
    "colab": {
     "base_uri": "https://localhost:8080/",
     "height": 125
    },
    "colab_type": "code",
    "id": "2pahZg0D1ZrP",
    "outputId": "51914b8e-be87-462b-a57d-8813f926edeb"
   },
   "outputs": [
    {
     "name": "stdout",
     "output_type": "stream",
     "text": [
      "Go to this URL in a browser: https://accounts.google.com/o/oauth2/auth?client_id=947318989803-6bn6qk8qdgf4n4g3pfee6491hc0brc4i.apps.googleusercontent.com&redirect_uri=urn%3Aietf%3Awg%3Aoauth%3A2.0%3Aoob&scope=email%20https%3A%2F%2Fwww.googleapis.com%2Fauth%2Fdocs.test%20https%3A%2F%2Fwww.googleapis.com%2Fauth%2Fdrive%20https%3A%2F%2Fwww.googleapis.com%2Fauth%2Fdrive.photos.readonly%20https%3A%2F%2Fwww.googleapis.com%2Fauth%2Fpeopleapi.readonly&response_type=code\n",
      "\n",
      "Enter your authorization code:\n",
      "··········\n",
      "Mounted at /content/drive\n"
     ]
    }
   ],
   "source": [
    "from google.colab import drive\n",
    "drive.mount('/content/drive')"
   ]
  },
  {
   "cell_type": "code",
   "execution_count": 0,
   "metadata": {
    "colab": {},
    "colab_type": "code",
    "id": "KoMGWFnltY-H"
   },
   "outputs": [],
   "source": [
    "# Activities are the class labels\n",
    "# It is a 6 class classification\n",
    "ACTIVITIES = {\n",
    "    0: 'WALKING',\n",
    "    1: 'WALKING_UPSTAIRS',\n",
    "    2: 'WALKING_DOWNSTAIRS',\n",
    "    3: 'SITTING',\n",
    "    4: 'STANDING',\n",
    "    5: 'LAYING',\n",
    "}\n",
    "\n",
    "# Utility function to print the confusion matrix\n",
    "def confusion_matrix(Y_true, Y_pred):\n",
    "    Y_true = pd.Series([ACTIVITIES[y] for y in np.argmax(Y_true, axis=1)])\n",
    "    Y_pred = pd.Series([ACTIVITIES[y] for y in np.argmax(Y_pred, axis=1)])\n",
    "\n",
    "    return pd.crosstab(Y_true, Y_pred, rownames=['True'], colnames=['Pred'])"
   ]
  },
  {
   "cell_type": "markdown",
   "metadata": {
    "colab_type": "text",
    "id": "RFObXKzdtY-L"
   },
   "source": [
    "#### Data"
   ]
  },
  {
   "cell_type": "code",
   "execution_count": 0,
   "metadata": {
    "colab": {},
    "colab_type": "code",
    "id": "7AQYjkSRtY-N"
   },
   "outputs": [],
   "source": [
    "# Data directory\n",
    "DATADIR = 'drive/My Drive/CoLab/Human Activity Recognition/UCI_HAR_Dataset'"
   ]
  },
  {
   "cell_type": "code",
   "execution_count": 0,
   "metadata": {
    "colab": {},
    "colab_type": "code",
    "id": "UOLmzUjEtY-Q"
   },
   "outputs": [],
   "source": [
    "# Raw data signals\n",
    "# Signals are from Accelerometer and Gyroscope\n",
    "# The signals are in x,y,z directions\n",
    "# Sensor signals are filtered to have only body acceleration\n",
    "# excluding the acceleration due to gravity\n",
    "# Triaxial acceleration from the accelerometer is total acceleration\n",
    "SIGNALS = [\n",
    "    \"body_acc_x\",\n",
    "    \"body_acc_y\",\n",
    "    \"body_acc_z\",\n",
    "    \"body_gyro_x\",\n",
    "    \"body_gyro_y\",\n",
    "    \"body_gyro_z\",\n",
    "    \"total_acc_x\",\n",
    "    \"total_acc_y\",\n",
    "    \"total_acc_z\"\n",
    "]"
   ]
  },
  {
   "cell_type": "code",
   "execution_count": 0,
   "metadata": {
    "colab": {},
    "colab_type": "code",
    "id": "WyHR-Py3tY-T"
   },
   "outputs": [],
   "source": [
    "# Utility function to read the data from csv file\n",
    "def _read_csv(filename):\n",
    "    return pd.read_csv(filename, delim_whitespace=True, header=None)\n",
    "\n",
    "# Utility function to load the load\n",
    "def load_signals(subset):\n",
    "    signals_data = []\n",
    "\n",
    "    for signal in SIGNALS:\n",
    "        filename = f'/'.join([DATADIR,'{0}/Inertial Signals/{1}_{0}.txt'.format(subset, signal)])\n",
    "        signals_data.append(\n",
    "            _read_csv(filename).values\n",
    "        ) \n",
    "\n",
    "    # Transpose is used to change the dimensionality of the output,\n",
    "    # aggregating the signals by combination of sample/timestep.\n",
    "    # Resultant shape is (7352 train/2947 test samples, 128 timesteps, 9 signals)\n",
    "    return np.transpose(signals_data, (1, 2, 0))"
   ]
  },
  {
   "cell_type": "code",
   "execution_count": 0,
   "metadata": {
    "colab": {},
    "colab_type": "code",
    "id": "vs8ZqBsltY-X"
   },
   "outputs": [],
   "source": [
    "\n",
    "def load_y(subset):\n",
    "    \"\"\"\n",
    "    The objective that we are trying to predict is a integer, from 1 to 6,\n",
    "    that represents a human activity. We return a binary representation of \n",
    "    every sample objective as a 6 bits vector using One Hot Encoding\n",
    "    (https://pandas.pydata.org/pandas-docs/stable/generated/pandas.get_dummies.html)\n",
    "    \"\"\"\n",
    "    filename = f'/'.join([DATADIR,'{0}/y_{0}.txt'.format(subset)])\n",
    "    y = _read_csv(filename)[0]\n",
    "\n",
    "    return pd.get_dummies(y).values"
   ]
  },
  {
   "cell_type": "code",
   "execution_count": 0,
   "metadata": {
    "colab": {},
    "colab_type": "code",
    "id": "U95d3sQUtY-b"
   },
   "outputs": [],
   "source": [
    "def load_data():\n",
    "    \"\"\"\n",
    "    Obtain the dataset from multiple files.\n",
    "    Returns: X_train, X_test, y_train, y_test\n",
    "    \"\"\"\n",
    "    X_train, X_test = load_signals('train'), load_signals('test')\n",
    "    y_train, y_test = load_y('train'), load_y('test')\n",
    "\n",
    "    return X_train, X_test, y_train, y_test"
   ]
  },
  {
   "cell_type": "code",
   "execution_count": 0,
   "metadata": {
    "colab": {},
    "colab_type": "code",
    "id": "8KBQtE8KtY-2"
   },
   "outputs": [],
   "source": [
    "# Utility function to count the number of classes\n",
    "def _count_classes(y):\n",
    "    return len(set([tuple(category) for category in y]))"
   ]
  },
  {
   "cell_type": "code",
   "execution_count": 0,
   "metadata": {
    "colab": {},
    "colab_type": "code",
    "id": "-3r-v44NtY-5"
   },
   "outputs": [],
   "source": [
    "# Loading the train and test data\n",
    "X_train, X_test, Y_train, Y_test = load_data()"
   ]
  },
  {
   "cell_type": "code",
   "execution_count": 12,
   "metadata": {
    "colab": {
     "base_uri": "https://localhost:8080/",
     "height": 70
    },
    "colab_type": "code",
    "id": "-o2IsQA5tY-9",
    "outputId": "d18491f1-b591-44e5-f0aa-ea3274032f4f"
   },
   "outputs": [
    {
     "name": "stdout",
     "output_type": "stream",
     "text": [
      "128\n",
      "9\n",
      "7352\n"
     ]
    }
   ],
   "source": [
    "timesteps = len(X_train[0])\n",
    "input_dim = len(X_train[0][0])\n",
    "n_classes = _count_classes(Y_train)\n",
    "\n",
    "n_hidden = 32\n",
    "np.random.seed(23)\n",
    "\n",
    "print(timesteps)\n",
    "print(input_dim)\n",
    "print(len(X_train))"
   ]
  },
  {
   "cell_type": "markdown",
   "metadata": {
    "colab_type": "text",
    "id": "i6C7boU9tY_C"
   },
   "source": [
    "- Defining the Architecture of LSTM"
   ]
  },
  {
   "cell_type": "markdown",
   "metadata": {
    "colab_type": "text",
    "id": "fhAun6mJsVao"
   },
   "source": [
    "#### Model - 1 Using multilayer LSTM"
   ]
  },
  {
   "cell_type": "markdown",
   "metadata": {
    "colab_type": "text",
    "id": "lv9NTlsJuuG3"
   },
   "source": [
    "* Splitting the data into Train and Validation data "
   ]
  },
  {
   "cell_type": "code",
   "execution_count": 0,
   "metadata": {
    "colab": {},
    "colab_type": "code",
    "id": "mVvBlsOSOMxo"
   },
   "outputs": [],
   "source": [
    "trainX, valX, trainy, valy = train_test_split(X_train, Y_train, test_size=.33, random_state=23)"
   ]
  },
  {
   "cell_type": "code",
   "execution_count": 0,
   "metadata": {
    "colab": {},
    "colab_type": "code",
    "id": "rBNy5FFMtY_D"
   },
   "outputs": [],
   "source": [
    "# Initiliazing the sequential model\n",
    "model = Sequential()\n",
    "# Configuring the parameters\n",
    "model.add(CuDNNLSTM(64, return_sequences=True, input_shape=(timesteps, input_dim)))\n",
    "model.add(Dropout(rate=0.7))\n",
    "\n",
    "model.add(CuDNNLSTM(32, input_shape=(timesteps, input_dim)))\n",
    "model.add(Dropout(rate=0.5))\n",
    "\n",
    "model.add(Dense(100, activation='relu'))\n",
    "model.add(BatchNormalization())\n",
    "# model.add(Dropout(rate=0.7))\n",
    "\n",
    "model.add(Dense(n_classes, activation='sigmoid'))\n",
    "\n",
    "# model.summary()\n",
    "\n",
    "model.compile(loss='categorical_crossentropy', optimizer=keras.optimizers.Adam(), metrics=['accuracy'])"
   ]
  },
  {
   "cell_type": "code",
   "execution_count": 0,
   "metadata": {
    "colab": {
     "base_uri": "https://localhost:8080/",
     "height": 1000
    },
    "colab_type": "code",
    "id": "80ytOJbmtY_K",
    "outputId": "aea064ac-8f72-43ea-d74e-ace0204b9ef3"
   },
   "outputs": [
    {
     "name": "stdout",
     "output_type": "stream",
     "text": [
      "Train on 4925 samples, validate on 2427 samples\n",
      "Epoch 1/50\n",
      "4925/4925 [==============================] - 17s 3ms/step - loss: 1.2205 - acc: 0.4721 - val_loss: 0.9024 - val_acc: 0.4800\n",
      "Epoch 2/50\n",
      "4925/4925 [==============================] - 10s 2ms/step - loss: 0.8310 - acc: 0.5949 - val_loss: 0.6706 - val_acc: 0.6551\n",
      "Epoch 3/50\n",
      "4925/4925 [==============================] - 10s 2ms/step - loss: 0.7441 - acc: 0.6311 - val_loss: 0.6190 - val_acc: 0.6593\n",
      "Epoch 4/50\n",
      "4925/4925 [==============================] - 10s 2ms/step - loss: 0.6962 - acc: 0.6499 - val_loss: 0.6139 - val_acc: 0.6642\n",
      "Epoch 5/50\n",
      "4925/4925 [==============================] - 10s 2ms/step - loss: 0.7006 - acc: 0.6493 - val_loss: 0.6304 - val_acc: 0.6708\n",
      "Epoch 6/50\n",
      "4925/4925 [==============================] - 10s 2ms/step - loss: 0.7043 - acc: 0.6491 - val_loss: 0.6064 - val_acc: 0.6576\n",
      "Epoch 7/50\n",
      "4925/4925 [==============================] - 10s 2ms/step - loss: 0.6802 - acc: 0.6502 - val_loss: 0.6152 - val_acc: 0.6716\n",
      "Epoch 8/50\n",
      "4925/4925 [==============================] - 10s 2ms/step - loss: 0.7519 - acc: 0.6337 - val_loss: 1.9287 - val_acc: 0.4569\n",
      "Epoch 9/50\n",
      "4925/4925 [==============================] - 10s 2ms/step - loss: 0.8927 - acc: 0.5848 - val_loss: 0.6260 - val_acc: 0.6568\n",
      "Epoch 10/50\n",
      "4925/4925 [==============================] - 10s 2ms/step - loss: 0.6979 - acc: 0.6445 - val_loss: 0.6561 - val_acc: 0.6539\n",
      "Epoch 11/50\n",
      "4925/4925 [==============================] - 10s 2ms/step - loss: 0.6845 - acc: 0.6475 - val_loss: 0.6186 - val_acc: 0.6663\n",
      "Epoch 12/50\n",
      "4925/4925 [==============================] - 10s 2ms/step - loss: 0.6696 - acc: 0.6589 - val_loss: 0.6209 - val_acc: 0.6728\n",
      "Epoch 13/50\n",
      "4925/4925 [==============================] - 10s 2ms/step - loss: 0.6523 - acc: 0.6615 - val_loss: 0.6036 - val_acc: 0.6782\n",
      "Epoch 14/50\n",
      "4925/4925 [==============================] - 10s 2ms/step - loss: 0.6346 - acc: 0.6908 - val_loss: 0.5123 - val_acc: 0.7553\n",
      "Epoch 15/50\n",
      "4925/4925 [==============================] - 10s 2ms/step - loss: 0.6431 - acc: 0.7232 - val_loss: 0.4792 - val_acc: 0.7895\n",
      "Epoch 16/50\n",
      "4925/4925 [==============================] - 10s 2ms/step - loss: 0.4728 - acc: 0.7963 - val_loss: 0.3330 - val_acc: 0.8896\n",
      "Epoch 17/50\n",
      "4925/4925 [==============================] - 10s 2ms/step - loss: 0.4983 - acc: 0.8110 - val_loss: 0.3650 - val_acc: 0.8826\n",
      "Epoch 18/50\n",
      "4925/4925 [==============================] - 10s 2ms/step - loss: 0.4729 - acc: 0.8185 - val_loss: 0.3075 - val_acc: 0.8649\n",
      "Epoch 19/50\n",
      "4925/4925 [==============================] - 10s 2ms/step - loss: 0.4875 - acc: 0.8037 - val_loss: 0.3148 - val_acc: 0.9188\n",
      "Epoch 20/50\n",
      "4925/4925 [==============================] - 10s 2ms/step - loss: 0.4763 - acc: 0.8162 - val_loss: 0.3779 - val_acc: 0.8739\n",
      "Epoch 21/50\n",
      "4925/4925 [==============================] - 10s 2ms/step - loss: 0.3595 - acc: 0.8650 - val_loss: 0.1515 - val_acc: 0.9526\n",
      "Epoch 22/50\n",
      "4925/4925 [==============================] - 10s 2ms/step - loss: 0.3260 - acc: 0.8930 - val_loss: 0.1731 - val_acc: 0.9324\n",
      "Epoch 23/50\n",
      "4925/4925 [==============================] - 10s 2ms/step - loss: 0.2551 - acc: 0.9127 - val_loss: 0.1466 - val_acc: 0.9419\n",
      "Epoch 24/50\n",
      "4925/4925 [==============================] - 10s 2ms/step - loss: 0.1867 - acc: 0.9350 - val_loss: 0.1181 - val_acc: 0.9547\n",
      "Epoch 25/50\n",
      "4925/4925 [==============================] - 10s 2ms/step - loss: 0.1739 - acc: 0.9340 - val_loss: 0.1176 - val_acc: 0.9506\n",
      "Epoch 26/50\n",
      "4925/4925 [==============================] - 10s 2ms/step - loss: 0.2980 - acc: 0.9003 - val_loss: 0.1437 - val_acc: 0.9312\n",
      "Epoch 27/50\n",
      "4925/4925 [==============================] - 10s 2ms/step - loss: 0.1972 - acc: 0.9267 - val_loss: 0.1317 - val_acc: 0.9547\n",
      "Epoch 28/50\n",
      "4925/4925 [==============================] - 10s 2ms/step - loss: 0.2369 - acc: 0.9198 - val_loss: 0.1266 - val_acc: 0.9411\n",
      "Epoch 29/50\n",
      "4925/4925 [==============================] - 10s 2ms/step - loss: 0.1773 - acc: 0.9373 - val_loss: 0.1109 - val_acc: 0.9592\n",
      "Epoch 30/50\n",
      "4925/4925 [==============================] - 10s 2ms/step - loss: 0.2227 - acc: 0.9155 - val_loss: 0.3197 - val_acc: 0.8199\n",
      "Epoch 31/50\n",
      "4925/4925 [==============================] - 10s 2ms/step - loss: 0.2268 - acc: 0.9170 - val_loss: 0.1545 - val_acc: 0.9444\n",
      "Epoch 32/50\n",
      "4925/4925 [==============================] - 10s 2ms/step - loss: 0.1865 - acc: 0.9330 - val_loss: 0.1287 - val_acc: 0.9485\n",
      "Epoch 33/50\n",
      "4925/4925 [==============================] - 10s 2ms/step - loss: 0.2302 - acc: 0.9241 - val_loss: 0.1236 - val_acc: 0.9580\n",
      "Epoch 34/50\n",
      "4925/4925 [==============================] - 10s 2ms/step - loss: 0.1845 - acc: 0.9358 - val_loss: 0.1237 - val_acc: 0.9580\n",
      "Epoch 35/50\n",
      "4925/4925 [==============================] - 10s 2ms/step - loss: 0.1512 - acc: 0.9482 - val_loss: 0.1369 - val_acc: 0.9477\n",
      "Epoch 36/50\n",
      "4925/4925 [==============================] - 10s 2ms/step - loss: 0.1494 - acc: 0.9462 - val_loss: 0.1134 - val_acc: 0.9584\n",
      "Epoch 37/50\n",
      "4925/4925 [==============================] - 10s 2ms/step - loss: 0.1428 - acc: 0.9484 - val_loss: 0.1159 - val_acc: 0.9539\n",
      "Epoch 38/50\n",
      "4925/4925 [==============================] - 10s 2ms/step - loss: 0.1363 - acc: 0.9488 - val_loss: 0.1395 - val_acc: 0.9576\n",
      "Epoch 39/50\n",
      "4925/4925 [==============================] - 10s 2ms/step - loss: 0.1361 - acc: 0.9521 - val_loss: 0.1105 - val_acc: 0.9584\n",
      "Epoch 40/50\n",
      "4925/4925 [==============================] - 10s 2ms/step - loss: 0.1420 - acc: 0.9486 - val_loss: 0.1129 - val_acc: 0.9584\n",
      "Epoch 41/50\n",
      "4925/4925 [==============================] - 10s 2ms/step - loss: 0.1297 - acc: 0.9527 - val_loss: 0.1146 - val_acc: 0.9588\n",
      "Epoch 42/50\n",
      "4925/4925 [==============================] - 10s 2ms/step - loss: 0.1343 - acc: 0.9519 - val_loss: 0.1112 - val_acc: 0.9580\n",
      "Epoch 43/50\n",
      "4925/4925 [==============================] - 10s 2ms/step - loss: 0.1272 - acc: 0.9515 - val_loss: 0.1103 - val_acc: 0.9543\n",
      "Epoch 44/50\n",
      "4925/4925 [==============================] - 10s 2ms/step - loss: 0.1311 - acc: 0.9513 - val_loss: 0.1143 - val_acc: 0.9555\n",
      "Epoch 45/50\n",
      "4925/4925 [==============================] - 10s 2ms/step - loss: 0.1294 - acc: 0.9519 - val_loss: 0.1092 - val_acc: 0.9584\n",
      "Epoch 46/50\n",
      "4925/4925 [==============================] - 10s 2ms/step - loss: 0.1258 - acc: 0.9501 - val_loss: 0.1079 - val_acc: 0.9604\n",
      "Epoch 47/50\n",
      "4925/4925 [==============================] - 10s 2ms/step - loss: 0.1288 - acc: 0.9539 - val_loss: 0.1061 - val_acc: 0.9604\n",
      "Epoch 48/50\n",
      "4925/4925 [==============================] - 10s 2ms/step - loss: 0.1445 - acc: 0.9480 - val_loss: 0.1143 - val_acc: 0.9576\n",
      "Epoch 49/50\n",
      "4925/4925 [==============================] - 10s 2ms/step - loss: 0.1337 - acc: 0.9517 - val_loss: 0.1117 - val_acc: 0.9592\n",
      "Epoch 50/50\n",
      "4925/4925 [==============================] - 10s 2ms/step - loss: 0.1252 - acc: 0.9513 - val_loss: 0.1048 - val_acc: 0.9613\n"
     ]
    },
    {
     "data": {
      "text/plain": [
       "<keras.callbacks.History at 0x7fbcf2813240>"
      ]
     },
     "execution_count": 195,
     "metadata": {
      "tags": []
     },
     "output_type": "execute_result"
    }
   ],
   "source": [
    "# Training the model\n",
    "model.fit(trainX,\n",
    "          trainy,\n",
    "          batch_size=8,\n",
    "          validation_data=(valX, valy),\n",
    "          epochs=50,\n",
    "          callbacks=[EarlyStopping(monitor='val_acc', patience=25), ReduceLROnPlateau(monitor='val_acc', factor=0.2, patience=5, min_lr=.0001)])"
   ]
  },
  {
   "cell_type": "code",
   "execution_count": 0,
   "metadata": {
    "colab": {
     "base_uri": "https://localhost:8080/",
     "height": 52
    },
    "colab_type": "code",
    "id": "roY-_swqPCSZ",
    "outputId": "a6d42953-91b0-461e-ea71-e7ad6adbdb58"
   },
   "outputs": [
    {
     "name": "stdout",
     "output_type": "stream",
     "text": [
      "2947/2947 [==============================] - 1s 263us/step\n"
     ]
    },
    {
     "data": {
      "text/plain": [
       "[0.42299219827817475, 0.9002375296912114]"
      ]
     },
     "execution_count": 196,
     "metadata": {
      "tags": []
     },
     "output_type": "execute_result"
    }
   ],
   "source": [
    "model.evaluate(X_test, Y_test)"
   ]
  },
  {
   "cell_type": "code",
   "execution_count": 0,
   "metadata": {
    "colab": {
     "base_uri": "https://localhost:8080/",
     "height": 34
    },
    "colab_type": "code",
    "id": "hKJ99ling4T-",
    "outputId": "ac9ed0d8-1470-401a-ba53-e52453156701"
   },
   "outputs": [
    {
     "name": "stdout",
     "output_type": "stream",
     "text": [
      "Loss : 0.423 | Accuracy : 90.024 %\n"
     ]
    }
   ],
   "source": [
    "print('Loss : {} | Accuracy : {} %'.format(*np.round([0.42299219827817475, 0.9002375296912114*100.], 3)))"
   ]
  },
  {
   "cell_type": "markdown",
   "metadata": {
    "colab_type": "text",
    "id": "LPN2FloEiXxq"
   },
   "source": [
    "* With a simple 2 LSTM layers architecture we got **90.024% test accuracy** and a **loss of 0.423**"
   ]
  },
  {
   "cell_type": "code",
   "execution_count": 0,
   "metadata": {
    "colab": {},
    "colab_type": "code",
    "id": "wkGkNvsZToVZ"
   },
   "outputs": [],
   "source": [
    "pt.add_row(['2 Layers LSTM', 0.423, '90.024 %'])"
   ]
  },
  {
   "cell_type": "code",
   "execution_count": 0,
   "metadata": {
    "colab": {
     "base_uri": "https://localhost:8080/",
     "height": 257
    },
    "colab_type": "code",
    "id": "tb_5H96Kxq70",
    "outputId": "0406dade-1df4-4299-8a65-8b5aa4240115"
   },
   "outputs": [
    {
     "data": {
      "text/html": [
       "<div>\n",
       "<style scoped>\n",
       "    .dataframe tbody tr th:only-of-type {\n",
       "        vertical-align: middle;\n",
       "    }\n",
       "\n",
       "    .dataframe tbody tr th {\n",
       "        vertical-align: top;\n",
       "    }\n",
       "\n",
       "    .dataframe thead th {\n",
       "        text-align: right;\n",
       "    }\n",
       "</style>\n",
       "<table border=\"1\" class=\"dataframe\">\n",
       "  <thead>\n",
       "    <tr style=\"text-align: right;\">\n",
       "      <th>Pred</th>\n",
       "      <th>LAYING</th>\n",
       "      <th>SITTING</th>\n",
       "      <th>STANDING</th>\n",
       "      <th>WALKING</th>\n",
       "      <th>WALKING_DOWNSTAIRS</th>\n",
       "      <th>WALKING_UPSTAIRS</th>\n",
       "    </tr>\n",
       "    <tr>\n",
       "      <th>True</th>\n",
       "      <th></th>\n",
       "      <th></th>\n",
       "      <th></th>\n",
       "      <th></th>\n",
       "      <th></th>\n",
       "      <th></th>\n",
       "    </tr>\n",
       "  </thead>\n",
       "  <tbody>\n",
       "    <tr>\n",
       "      <th>LAYING</th>\n",
       "      <td>514</td>\n",
       "      <td>0</td>\n",
       "      <td>1</td>\n",
       "      <td>0</td>\n",
       "      <td>0</td>\n",
       "      <td>22</td>\n",
       "    </tr>\n",
       "    <tr>\n",
       "      <th>SITTING</th>\n",
       "      <td>0</td>\n",
       "      <td>394</td>\n",
       "      <td>94</td>\n",
       "      <td>0</td>\n",
       "      <td>0</td>\n",
       "      <td>3</td>\n",
       "    </tr>\n",
       "    <tr>\n",
       "      <th>STANDING</th>\n",
       "      <td>0</td>\n",
       "      <td>100</td>\n",
       "      <td>430</td>\n",
       "      <td>2</td>\n",
       "      <td>0</td>\n",
       "      <td>0</td>\n",
       "    </tr>\n",
       "    <tr>\n",
       "      <th>WALKING</th>\n",
       "      <td>0</td>\n",
       "      <td>0</td>\n",
       "      <td>0</td>\n",
       "      <td>488</td>\n",
       "      <td>0</td>\n",
       "      <td>8</td>\n",
       "    </tr>\n",
       "    <tr>\n",
       "      <th>WALKING_DOWNSTAIRS</th>\n",
       "      <td>0</td>\n",
       "      <td>0</td>\n",
       "      <td>0</td>\n",
       "      <td>1</td>\n",
       "      <td>418</td>\n",
       "      <td>1</td>\n",
       "    </tr>\n",
       "    <tr>\n",
       "      <th>WALKING_UPSTAIRS</th>\n",
       "      <td>0</td>\n",
       "      <td>0</td>\n",
       "      <td>0</td>\n",
       "      <td>43</td>\n",
       "      <td>19</td>\n",
       "      <td>409</td>\n",
       "    </tr>\n",
       "  </tbody>\n",
       "</table>\n",
       "</div>"
      ],
      "text/plain": [
       "Pred                LAYING  SITTING  ...  WALKING_DOWNSTAIRS  WALKING_UPSTAIRS\n",
       "True                                 ...                                      \n",
       "LAYING                 514        0  ...                   0                22\n",
       "SITTING                  0      394  ...                   0                 3\n",
       "STANDING                 0      100  ...                   0                 0\n",
       "WALKING                  0        0  ...                   0                 8\n",
       "WALKING_DOWNSTAIRS       0        0  ...                 418                 1\n",
       "WALKING_UPSTAIRS         0        0  ...                  19               409\n",
       "\n",
       "[6 rows x 6 columns]"
      ]
     },
     "execution_count": 197,
     "metadata": {
      "tags": []
     },
     "output_type": "execute_result"
    }
   ],
   "source": [
    "# Confusion Matrix\n",
    "confusion_matrix(Y_test, model.predict(X_test))"
   ]
  },
  {
   "cell_type": "markdown",
   "metadata": {
    "colab_type": "text",
    "id": "z26hC_K95msQ"
   },
   "source": [
    "#### Model - 2 Using Conv nets"
   ]
  },
  {
   "cell_type": "markdown",
   "metadata": {
    "colab_type": "text",
    "id": "ZB_-rTfljh7m"
   },
   "source": [
    "Tried with various hyper parameter values by hit and trail."
   ]
  },
  {
   "cell_type": "code",
   "execution_count": 0,
   "metadata": {
    "colab": {},
    "colab_type": "code",
    "id": "1I-JWh2Y5pOr"
   },
   "outputs": [],
   "source": [
    "model = Sequential()\n",
    "model.add(Conv1D(filters=32, kernel_size=3, activation='relu', kernel_initializer='he_normal', kernel_regularizer=l2(.001), input_shape=(timesteps, input_dim)))\n",
    "model.add(Conv1D(filters=32, kernel_size=3, activation='relu', kernel_initializer='he_normal', kernel_regularizer=l2(.0001)))\n",
    "model.add(MaxPooling1D(pool_size=2))\n",
    "model.add(Flatten())\n",
    "model.add(Dropout(0.7))\n",
    "model.add(Dense(128, activation='relu', kernel_initializer='he_normal', kernel_regularizer=l2(.001)))\n",
    "model.add(BatchNormalization())\n",
    "model.add(Dropout(0.7))\n",
    "model.add(Dense(6, activation='softmax'))\n",
    "# model.summary()\n",
    "\n",
    "model.compile(loss='categorical_crossentropy', optimizer=keras.optimizers.Adam(), metrics=['accuracy'])"
   ]
  },
  {
   "cell_type": "code",
   "execution_count": 0,
   "metadata": {
    "colab": {},
    "colab_type": "code",
    "id": "bZJYgjMaIETD"
   },
   "outputs": [],
   "source": [
    "!mkdir ./bestModel"
   ]
  },
  {
   "cell_type": "code",
   "execution_count": 0,
   "metadata": {
    "colab": {},
    "colab_type": "code",
    "id": "qE1a1nytKGpa"
   },
   "outputs": [],
   "source": [
    "!rm ./bestModel/*"
   ]
  },
  {
   "cell_type": "code",
   "execution_count": 0,
   "metadata": {
    "colab": {
     "base_uri": "https://localhost:8080/",
     "height": 1000
    },
    "colab_type": "code",
    "id": "iP4KoQCSHjGp",
    "outputId": "4459e0a6-5cce-473e-a51b-33d9ac90608a"
   },
   "outputs": [
    {
     "name": "stdout",
     "output_type": "stream",
     "text": [
      "Train on 4925 samples, validate on 2427 samples\n",
      "Epoch 1/50\n",
      "4925/4925 [==============================] - 5s 926us/step - loss: 0.2105 - acc: 0.9511 - val_loss: 0.1696 - val_acc: 0.9629\n",
      "Epoch 2/50\n",
      "4925/4925 [==============================] - 4s 899us/step - loss: 0.2159 - acc: 0.9486 - val_loss: 0.1637 - val_acc: 0.9633\n",
      "Epoch 3/50\n",
      "4925/4925 [==============================] - 4s 896us/step - loss: 0.2086 - acc: 0.9535 - val_loss: 0.1631 - val_acc: 0.9621\n",
      "Epoch 4/50\n",
      "4925/4925 [==============================] - 4s 878us/step - loss: 0.2033 - acc: 0.9551 - val_loss: 0.1629 - val_acc: 0.9637\n",
      "Epoch 5/50\n",
      "4925/4925 [==============================] - 4s 889us/step - loss: 0.2037 - acc: 0.9539 - val_loss: 0.1610 - val_acc: 0.9633\n",
      "Epoch 6/50\n",
      "4925/4925 [==============================] - 4s 903us/step - loss: 0.2063 - acc: 0.9507 - val_loss: 0.1590 - val_acc: 0.9633\n",
      "Epoch 7/50\n",
      "4925/4925 [==============================] - 4s 881us/step - loss: 0.2016 - acc: 0.9521 - val_loss: 0.1566 - val_acc: 0.9642\n",
      "Epoch 8/50\n",
      "4925/4925 [==============================] - 4s 879us/step - loss: 0.2067 - acc: 0.9529 - val_loss: 0.1575 - val_acc: 0.9629\n",
      "Epoch 9/50\n",
      "4925/4925 [==============================] - 4s 907us/step - loss: 0.2039 - acc: 0.9492 - val_loss: 0.1552 - val_acc: 0.9646\n",
      "Epoch 10/50\n",
      "4925/4925 [==============================] - 4s 904us/step - loss: 0.2042 - acc: 0.9519 - val_loss: 0.1564 - val_acc: 0.9637\n",
      "Epoch 11/50\n",
      "4925/4925 [==============================] - 4s 882us/step - loss: 0.2085 - acc: 0.9541 - val_loss: 0.1523 - val_acc: 0.9625\n",
      "Epoch 12/50\n",
      "4925/4925 [==============================] - 4s 898us/step - loss: 0.2010 - acc: 0.9501 - val_loss: 0.1523 - val_acc: 0.9637\n",
      "Epoch 13/50\n",
      "4925/4925 [==============================] - 4s 893us/step - loss: 0.1947 - acc: 0.9533 - val_loss: 0.1511 - val_acc: 0.9637\n",
      "Epoch 14/50\n",
      "4925/4925 [==============================] - 4s 912us/step - loss: 0.2002 - acc: 0.9531 - val_loss: 0.1498 - val_acc: 0.9646\n",
      "Epoch 15/50\n",
      "4925/4925 [==============================] - 4s 894us/step - loss: 0.2020 - acc: 0.9529 - val_loss: 0.1513 - val_acc: 0.9646\n",
      "Epoch 16/50\n",
      "4925/4925 [==============================] - 4s 904us/step - loss: 0.1872 - acc: 0.9568 - val_loss: 0.1482 - val_acc: 0.9646\n",
      "Epoch 17/50\n",
      "4925/4925 [==============================] - 5s 950us/step - loss: 0.1828 - acc: 0.9576 - val_loss: 0.1497 - val_acc: 0.9621\n",
      "Epoch 18/50\n",
      "4925/4925 [==============================] - 5s 969us/step - loss: 0.1976 - acc: 0.9498 - val_loss: 0.1483 - val_acc: 0.9637\n",
      "Epoch 19/50\n",
      "4925/4925 [==============================] - 4s 907us/step - loss: 0.1923 - acc: 0.9561 - val_loss: 0.1470 - val_acc: 0.9642\n",
      "Epoch 20/50\n",
      "4925/4925 [==============================] - 4s 908us/step - loss: 0.1981 - acc: 0.9511 - val_loss: 0.1453 - val_acc: 0.9658\n",
      "Epoch 21/50\n",
      "4925/4925 [==============================] - 4s 889us/step - loss: 0.1826 - acc: 0.9574 - val_loss: 0.1454 - val_acc: 0.9666\n",
      "Epoch 22/50\n",
      "4925/4925 [==============================] - 4s 911us/step - loss: 0.1887 - acc: 0.9557 - val_loss: 0.1418 - val_acc: 0.9646\n",
      "Epoch 23/50\n",
      "4925/4925 [==============================] - 4s 888us/step - loss: 0.1927 - acc: 0.9521 - val_loss: 0.1439 - val_acc: 0.9670\n",
      "Epoch 24/50\n",
      "4925/4925 [==============================] - 4s 907us/step - loss: 0.1799 - acc: 0.9539 - val_loss: 0.1437 - val_acc: 0.9621\n",
      "Epoch 25/50\n",
      "4925/4925 [==============================] - 4s 873us/step - loss: 0.1810 - acc: 0.9576 - val_loss: 0.1410 - val_acc: 0.9646\n",
      "Epoch 26/50\n",
      "4925/4925 [==============================] - 4s 888us/step - loss: 0.1760 - acc: 0.9586 - val_loss: 0.1452 - val_acc: 0.9658\n",
      "Epoch 27/50\n",
      "4925/4925 [==============================] - 4s 885us/step - loss: 0.1821 - acc: 0.9543 - val_loss: 0.1405 - val_acc: 0.9674\n",
      "Epoch 28/50\n",
      "4925/4925 [==============================] - 4s 879us/step - loss: 0.1836 - acc: 0.9549 - val_loss: 0.1377 - val_acc: 0.9674\n",
      "Epoch 29/50\n",
      "4925/4925 [==============================] - 4s 901us/step - loss: 0.1873 - acc: 0.9551 - val_loss: 0.1370 - val_acc: 0.9670\n",
      "Epoch 30/50\n",
      "4925/4925 [==============================] - 4s 891us/step - loss: 0.1858 - acc: 0.9555 - val_loss: 0.1378 - val_acc: 0.9666\n",
      "Epoch 31/50\n",
      "4925/4925 [==============================] - 4s 872us/step - loss: 0.1741 - acc: 0.9588 - val_loss: 0.1358 - val_acc: 0.9650\n",
      "Epoch 32/50\n",
      "4925/4925 [==============================] - 4s 896us/step - loss: 0.1757 - acc: 0.9602 - val_loss: 0.1353 - val_acc: 0.9658\n",
      "Epoch 33/50\n",
      "4925/4925 [==============================] - 4s 893us/step - loss: 0.1682 - acc: 0.9630 - val_loss: 0.1353 - val_acc: 0.9687\n",
      "Epoch 34/50\n",
      "4925/4925 [==============================] - 4s 885us/step - loss: 0.1807 - acc: 0.9537 - val_loss: 0.1374 - val_acc: 0.9674\n",
      "Epoch 35/50\n",
      "4925/4925 [==============================] - 4s 884us/step - loss: 0.1661 - acc: 0.9606 - val_loss: 0.1341 - val_acc: 0.9691\n",
      "Epoch 36/50\n",
      "4925/4925 [==============================] - 4s 908us/step - loss: 0.1746 - acc: 0.9570 - val_loss: 0.1321 - val_acc: 0.9674\n",
      "Epoch 37/50\n",
      "4925/4925 [==============================] - 4s 881us/step - loss: 0.1714 - acc: 0.9570 - val_loss: 0.1314 - val_acc: 0.9654\n",
      "Epoch 38/50\n",
      "4925/4925 [==============================] - 4s 893us/step - loss: 0.1697 - acc: 0.9592 - val_loss: 0.1324 - val_acc: 0.9679\n",
      "Epoch 39/50\n",
      "4925/4925 [==============================] - 4s 896us/step - loss: 0.1624 - acc: 0.9614 - val_loss: 0.1291 - val_acc: 0.9699\n",
      "Epoch 40/50\n",
      "4925/4925 [==============================] - 4s 884us/step - loss: 0.1677 - acc: 0.9582 - val_loss: 0.1308 - val_acc: 0.9707\n",
      "Epoch 41/50\n",
      "4925/4925 [==============================] - 4s 907us/step - loss: 0.1845 - acc: 0.9529 - val_loss: 0.1290 - val_acc: 0.9720\n",
      "Epoch 42/50\n",
      "4925/4925 [==============================] - 4s 884us/step - loss: 0.1775 - acc: 0.9557 - val_loss: 0.1311 - val_acc: 0.9703\n",
      "Epoch 43/50\n",
      "4925/4925 [==============================] - 4s 892us/step - loss: 0.1667 - acc: 0.9588 - val_loss: 0.1279 - val_acc: 0.9679\n",
      "Epoch 44/50\n",
      "4925/4925 [==============================] - 4s 877us/step - loss: 0.1652 - acc: 0.9598 - val_loss: 0.1368 - val_acc: 0.9716\n",
      "Epoch 45/50\n",
      "4925/4925 [==============================] - 4s 898us/step - loss: 0.1726 - acc: 0.9563 - val_loss: 0.1286 - val_acc: 0.9687\n",
      "Epoch 46/50\n",
      "4925/4925 [==============================] - 4s 888us/step - loss: 0.1660 - acc: 0.9598 - val_loss: 0.1270 - val_acc: 0.9699\n",
      "Epoch 47/50\n",
      "4925/4925 [==============================] - 4s 888us/step - loss: 0.1616 - acc: 0.9612 - val_loss: 0.1266 - val_acc: 0.9699\n",
      "Epoch 48/50\n",
      "4925/4925 [==============================] - 4s 894us/step - loss: 0.1642 - acc: 0.9614 - val_loss: 0.1280 - val_acc: 0.9670\n",
      "Epoch 49/50\n",
      "4925/4925 [==============================] - 4s 885us/step - loss: 0.1657 - acc: 0.9610 - val_loss: 0.1241 - val_acc: 0.9707\n",
      "Epoch 50/50\n",
      "4925/4925 [==============================] - 4s 900us/step - loss: 0.1690 - acc: 0.9578 - val_loss: 0.1332 - val_acc: 0.9674\n"
     ]
    },
    {
     "data": {
      "text/plain": [
       "<keras.callbacks.History at 0x7fbcf7dbc630>"
      ]
     },
     "execution_count": 159,
     "metadata": {
      "tags": []
     },
     "output_type": "execute_result"
    }
   ],
   "source": [
    "# Training the model\n",
    "model.fit(trainX,\n",
    "          trainy,\n",
    "          batch_size=8,\n",
    "          validation_data=(valX, valy),\n",
    "          epochs=50,\n",
    "          callbacks=[ModelCheckpoint('bestModel/bestmodel.hdf5', monitor='val_acc', save_best_only=True),\\\n",
    "                     EarlyStopping(monitor='val_acc', patience=15),\\\n",
    "                     ReduceLROnPlateau(monitor='val_acc', factor=0.2, patience=5, min_lr=.0001)])"
   ]
  },
  {
   "cell_type": "markdown",
   "metadata": {
    "colab_type": "text",
    "id": "VXI0dzPJNK_h"
   },
   "source": [
    "**Loading best model so far**"
   ]
  },
  {
   "cell_type": "code",
   "execution_count": 0,
   "metadata": {
    "colab": {},
    "colab_type": "code",
    "id": "ej1TtBVTImf6"
   },
   "outputs": [],
   "source": [
    "#Loading best model at epoch with high val accuracy\n",
    "model = load_model('bestModel/bestmodel.hdf5')"
   ]
  },
  {
   "cell_type": "code",
   "execution_count": 0,
   "metadata": {
    "colab": {
     "base_uri": "https://localhost:8080/",
     "height": 52
    },
    "colab_type": "code",
    "id": "qAtn400eNoWd",
    "outputId": "38b9d1cc-a1d0-4810-b974-a9497f1b1dca"
   },
   "outputs": [
    {
     "name": "stdout",
     "output_type": "stream",
     "text": [
      "2947/2947 [==============================] - 0s 80us/step\n",
      "[0.343903040034936, 0.9229725144214456]\n"
     ]
    }
   ],
   "source": [
    "model.evaluate(X_test, Y_test)"
   ]
  },
  {
   "cell_type": "code",
   "execution_count": 0,
   "metadata": {
    "colab": {
     "base_uri": "https://localhost:8080/",
     "height": 34
    },
    "colab_type": "code",
    "id": "0cm-uwavh65w",
    "outputId": "a50fdf67-511a-4f50-fd06-2ec9ca1c7818"
   },
   "outputs": [
    {
     "name": "stdout",
     "output_type": "stream",
     "text": [
      "Loss : 0.344 | Accuracy : 92.297 %\n"
     ]
    }
   ],
   "source": [
    "print('Loss : {} | Accuracy : {} %'.format(*np.round([0.343903040034936, 0.9229725144214456*100.], 2)))"
   ]
  },
  {
   "cell_type": "markdown",
   "metadata": {
    "colab_type": "text",
    "id": "fl_SO8oZif9Y"
   },
   "source": [
    "* With a simple 2 convolution layers and 1 max-pooling architecture we got **92.297% test accuracy** and a **loss of 0.344**"
   ]
  },
  {
   "cell_type": "code",
   "execution_count": 0,
   "metadata": {
    "colab": {},
    "colab_type": "code",
    "id": "098h4uoYT_0X"
   },
   "outputs": [],
   "source": [
    "pt.add_row(['2 Layers 1D Convolutions', 0.344, '92.297 %'])"
   ]
  },
  {
   "cell_type": "code",
   "execution_count": 0,
   "metadata": {
    "colab": {
     "base_uri": "https://localhost:8080/",
     "height": 257
    },
    "colab_type": "code",
    "id": "kHAr3E4J-Y4K",
    "outputId": "e82d256c-2018-47ec-cccd-adb7c63d0ad7"
   },
   "outputs": [
    {
     "data": {
      "text/html": [
       "<div>\n",
       "<style scoped>\n",
       "    .dataframe tbody tr th:only-of-type {\n",
       "        vertical-align: middle;\n",
       "    }\n",
       "\n",
       "    .dataframe tbody tr th {\n",
       "        vertical-align: top;\n",
       "    }\n",
       "\n",
       "    .dataframe thead th {\n",
       "        text-align: right;\n",
       "    }\n",
       "</style>\n",
       "<table border=\"1\" class=\"dataframe\">\n",
       "  <thead>\n",
       "    <tr style=\"text-align: right;\">\n",
       "      <th>Pred</th>\n",
       "      <th>LAYING</th>\n",
       "      <th>SITTING</th>\n",
       "      <th>STANDING</th>\n",
       "      <th>WALKING</th>\n",
       "      <th>WALKING_DOWNSTAIRS</th>\n",
       "      <th>WALKING_UPSTAIRS</th>\n",
       "    </tr>\n",
       "    <tr>\n",
       "      <th>True</th>\n",
       "      <th></th>\n",
       "      <th></th>\n",
       "      <th></th>\n",
       "      <th></th>\n",
       "      <th></th>\n",
       "      <th></th>\n",
       "    </tr>\n",
       "  </thead>\n",
       "  <tbody>\n",
       "    <tr>\n",
       "      <th>LAYING</th>\n",
       "      <td>512</td>\n",
       "      <td>0</td>\n",
       "      <td>0</td>\n",
       "      <td>0</td>\n",
       "      <td>0</td>\n",
       "      <td>25</td>\n",
       "    </tr>\n",
       "    <tr>\n",
       "      <th>SITTING</th>\n",
       "      <td>0</td>\n",
       "      <td>399</td>\n",
       "      <td>68</td>\n",
       "      <td>0</td>\n",
       "      <td>0</td>\n",
       "      <td>24</td>\n",
       "    </tr>\n",
       "    <tr>\n",
       "      <th>STANDING</th>\n",
       "      <td>0</td>\n",
       "      <td>72</td>\n",
       "      <td>456</td>\n",
       "      <td>0</td>\n",
       "      <td>0</td>\n",
       "      <td>4</td>\n",
       "    </tr>\n",
       "    <tr>\n",
       "      <th>WALKING</th>\n",
       "      <td>0</td>\n",
       "      <td>0</td>\n",
       "      <td>0</td>\n",
       "      <td>481</td>\n",
       "      <td>14</td>\n",
       "      <td>1</td>\n",
       "    </tr>\n",
       "    <tr>\n",
       "      <th>WALKING_DOWNSTAIRS</th>\n",
       "      <td>0</td>\n",
       "      <td>0</td>\n",
       "      <td>0</td>\n",
       "      <td>0</td>\n",
       "      <td>420</td>\n",
       "      <td>0</td>\n",
       "    </tr>\n",
       "    <tr>\n",
       "      <th>WALKING_UPSTAIRS</th>\n",
       "      <td>0</td>\n",
       "      <td>0</td>\n",
       "      <td>0</td>\n",
       "      <td>2</td>\n",
       "      <td>20</td>\n",
       "      <td>449</td>\n",
       "    </tr>\n",
       "  </tbody>\n",
       "</table>\n",
       "</div>"
      ],
      "text/plain": [
       "Pred                LAYING  SITTING  ...  WALKING_DOWNSTAIRS  WALKING_UPSTAIRS\n",
       "True                                 ...                                      \n",
       "LAYING                 512        0  ...                   0                25\n",
       "SITTING                  0      399  ...                   0                24\n",
       "STANDING                 0       72  ...                   0                 4\n",
       "WALKING                  0        0  ...                  14                 1\n",
       "WALKING_DOWNSTAIRS       0        0  ...                 420                 0\n",
       "WALKING_UPSTAIRS         0        0  ...                  20               449\n",
       "\n",
       "[6 rows x 6 columns]"
      ]
     },
     "execution_count": 191,
     "metadata": {
      "tags": []
     },
     "output_type": "execute_result"
    }
   ],
   "source": [
    "# Confusion Matrix\n",
    "confusion_matrix(Y_test, model.predict(X_test))"
   ]
  },
  {
   "cell_type": "markdown",
   "metadata": {
    "colab_type": "text",
    "id": "c2aC5eAWN-hn"
   },
   "source": [
    "#### Model - 3 Using Divide and conquer Conv nets"
   ]
  },
  {
   "cell_type": "markdown",
   "metadata": {
    "colab_type": "text",
    "id": "c-Bvn2p4wZzW"
   },
   "source": [
    "References: \n",
    "* https://www.ncbi.nlm.nih.gov/pmc/articles/PMC5949027/\n",
    "* https://github.com/maxpumperla/hyperas"
   ]
  },
  {
   "cell_type": "markdown",
   "metadata": {
    "colab_type": "text",
    "id": "zUGhO4Al8zQc"
   },
   "source": [
    "##### Data Preparation Basic"
   ]
  },
  {
   "cell_type": "code",
   "execution_count": 0,
   "metadata": {
    "colab": {},
    "colab_type": "code",
    "id": "3oQ69GUdL23x"
   },
   "outputs": [],
   "source": [
    "from keras.layers import multiply\n",
    "import keras\n",
    "import keras.backend as K"
   ]
  },
  {
   "cell_type": "code",
   "execution_count": 0,
   "metadata": {
    "colab": {},
    "colab_type": "code",
    "id": "nfDthLrS9wNI"
   },
   "outputs": [],
   "source": [
    "def load_y_new(subset):\n",
    "    \"\"\"\n",
    "    The objective that we are trying to predict is a integer, from 1 to 6,\n",
    "    that represents a human activity. We return a binary representation of \n",
    "    every sample objective as a 6 bits vector using One Hot Encoding\n",
    "    (https://pandas.pydata.org/pandas-docs/stable/generated/pandas.get_dummies.html)\n",
    "    \"\"\"\n",
    "    filename = f'/'.join([DATADIR,'{0}/y_{0}.txt'.format(subset)])\n",
    "    y = _read_csv(filename)[0]\n",
    "\n",
    "    return y.values"
   ]
  },
  {
   "cell_type": "code",
   "execution_count": 0,
   "metadata": {
    "colab": {},
    "colab_type": "code",
    "id": "GNCr1U4BMEmr"
   },
   "outputs": [],
   "source": [
    "X_train, X_test = load_signals('train'), load_signals('test')\n",
    "y_train, y_test = load_y_new('train'), load_y_new('test')"
   ]
  },
  {
   "cell_type": "code",
   "execution_count": 0,
   "metadata": {
    "colab": {},
    "colab_type": "code",
    "id": "lviL4VxnQVDv"
   },
   "outputs": [],
   "source": [
    "y_train_bin, y_test_bin = pd.Series(y_train).map(dict(zip(range(1,7), [1]*3+[0]*3))).values,\\\n",
    "                          pd.Series(y_test).map(dict(zip(range(1,7), [1]*3+[0]*3))).values"
   ]
  },
  {
   "cell_type": "code",
   "execution_count": 0,
   "metadata": {
    "colab": {},
    "colab_type": "code",
    "id": "eWiEp6ZyBUJa"
   },
   "outputs": [],
   "source": [
    "# Dynamic class data\n",
    "X_train_dynamic, X_test_dynamic = X_train[y_train_bin==1], X_test[y_test_bin==1]\n",
    "\n",
    "y_train_dynamic, y_test_dynamic = y_train[y_train_bin==1], y_test[y_test_bin==1] \n",
    "\n",
    "# Static class data\n",
    "X_train_static, X_test_static = X_train[y_train_bin==0], X_test[y_test_bin==0]\n",
    "\n",
    "y_train_static, y_test_static = y_train[y_train_bin==0], y_test[y_test_bin==0] "
   ]
  },
  {
   "cell_type": "code",
   "execution_count": 0,
   "metadata": {
    "colab": {},
    "colab_type": "code",
    "id": "AmowVr9rUoEZ"
   },
   "outputs": [],
   "source": [
    "y_train_bin, y_test_bin = pd.get_dummies(y_train_bin).values,\\\n",
    "                                     pd.get_dummies(y_test_bin).values\n",
    "\n",
    "y_train_dynamic, y_test_dynamic = pd.get_dummies(y_train_dynamic).values,\\\n",
    "                                                 pd.get_dummies(y_test_dynamic).values\n",
    "\n",
    "y_train_static, y_test_static = pd.get_dummies(y_train_static).values,\\\n",
    "                                              pd.get_dummies(y_test_static).values"
   ]
  },
  {
   "cell_type": "markdown",
   "metadata": {
    "colab_type": "text",
    "id": "Xo0FdinOYi86"
   },
   "source": [
    "##### Base Binary Model"
   ]
  },
  {
   "cell_type": "code",
   "execution_count": 0,
   "metadata": {
    "colab": {},
    "colab_type": "code",
    "id": "xnXLwProVoKZ"
   },
   "outputs": [],
   "source": [
    "main_input = Input(shape=(timesteps, input_dim), name='main_input')\n",
    "\n",
    "# Base Binary Model\n",
    "x = Conv1D(filters=16, kernel_size=3, activation='relu', kernel_initializer='he_normal', kernel_regularizer=l2(.0001))(main_input)\n",
    "x = MaxPooling1D(pool_size=2)(x)\n",
    "x = Flatten()(x)\n",
    "x = Dropout(rate=.5)(x)\n",
    "x = Dense(16, activation='relu', kernel_initializer='he_normal', kernel_regularizer=l2(.001))(x)\n",
    "x = BatchNormalization()(x)\n",
    "x = Dropout(rate=.65)(x)\n",
    "out = Dense(2, activation='softmax', name='binary_out')(x)\n",
    "\n",
    "bin_model = Model(inputs=main_input, outputs=out)\n",
    "\n",
    "bin_model.compile(loss='binary_crossentropy', optimizer=keras.optimizers.Adam(.01), metrics=['accuracy'])"
   ]
  },
  {
   "cell_type": "code",
   "execution_count": 0,
   "metadata": {
    "colab": {
     "base_uri": "https://localhost:8080/",
     "height": 621
    },
    "colab_type": "code",
    "id": "Vd80evFlWP-M",
    "outputId": "01b63ff9-51a4-4c43-d240-fabb5959d704"
   },
   "outputs": [
    {
     "name": "stdout",
     "output_type": "stream",
     "text": [
      "Train on 7352 samples, validate on 2947 samples\n",
      "Epoch 1/20\n",
      "7352/7352 [==============================] - 15s 2ms/step - loss: 0.2863 - acc: 0.9479 - val_loss: 0.1700 - val_acc: 0.9986\n",
      "Epoch 2/20\n",
      "7352/7352 [==============================] - 8s 1ms/step - loss: 0.2714 - acc: 0.9686 - val_loss: 0.1841 - val_acc: 0.9854\n",
      "Epoch 3/20\n",
      "7352/7352 [==============================] - 8s 1ms/step - loss: 0.2654 - acc: 0.9767 - val_loss: 0.1852 - val_acc: 0.9946\n",
      "Epoch 4/20\n",
      "7352/7352 [==============================] - 8s 1ms/step - loss: 0.2800 - acc: 0.9720 - val_loss: 0.1329 - val_acc: 0.9986\n",
      "Epoch 5/20\n",
      "7352/7352 [==============================] - 8s 1ms/step - loss: 0.1795 - acc: 0.9789 - val_loss: 0.0813 - val_acc: 0.9986\n",
      "Epoch 6/20\n",
      "7352/7352 [==============================] - 8s 1ms/step - loss: 0.1202 - acc: 0.9839 - val_loss: 0.0524 - val_acc: 0.9993\n",
      "Epoch 7/20\n",
      "7352/7352 [==============================] - 8s 1ms/step - loss: 0.0806 - acc: 0.9902 - val_loss: 0.0423 - val_acc: 0.9986\n",
      "Epoch 8/20\n",
      "7352/7352 [==============================] - 8s 1ms/step - loss: 0.0986 - acc: 0.9861 - val_loss: 0.0416 - val_acc: 0.9986\n",
      "Epoch 9/20\n",
      "7352/7352 [==============================] - 8s 1ms/step - loss: 0.1006 - acc: 0.9850 - val_loss: 0.0400 - val_acc: 0.9993\n",
      "Epoch 10/20\n",
      "7352/7352 [==============================] - 8s 1ms/step - loss: 0.1014 - acc: 0.9791 - val_loss: 0.0355 - val_acc: 0.9993\n",
      "Epoch 11/20\n",
      "7352/7352 [==============================] - 8s 1ms/step - loss: 0.0702 - acc: 0.9893 - val_loss: 0.0330 - val_acc: 0.9993\n",
      "Epoch 12/20\n",
      "7352/7352 [==============================] - 8s 1ms/step - loss: 0.0825 - acc: 0.9865 - val_loss: 0.0301 - val_acc: 0.9990\n",
      "Epoch 13/20\n",
      "7352/7352 [==============================] - 7s 1ms/step - loss: 0.0714 - acc: 0.9849 - val_loss: 0.0287 - val_acc: 0.9990\n",
      "Epoch 14/20\n",
      "7352/7352 [==============================] - 8s 1ms/step - loss: 0.0721 - acc: 0.9898 - val_loss: 0.0281 - val_acc: 0.9990\n",
      "Epoch 15/20\n",
      "7352/7352 [==============================] - 8s 1ms/step - loss: 0.0761 - acc: 0.9861 - val_loss: 0.0273 - val_acc: 0.9990\n",
      "Epoch 16/20\n",
      "7352/7352 [==============================] - 8s 1ms/step - loss: 0.0737 - acc: 0.9868 - val_loss: 0.0272 - val_acc: 0.9990\n"
     ]
    },
    {
     "data": {
      "text/plain": [
       "<keras.callbacks.History at 0x7f98b29eef28>"
      ]
     },
     "execution_count": 258,
     "metadata": {
      "tags": []
     },
     "output_type": "execute_result"
    }
   ],
   "source": [
    "bin_model.fit(X_train,\n",
    "              y_train_bin,\n",
    "              batch_size=8,\n",
    "              validation_data=(X_test, y_test_bin),\n",
    "              epochs=20,\n",
    "              callbacks=[EarlyStopping(monitor='val_acc', patience=10), ReduceLROnPlateau(monitor='val_acc', factor=0.2, patience=3, min_lr=.0001)])"
   ]
  },
  {
   "cell_type": "code",
   "execution_count": 0,
   "metadata": {
    "colab": {
     "base_uri": "https://localhost:8080/",
     "height": 34
    },
    "colab_type": "code",
    "id": "11SZfSGqWxji",
    "outputId": "88e259c1-66fe-4b59-a1dc-cebe87913a6c"
   },
   "outputs": [
    {
     "name": "stdout",
     "output_type": "stream",
     "text": [
      "2947/2947 [==============================] - 0s 141us/step\n"
     ]
    }
   ],
   "source": [
    "bin_loss, bin_acc = bin_model.evaluate(X_test, y_test_bin)"
   ]
  },
  {
   "cell_type": "code",
   "execution_count": 0,
   "metadata": {
    "colab": {
     "base_uri": "https://localhost:8080/",
     "height": 34
    },
    "colab_type": "code",
    "id": "6PBO2sqmXtg-",
    "outputId": "833cb0c1-588f-45a8-9ceb-9d33fb7b91ee"
   },
   "outputs": [
    {
     "name": "stdout",
     "output_type": "stream",
     "text": [
      "Loss : 0.027248992813763112 | Accuracy : 99.8982015609094 %\n"
     ]
    }
   ],
   "source": [
    "print('Loss : {} | Accuracy : {} %'.format(bin_loss, bin_acc*100.))"
   ]
  },
  {
   "cell_type": "code",
   "execution_count": 0,
   "metadata": {
    "colab": {},
    "colab_type": "code",
    "id": "Mdx41vo9iTob"
   },
   "outputs": [],
   "source": [
    "# Utility function to print the confusion matrix\n",
    "def confusion_matrix_bin(Y_true, Y_pred, ACTIVITIES):\n",
    "    Y_true = pd.Series([ACTIVITIES[y] for y in np.argmax(Y_true, axis=1)])\n",
    "    Y_pred = pd.Series([ACTIVITIES[y] for y in np.argmax(Y_pred, axis=1)])\n",
    "\n",
    "    return pd.crosstab(Y_true, Y_pred, rownames=['True'], colnames=['Pred'])"
   ]
  },
  {
   "cell_type": "code",
   "execution_count": 0,
   "metadata": {
    "colab": {
     "base_uri": "https://localhost:8080/",
     "height": 137
    },
    "colab_type": "code",
    "id": "V4j3gyQRhokq",
    "outputId": "20158e6f-545e-41fb-b954-2fbe575477a0"
   },
   "outputs": [
    {
     "data": {
      "text/html": [
       "<div>\n",
       "<style scoped>\n",
       "    .dataframe tbody tr th:only-of-type {\n",
       "        vertical-align: middle;\n",
       "    }\n",
       "\n",
       "    .dataframe tbody tr th {\n",
       "        vertical-align: top;\n",
       "    }\n",
       "\n",
       "    .dataframe thead th {\n",
       "        text-align: right;\n",
       "    }\n",
       "</style>\n",
       "<table border=\"1\" class=\"dataframe\">\n",
       "  <thead>\n",
       "    <tr style=\"text-align: right;\">\n",
       "      <th>Pred</th>\n",
       "      <th>Dynamic</th>\n",
       "      <th>Static</th>\n",
       "    </tr>\n",
       "    <tr>\n",
       "      <th>True</th>\n",
       "      <th></th>\n",
       "      <th></th>\n",
       "    </tr>\n",
       "  </thead>\n",
       "  <tbody>\n",
       "    <tr>\n",
       "      <th>Dynamic</th>\n",
       "      <td>1387</td>\n",
       "      <td>0</td>\n",
       "    </tr>\n",
       "    <tr>\n",
       "      <th>Static</th>\n",
       "      <td>3</td>\n",
       "      <td>1557</td>\n",
       "    </tr>\n",
       "  </tbody>\n",
       "</table>\n",
       "</div>"
      ],
      "text/plain": [
       "Pred     Dynamic  Static\n",
       "True                    \n",
       "Dynamic     1387       0\n",
       "Static         3    1557"
      ]
     },
     "execution_count": 283,
     "metadata": {
      "tags": []
     },
     "output_type": "execute_result"
    }
   ],
   "source": [
    "confusion_matrix_bin(y_test_bin, bin_model.predict(X_test), {\n",
    "    0: 'Static',\n",
    "    1: 'Dynamic',\n",
    "})"
   ]
  },
  {
   "cell_type": "code",
   "execution_count": 0,
   "metadata": {
    "colab": {},
    "colab_type": "code",
    "id": "aNmAvl6rX_Jd"
   },
   "outputs": [],
   "source": [
    "bin_model.save('Base_Binary_model.hdf5')"
   ]
  },
  {
   "cell_type": "markdown",
   "metadata": {
    "colab_type": "text",
    "id": "z4rmx3nfYdhj"
   },
   "source": [
    "##### Dynamic class Model"
   ]
  },
  {
   "cell_type": "code",
   "execution_count": 0,
   "metadata": {
    "colab": {},
    "colab_type": "code",
    "id": "C4ftED14Yme5"
   },
   "outputs": [],
   "source": [
    "# Model - 1\n",
    "dynamic_input = Input(shape=(timesteps, input_dim), name='dynamic_input')\n",
    "\n",
    "y = Conv1D(filters=64, kernel_size=3, activation='relu',)(dynamic_input)\n",
    "y = Conv1D(filters=32, kernel_size=3, activation='relu',)(y)\n",
    "y = MaxPooling1D(pool_size=2)(y)\n",
    "y = Flatten()(y)\n",
    "y = Dropout(rate=.6)(y)\n",
    "y = Dense(32, activation='relu', kernel_regularizer=l2(.001))(y)\n",
    "y = BatchNormalization()(y)\n",
    "y = Dropout(.6)(y)\n",
    "dynamic_output = Dense(3, activation='softmax', name='dynamic_out')(y)\n",
    "\n",
    "dynamic_model = Model(inputs=dynamic_input, outputs=dynamic_output)\n",
    "\n",
    "dynamic_model.compile(loss='categorical_crossentropy', optimizer=keras.optimizers.rmsprop(.01), metrics=['accuracy'])"
   ]
  },
  {
   "cell_type": "code",
   "execution_count": 0,
   "metadata": {
    "colab": {
     "base_uri": "https://localhost:8080/",
     "height": 1000
    },
    "colab_type": "code",
    "id": "5tlEIHOIa-BC",
    "outputId": "3cb348bf-3231-42fa-829e-376cad529799"
   },
   "outputs": [
    {
     "name": "stdout",
     "output_type": "stream",
     "text": [
      "Train on 3285 samples, validate on 1387 samples\n",
      "Epoch 1/50\n",
      "3285/3285 [==============================] - 3s 787us/step - loss: 0.1978 - acc: 0.9522 - val_loss: 0.1291 - val_acc: 0.9647\n",
      "Epoch 2/50\n",
      "3285/3285 [==============================] - 3s 791us/step - loss: 0.2071 - acc: 0.9482 - val_loss: 0.1693 - val_acc: 0.9603\n",
      "Epoch 3/50\n",
      "3285/3285 [==============================] - 3s 791us/step - loss: 0.2372 - acc: 0.9434 - val_loss: 0.1323 - val_acc: 0.9733\n",
      "Epoch 4/50\n",
      "3285/3285 [==============================] - 3s 782us/step - loss: 0.2026 - acc: 0.9470 - val_loss: 0.1143 - val_acc: 0.9740\n",
      "Epoch 5/50\n",
      "3285/3285 [==============================] - 3s 780us/step - loss: 0.2680 - acc: 0.9376 - val_loss: 0.1669 - val_acc: 0.9625\n",
      "Epoch 6/50\n",
      "3285/3285 [==============================] - 3s 809us/step - loss: 0.2039 - acc: 0.9528 - val_loss: 0.1494 - val_acc: 0.9668\n",
      "Epoch 7/50\n",
      "3285/3285 [==============================] - 3s 789us/step - loss: 0.2005 - acc: 0.9440 - val_loss: 0.1628 - val_acc: 0.9625\n",
      "Epoch 8/50\n",
      "3285/3285 [==============================] - 3s 783us/step - loss: 0.2084 - acc: 0.9470 - val_loss: 0.1412 - val_acc: 0.9690\n",
      "Epoch 9/50\n",
      "3285/3285 [==============================] - 3s 804us/step - loss: 0.2095 - acc: 0.9516 - val_loss: 0.1473 - val_acc: 0.9697\n",
      "Epoch 10/50\n",
      "3285/3285 [==============================] - 3s 784us/step - loss: 0.2003 - acc: 0.9513 - val_loss: 0.1707 - val_acc: 0.9690\n",
      "Epoch 11/50\n",
      "3285/3285 [==============================] - 3s 798us/step - loss: 0.1752 - acc: 0.9580 - val_loss: 0.1792 - val_acc: 0.9640\n",
      "Epoch 12/50\n",
      "3285/3285 [==============================] - 3s 780us/step - loss: 0.1962 - acc: 0.9549 - val_loss: 0.1443 - val_acc: 0.9690\n",
      "Epoch 13/50\n",
      "3285/3285 [==============================] - 3s 812us/step - loss: 0.2125 - acc: 0.9537 - val_loss: 0.2340 - val_acc: 0.9625\n",
      "Epoch 14/50\n",
      "3285/3285 [==============================] - 3s 793us/step - loss: 0.1583 - acc: 0.9598 - val_loss: 0.2017 - val_acc: 0.9661\n",
      "Epoch 15/50\n",
      "3285/3285 [==============================] - 3s 783us/step - loss: 0.1709 - acc: 0.9647 - val_loss: 0.1951 - val_acc: 0.9726\n",
      "Epoch 16/50\n",
      "3285/3285 [==============================] - 3s 805us/step - loss: 0.1303 - acc: 0.9674 - val_loss: 0.2214 - val_acc: 0.9654\n",
      "Epoch 17/50\n",
      "3285/3285 [==============================] - 3s 817us/step - loss: 0.2010 - acc: 0.9528 - val_loss: 0.2585 - val_acc: 0.9640\n",
      "Epoch 18/50\n",
      "3285/3285 [==============================] - 3s 818us/step - loss: 0.1694 - acc: 0.9647 - val_loss: 0.2897 - val_acc: 0.9510\n",
      "Epoch 19/50\n",
      "3285/3285 [==============================] - 3s 821us/step - loss: 0.1643 - acc: 0.9665 - val_loss: 0.4056 - val_acc: 0.9286\n",
      "Epoch 20/50\n",
      "3285/3285 [==============================] - 3s 818us/step - loss: 0.2001 - acc: 0.9543 - val_loss: 0.3493 - val_acc: 0.9452\n",
      "Epoch 21/50\n",
      "3285/3285 [==============================] - 3s 812us/step - loss: 0.1556 - acc: 0.9656 - val_loss: 0.2541 - val_acc: 0.9697\n",
      "Epoch 22/50\n",
      "3285/3285 [==============================] - 3s 798us/step - loss: 0.1520 - acc: 0.9686 - val_loss: 0.2686 - val_acc: 0.9668\n",
      "Epoch 23/50\n",
      "3285/3285 [==============================] - 3s 787us/step - loss: 0.1669 - acc: 0.9632 - val_loss: 0.2475 - val_acc: 0.9683\n",
      "Epoch 24/50\n",
      "3285/3285 [==============================] - 3s 791us/step - loss: 0.1708 - acc: 0.9616 - val_loss: 0.2433 - val_acc: 0.9690\n",
      "Epoch 25/50\n",
      "3285/3285 [==============================] - 3s 796us/step - loss: 0.1600 - acc: 0.9686 - val_loss: 0.2373 - val_acc: 0.9712\n",
      "Epoch 26/50\n",
      "3285/3285 [==============================] - 3s 789us/step - loss: 0.1810 - acc: 0.9586 - val_loss: 0.3030 - val_acc: 0.9510\n",
      "Epoch 27/50\n",
      "3285/3285 [==============================] - 3s 787us/step - loss: 0.1833 - acc: 0.9623 - val_loss: 0.2875 - val_acc: 0.9575\n",
      "Epoch 28/50\n",
      "3285/3285 [==============================] - 3s 793us/step - loss: 0.1666 - acc: 0.9589 - val_loss: 0.2197 - val_acc: 0.9697\n",
      "Epoch 29/50\n",
      "3285/3285 [==============================] - 3s 803us/step - loss: 0.1933 - acc: 0.9586 - val_loss: 0.2960 - val_acc: 0.9640\n"
     ]
    },
    {
     "data": {
      "text/plain": [
       "<keras.callbacks.History at 0x7f7c353bd978>"
      ]
     },
     "execution_count": 113,
     "metadata": {
      "tags": []
     },
     "output_type": "execute_result"
    }
   ],
   "source": [
    "dynamic_model.fit(X_train_dynamic,\n",
    "              y_train_dynamic,\n",
    "              batch_size=8,\n",
    "              validation_data=(X_test_dynamic, y_test_dynamic),\n",
    "              epochs=50,\n",
    "              callbacks=[EarlyStopping(monitor='val_acc', patience=25), ReduceLROnPlateau(monitor='val_acc', factor=0.2, patience=5, min_lr=.001)])"
   ]
  },
  {
   "cell_type": "code",
   "execution_count": 0,
   "metadata": {
    "colab": {
     "base_uri": "https://localhost:8080/",
     "height": 34
    },
    "colab_type": "code",
    "id": "WWQX2j04hJP9",
    "outputId": "dba7f7a1-7339-440f-826d-04884596de84"
   },
   "outputs": [
    {
     "name": "stdout",
     "output_type": "stream",
     "text": [
      "1387/1387 [==============================] - 0s 91us/step\n"
     ]
    }
   ],
   "source": [
    "dynamic_loss, dynamic_acc = dynamic_model.evaluate(X_test_dynamic, y_test_dynamic)"
   ]
  },
  {
   "cell_type": "code",
   "execution_count": 0,
   "metadata": {
    "colab": {
     "base_uri": "https://localhost:8080/",
     "height": 34
    },
    "colab_type": "code",
    "id": "wn4dY5zBZDnA",
    "outputId": "4271aa20-f0ba-43db-ae8c-3bd6c1fbdbfd"
   },
   "outputs": [
    {
     "name": "stdout",
     "output_type": "stream",
     "text": [
      "Loss : 0.2959768250621533 | Accuracy : 96.39509733237203 %\n"
     ]
    }
   ],
   "source": [
    "print('Loss : {} | Accuracy : {} %'.format(dynamic_loss, dynamic_acc*100.))"
   ]
  },
  {
   "cell_type": "code",
   "execution_count": 0,
   "metadata": {
    "colab": {
     "base_uri": "https://localhost:8080/",
     "height": 167
    },
    "colab_type": "code",
    "id": "-2jVGzProAOp",
    "outputId": "7caee40c-1e0d-43bb-c611-47db61b1e623"
   },
   "outputs": [
    {
     "data": {
      "text/html": [
       "<div>\n",
       "<style scoped>\n",
       "    .dataframe tbody tr th:only-of-type {\n",
       "        vertical-align: middle;\n",
       "    }\n",
       "\n",
       "    .dataframe tbody tr th {\n",
       "        vertical-align: top;\n",
       "    }\n",
       "\n",
       "    .dataframe thead th {\n",
       "        text-align: right;\n",
       "    }\n",
       "</style>\n",
       "<table border=\"1\" class=\"dataframe\">\n",
       "  <thead>\n",
       "    <tr style=\"text-align: right;\">\n",
       "      <th>Pred</th>\n",
       "      <th>WALKING</th>\n",
       "      <th>WALKING_DOWNSTAIRS</th>\n",
       "      <th>WALKING_UPSTAIRS</th>\n",
       "    </tr>\n",
       "    <tr>\n",
       "      <th>True</th>\n",
       "      <th></th>\n",
       "      <th></th>\n",
       "      <th></th>\n",
       "    </tr>\n",
       "  </thead>\n",
       "  <tbody>\n",
       "    <tr>\n",
       "      <th>WALKING</th>\n",
       "      <td>482</td>\n",
       "      <td>5</td>\n",
       "      <td>9</td>\n",
       "    </tr>\n",
       "    <tr>\n",
       "      <th>WALKING_DOWNSTAIRS</th>\n",
       "      <td>9</td>\n",
       "      <td>405</td>\n",
       "      <td>6</td>\n",
       "    </tr>\n",
       "    <tr>\n",
       "      <th>WALKING_UPSTAIRS</th>\n",
       "      <td>2</td>\n",
       "      <td>24</td>\n",
       "      <td>445</td>\n",
       "    </tr>\n",
       "  </tbody>\n",
       "</table>\n",
       "</div>"
      ],
      "text/plain": [
       "Pred                WALKING  WALKING_DOWNSTAIRS  WALKING_UPSTAIRS\n",
       "True                                                             \n",
       "WALKING                 482                   5                 9\n",
       "WALKING_DOWNSTAIRS        9                 405                 6\n",
       "WALKING_UPSTAIRS          2                  24               445"
      ]
     },
     "execution_count": 289,
     "metadata": {
      "tags": []
     },
     "output_type": "execute_result"
    }
   ],
   "source": [
    "confusion_matrix_bin(y_test_dynamic, dynamic_model.predict(X_test_dynamic), { 0:'WALKING', 1:'WALKING_UPSTAIRS', 2:'WALKING_DOWNSTAIRS'})"
   ]
  },
  {
   "cell_type": "code",
   "execution_count": 0,
   "metadata": {
    "colab": {},
    "colab_type": "code",
    "id": "Cho9NmjvZFIX"
   },
   "outputs": [],
   "source": [
    "dynamic_model.save('Dynamic_class_model.hdf5')"
   ]
  },
  {
   "cell_type": "markdown",
   "metadata": {
    "colab_type": "text",
    "id": "XW_tMcLDmsLB"
   },
   "source": [
    "##### Static class model"
   ]
  },
  {
   "cell_type": "code",
   "execution_count": 0,
   "metadata": {
    "colab": {},
    "colab_type": "code",
    "id": "YXUg7I32mw20"
   },
   "outputs": [],
   "source": [
    "# Model - 2\n",
    "static_input = Input(shape=(timesteps, input_dim), name='static_input')\n",
    "\n",
    "z = Conv1D(filters=32, kernel_size=3, activation='relu', kernel_regularizer=l2(.001))(static_input)\n",
    "z = Conv1D(filters=64, kernel_size=3, activation='relu', kernel_regularizer=l2(.1))(z)\n",
    "z = Conv1D(filters=128, kernel_size=3, activation='relu', kernel_regularizer=l2(.001))(z)\n",
    "z = MaxPooling1D(pool_size=2)(z)\n",
    "z = Flatten()(z)\n",
    "z = Dropout(rate=.6)(z)\n",
    "z = Dense(32, activation='relu', kernel_regularizer=l2())(z)\n",
    "z = BatchNormalization()(z)\n",
    "z = Dropout(.7)(z)\n",
    "static_output = Dense(3, activation='softmax', name='static_out')(z)\n",
    "\n",
    "static_model = Model(inputs=static_input, outputs=static_output)\n",
    "\n",
    "static_model.compile(loss='categorical_crossentropy', optimizer=keras.optimizers.rmsprop(.001), metrics=['accuracy'])"
   ]
  },
  {
   "cell_type": "code",
   "execution_count": 0,
   "metadata": {
    "colab": {
     "base_uri": "https://localhost:8080/",
     "height": 1000
    },
    "colab_type": "code",
    "id": "rYeQPVO3mww_",
    "outputId": "ba7c820c-a3a2-4c5e-a335-262e42fba463"
   },
   "outputs": [
    {
     "name": "stdout",
     "output_type": "stream",
     "text": [
      "Train on 4067 samples, validate on 1560 samples\n",
      "Epoch 1/100\n",
      "4067/4067 [==============================] - 7s 2ms/step - loss: 0.6775 - acc: 0.8190 - val_loss: 0.6473 - val_acc: 0.8423\n",
      "Epoch 2/100\n",
      "4067/4067 [==============================] - 3s 828us/step - loss: 0.6001 - acc: 0.8394 - val_loss: 0.4327 - val_acc: 0.8731\n",
      "Epoch 3/100\n",
      "4067/4067 [==============================] - 3s 848us/step - loss: 0.5590 - acc: 0.8591 - val_loss: 0.5350 - val_acc: 0.8397\n",
      "Epoch 4/100\n",
      "4067/4067 [==============================] - 3s 832us/step - loss: 0.6069 - acc: 0.8439 - val_loss: 0.4331 - val_acc: 0.8833\n",
      "Epoch 5/100\n",
      "4067/4067 [==============================] - 3s 827us/step - loss: 0.5809 - acc: 0.8522 - val_loss: 0.5184 - val_acc: 0.8718\n",
      "Epoch 6/100\n",
      "4067/4067 [==============================] - 3s 838us/step - loss: 0.5679 - acc: 0.8596 - val_loss: 0.4533 - val_acc: 0.8750\n",
      "Epoch 7/100\n",
      "4067/4067 [==============================] - 3s 830us/step - loss: 0.6576 - acc: 0.8289 - val_loss: 0.4280 - val_acc: 0.8782\n",
      "Epoch 8/100\n",
      "4067/4067 [==============================] - 3s 827us/step - loss: 0.6018 - acc: 0.8542 - val_loss: 0.3973 - val_acc: 0.8795\n",
      "Epoch 9/100\n",
      "4067/4067 [==============================] - 3s 819us/step - loss: 0.5465 - acc: 0.8640 - val_loss: 0.3853 - val_acc: 0.8744\n",
      "Epoch 10/100\n",
      "4067/4067 [==============================] - 3s 836us/step - loss: 0.4603 - acc: 0.8812 - val_loss: 0.3426 - val_acc: 0.8878\n",
      "Epoch 11/100\n",
      "4067/4067 [==============================] - 3s 855us/step - loss: 0.3887 - acc: 0.8901 - val_loss: 0.2883 - val_acc: 0.9006\n",
      "Epoch 12/100\n",
      "4067/4067 [==============================] - 3s 823us/step - loss: 0.4278 - acc: 0.8837 - val_loss: 0.3677 - val_acc: 0.8769\n",
      "Epoch 13/100\n",
      "4067/4067 [==============================] - 3s 821us/step - loss: 0.3768 - acc: 0.8945 - val_loss: 0.3443 - val_acc: 0.8891\n",
      "Epoch 14/100\n",
      "4067/4067 [==============================] - 3s 833us/step - loss: 0.4090 - acc: 0.8903 - val_loss: 0.3097 - val_acc: 0.9038\n",
      "Epoch 15/100\n",
      "4067/4067 [==============================] - 3s 851us/step - loss: 0.3586 - acc: 0.8928 - val_loss: 0.2868 - val_acc: 0.9115\n",
      "Epoch 16/100\n",
      "4067/4067 [==============================] - 3s 839us/step - loss: 0.3436 - acc: 0.9051 - val_loss: 0.2872 - val_acc: 0.8929\n",
      "Epoch 17/100\n",
      "4067/4067 [==============================] - 3s 829us/step - loss: 0.4000 - acc: 0.8965 - val_loss: 0.2715 - val_acc: 0.9071\n",
      "Epoch 18/100\n",
      "4067/4067 [==============================] - 3s 821us/step - loss: 0.3699 - acc: 0.9066 - val_loss: 0.3236 - val_acc: 0.8756\n",
      "Epoch 19/100\n",
      "4067/4067 [==============================] - 3s 854us/step - loss: 0.3494 - acc: 0.9048 - val_loss: 0.2486 - val_acc: 0.9186\n",
      "Epoch 20/100\n",
      "4067/4067 [==============================] - 3s 818us/step - loss: 0.3097 - acc: 0.9139 - val_loss: 0.3031 - val_acc: 0.9000\n",
      "Epoch 21/100\n",
      "4067/4067 [==============================] - 3s 830us/step - loss: 0.3285 - acc: 0.9171 - val_loss: 0.2414 - val_acc: 0.9212\n",
      "Epoch 22/100\n",
      "4067/4067 [==============================] - 3s 852us/step - loss: 0.3598 - acc: 0.9147 - val_loss: 0.3131 - val_acc: 0.8962\n",
      "Epoch 23/100\n",
      "4067/4067 [==============================] - 3s 822us/step - loss: 0.3422 - acc: 0.9098 - val_loss: 0.2341 - val_acc: 0.9147\n",
      "Epoch 24/100\n",
      "4067/4067 [==============================] - 3s 833us/step - loss: 0.3300 - acc: 0.9105 - val_loss: 0.2997 - val_acc: 0.9096\n",
      "Epoch 25/100\n",
      "4067/4067 [==============================] - 3s 825us/step - loss: 0.3333 - acc: 0.9147 - val_loss: 0.4211 - val_acc: 0.8891\n",
      "Epoch 26/100\n",
      "4067/4067 [==============================] - 3s 832us/step - loss: 0.3374 - acc: 0.9144 - val_loss: 0.2650 - val_acc: 0.9179\n",
      "Epoch 27/100\n",
      "4067/4067 [==============================] - 3s 847us/step - loss: 0.3347 - acc: 0.9171 - val_loss: 0.2659 - val_acc: 0.9250\n",
      "Epoch 28/100\n",
      "4067/4067 [==============================] - 3s 859us/step - loss: 0.2788 - acc: 0.9299 - val_loss: 0.3297 - val_acc: 0.8981\n",
      "Epoch 29/100\n",
      "4067/4067 [==============================] - 3s 818us/step - loss: 0.3128 - acc: 0.9223 - val_loss: 0.2863 - val_acc: 0.9173\n",
      "Epoch 30/100\n",
      "4067/4067 [==============================] - 3s 809us/step - loss: 0.2784 - acc: 0.9329 - val_loss: 0.2427 - val_acc: 0.9244\n",
      "Epoch 31/100\n",
      "4067/4067 [==============================] - 3s 847us/step - loss: 0.3202 - acc: 0.9225 - val_loss: 0.2444 - val_acc: 0.9218\n",
      "Epoch 32/100\n",
      "4067/4067 [==============================] - 3s 821us/step - loss: 0.2459 - acc: 0.9334 - val_loss: 0.2705 - val_acc: 0.9205\n",
      "Epoch 33/100\n",
      "4067/4067 [==============================] - 3s 830us/step - loss: 0.3265 - acc: 0.9223 - val_loss: 0.2791 - val_acc: 0.9250\n",
      "Epoch 34/100\n",
      "4067/4067 [==============================] - 3s 848us/step - loss: 0.2761 - acc: 0.9294 - val_loss: 0.2870 - val_acc: 0.9231\n",
      "Epoch 35/100\n",
      "4067/4067 [==============================] - 3s 852us/step - loss: 0.2685 - acc: 0.9243 - val_loss: 0.2538 - val_acc: 0.9199\n",
      "Epoch 36/100\n",
      "4067/4067 [==============================] - 3s 835us/step - loss: 0.2763 - acc: 0.9334 - val_loss: 0.3314 - val_acc: 0.9013\n",
      "Epoch 37/100\n",
      "4067/4067 [==============================] - 3s 830us/step - loss: 0.2677 - acc: 0.9329 - val_loss: 0.2328 - val_acc: 0.9237\n"
     ]
    },
    {
     "data": {
      "text/plain": [
       "<keras.callbacks.History at 0x7f7c3855d240>"
      ]
     },
     "execution_count": 97,
     "metadata": {
      "tags": []
     },
     "output_type": "execute_result"
    }
   ],
   "source": [
    "static_model.fit(X_train_static,\n",
    "              y_train_static,\n",
    "              batch_size=8,\n",
    "              validation_data=(X_test_static, y_test_static),\n",
    "              epochs=100,\n",
    "              callbacks=[EarlyStopping(monitor='val_acc', patience=10), ReduceLROnPlateau(monitor='val_acc', factor=0.2, patience=5, min_lr=.001)])"
   ]
  },
  {
   "cell_type": "code",
   "execution_count": 0,
   "metadata": {
    "colab": {
     "base_uri": "https://localhost:8080/",
     "height": 34
    },
    "colab_type": "code",
    "id": "8VysRaQlmwpa",
    "outputId": "ee7cd402-c06c-4558-e99a-cfa9853cff5d"
   },
   "outputs": [
    {
     "name": "stdout",
     "output_type": "stream",
     "text": [
      "1560/1560 [==============================] - 0s 92us/step\n"
     ]
    }
   ],
   "source": [
    "static_loss, static_acc = static_model.evaluate(X_test_static, y_test_static)"
   ]
  },
  {
   "cell_type": "code",
   "execution_count": 0,
   "metadata": {
    "colab": {
     "base_uri": "https://localhost:8080/",
     "height": 34
    },
    "colab_type": "code",
    "id": "98OxaDO3mwfe",
    "outputId": "06d51c6c-17d6-485d-85bc-20f52ef57c37"
   },
   "outputs": [
    {
     "name": "stdout",
     "output_type": "stream",
     "text": [
      "Loss : 0.23280242435061016 | Accuracy : 92.37179487179488 %\n"
     ]
    }
   ],
   "source": [
    "print('Loss : {} | Accuracy : {} %'.format(static_loss, static_acc*100.))"
   ]
  },
  {
   "cell_type": "code",
   "execution_count": 0,
   "metadata": {
    "colab": {
     "base_uri": "https://localhost:8080/",
     "height": 167
    },
    "colab_type": "code",
    "id": "GcSZLwULo8G9",
    "outputId": "eb48cf86-8c9e-44a7-e28a-8dfed4d71121"
   },
   "outputs": [
    {
     "data": {
      "text/html": [
       "<div>\n",
       "<style scoped>\n",
       "    .dataframe tbody tr th:only-of-type {\n",
       "        vertical-align: middle;\n",
       "    }\n",
       "\n",
       "    .dataframe tbody tr th {\n",
       "        vertical-align: top;\n",
       "    }\n",
       "\n",
       "    .dataframe thead th {\n",
       "        text-align: right;\n",
       "    }\n",
       "</style>\n",
       "<table border=\"1\" class=\"dataframe\">\n",
       "  <thead>\n",
       "    <tr style=\"text-align: right;\">\n",
       "      <th>Pred</th>\n",
       "      <th>LAYING</th>\n",
       "      <th>SITTING</th>\n",
       "      <th>STANDING</th>\n",
       "    </tr>\n",
       "    <tr>\n",
       "      <th>True</th>\n",
       "      <th></th>\n",
       "      <th></th>\n",
       "      <th></th>\n",
       "    </tr>\n",
       "  </thead>\n",
       "  <tbody>\n",
       "    <tr>\n",
       "      <th>LAYING</th>\n",
       "      <td>537</td>\n",
       "      <td>0</td>\n",
       "      <td>0</td>\n",
       "    </tr>\n",
       "    <tr>\n",
       "      <th>SITTING</th>\n",
       "      <td>0</td>\n",
       "      <td>402</td>\n",
       "      <td>89</td>\n",
       "    </tr>\n",
       "    <tr>\n",
       "      <th>STANDING</th>\n",
       "      <td>0</td>\n",
       "      <td>30</td>\n",
       "      <td>502</td>\n",
       "    </tr>\n",
       "  </tbody>\n",
       "</table>\n",
       "</div>"
      ],
      "text/plain": [
       "Pred      LAYING  SITTING  STANDING\n",
       "True                               \n",
       "LAYING       537        0         0\n",
       "SITTING        0      402        89\n",
       "STANDING       0       30       502"
      ]
     },
     "execution_count": 100,
     "metadata": {
      "tags": []
     },
     "output_type": "execute_result"
    }
   ],
   "source": [
    "confusion_matrix_bin(y_test_static, static_model.predict(X_test_static), { 0:'SITTING', 1:'STANDING', 2:'LAYING'})"
   ]
  },
  {
   "cell_type": "code",
   "execution_count": 0,
   "metadata": {
    "colab": {},
    "colab_type": "code",
    "id": "HDL1P62jnrzx"
   },
   "outputs": [],
   "source": [
    "static_model.save('Static_class_model.hdf5')"
   ]
  },
  {
   "cell_type": "markdown",
   "metadata": {
    "colab_type": "text",
    "id": "bnRR3ZMb1frT"
   },
   "source": [
    "##### Final Prediction"
   ]
  },
  {
   "cell_type": "code",
   "execution_count": 0,
   "metadata": {
    "colab": {
     "base_uri": "https://localhost:8080/",
     "height": 34
    },
    "colab_type": "code",
    "id": "4DIbkLzSHOxh",
    "outputId": "7c3839ac-4e16-45ed-e4f5-8ba082ac5c75"
   },
   "outputs": [
    {
     "data": {
      "text/plain": [
       "array([ 0,  0, 23,  0,  0,  0, 54,  0,  9,  0])"
      ]
     },
     "execution_count": 330,
     "metadata": {
      "tags": []
     },
     "output_type": "execute_result"
    }
   ],
   "source": [
    "t = np.zeros((10), dtype='int')\n",
    "\n",
    "t[[2,6,8]] = [23,54,9]\n",
    "\n",
    "t"
   ]
  },
  {
   "cell_type": "code",
   "execution_count": 0,
   "metadata": {
    "colab": {},
    "colab_type": "code",
    "id": "u9H4Sa2f1iBv"
   },
   "outputs": [],
   "source": [
    "from keras.models import load_model\n",
    "from scipy.ndimage import gaussian_filter\n",
    "\n",
    "class PredictActivity:\n",
    "  def __init__(self):\n",
    "    self.binary_model = None\n",
    "    self.dynamic_model = None\n",
    "    self.static_model = None\n",
    "\n",
    "  def loadModels(self, binModelPath, dynamicModelpath, staticModelPath):\n",
    "    self.binary_model = load_model(binModelPath)\n",
    "    self.dynamic_model = load_model(dynamicModelpath)\n",
    "    self.static_model = load_model(staticModelPath)\n",
    "  \n",
    "  def predict(self, X):\n",
    "    y_bin = np.argmax(self.binary_model.predict(X), axis=1)\n",
    "\n",
    "    X_dynamic = X[y_bin==1]\n",
    "    X_static = X[y_bin==0]\n",
    "\n",
    "    # X_dynamic = X_dynamic + .007*(X_dynamic - gaussian_filter(X_dynamic, sigma=8))\n",
    "    # X_static = X_static + .007*(X_static - gaussian_filter(X_static, sigma=8))\n",
    "\n",
    "    y_dynamic = np.argmax(self.dynamic_model.predict(X_dynamic), axis=1)\n",
    "    y_static = np.argmax(self.static_model.predict(X_static), axis=1)\n",
    "\n",
    "    y_dynamic = y_dynamic + 1\n",
    "    y_static = y_static + 4\n",
    "\n",
    "    output = np.zeros((X.shape[0]), dtype='int')\n",
    "\n",
    "    output[np.where(y_bin==1)[0]] = y_dynamic\n",
    "\n",
    "    output[np.where(y_bin==0)[0]] = y_static\n",
    "\n",
    "    return output"
   ]
  },
  {
   "cell_type": "code",
   "execution_count": 0,
   "metadata": {
    "colab": {},
    "colab_type": "code",
    "id": "2gm7yV5k2MIK"
   },
   "outputs": [],
   "source": [
    "predictactivity = PredictActivity()\n",
    "\n",
    "predictactivity.loadModels('./Base_Binary_model.hdf5', './Dynamic_class_model.hdf5', './Static_class_model.hdf5')"
   ]
  },
  {
   "cell_type": "code",
   "execution_count": 0,
   "metadata": {
    "colab": {
     "base_uri": "https://localhost:8080/",
     "height": 34
    },
    "colab_type": "code",
    "id": "bv4S33bgiXpy",
    "outputId": "ce69d1ae-d50e-459d-bc1a-bf0466e3753a"
   },
   "outputs": [
    {
     "data": {
      "text/plain": [
       "0.9416355615880556"
      ]
     },
     "execution_count": 117,
     "metadata": {
      "tags": []
     },
     "output_type": "execute_result"
    }
   ],
   "source": [
    "accuracy_score(y_test, predictactivity.predict(X_test))"
   ]
  },
  {
   "cell_type": "code",
   "execution_count": 0,
   "metadata": {
    "colab": {
     "base_uri": "https://localhost:8080/",
     "height": 34
    },
    "colab_type": "code",
    "id": "2lEzVNuHaghO",
    "outputId": "0dc61979-cb04-4dc2-b250-bb026aa023c5"
   },
   "outputs": [
    {
     "name": "stdout",
     "output_type": "stream",
     "text": [
      "Accuracy : 94.2 %\n"
     ]
    }
   ],
   "source": [
    "print('Accuracy : {} %'.format(round(accuracy_score(y_test, predictactivity.predict(X_test))*100., 1)))"
   ]
  },
  {
   "cell_type": "code",
   "execution_count": 0,
   "metadata": {
    "colab": {},
    "colab_type": "code",
    "id": "-tPqJ2-wULh6"
   },
   "outputs": [],
   "source": [
    "pt.add_row(['Divide and Conquer(CNNs)', '-', '94.2 %'])"
   ]
  },
  {
   "cell_type": "code",
   "execution_count": 100,
   "metadata": {
    "colab": {
     "base_uri": "https://localhost:8080/",
     "height": 141
    },
    "colab_type": "code",
    "id": "VdRZFhlqUUMa",
    "outputId": "2527cf4a-8047-4e84-b8b4-dbfab165119e"
   },
   "outputs": [
    {
     "name": "stdout",
     "output_type": "stream",
     "text": [
      "+--------------------------+-------+---------------+\n",
      "|          Model           |  Loss | Test Accuracy |\n",
      "+--------------------------+-------+---------------+\n",
      "|      2 Layers LSTM       | 0.423 |    90.024 %   |\n",
      "| 2 Layers 1D Convolutions | 0.344 |    92.297 %   |\n",
      "| Divide and Conquer(CNNs) |   -   |     94.2 %    |\n",
      "+--------------------------+-------+---------------+\n"
     ]
    }
   ],
   "source": [
    "print(pt)"
   ]
  }
 ],
 "metadata": {
  "accelerator": "GPU",
  "colab": {
   "collapsed_sections": [
    "RFObXKzdtY-L",
    "fhAun6mJsVao",
    "z26hC_K95msQ",
    "zUGhO4Al8zQc",
    "Xo0FdinOYi86",
    "z4rmx3nfYdhj",
    "XW_tMcLDmsLB"
   ],
   "name": "HAR_LSTM.ipynb",
   "provenance": [],
   "version": "0.3.2"
  },
  "kernelspec": {
   "display_name": "Python 3",
   "language": "python",
   "name": "python3"
  },
  "language_info": {
   "codemirror_mode": {
    "name": "ipython",
    "version": 3
   },
   "file_extension": ".py",
   "mimetype": "text/x-python",
   "name": "python",
   "nbconvert_exporter": "python",
   "pygments_lexer": "ipython3",
   "version": "3.6.8"
  }
 },
 "nbformat": 4,
 "nbformat_minor": 1
}
