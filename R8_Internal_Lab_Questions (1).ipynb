{
 "cells": [
  {
   "cell_type": "markdown",
   "metadata": {
    "colab_type": "text",
    "id": "NFfDTfhlaEI_"
   },
   "source": [
    "# Transfer Learning MNIST"
   ]
  },
  {
   "cell_type": "markdown",
   "metadata": {
    "colab_type": "text",
    "id": "rNwbqCFRaEJC"
   },
   "source": [
    "* Train a simple convnet on the MNIST dataset the first 5 digits [0-4].\n",
    "* Freeze convolutional layers and fine-tune dense layers for the classification of digits [5-9]."
   ]
  },
  {
   "cell_type": "markdown",
   "metadata": {
    "colab_type": "text",
    "id": "7QeW4SVoJhtN"
   },
   "source": [
    "## MNIST Dataset\n",
    "The MNIST database contains 60,000 training images and 10,000 testing images taken from American Census Bureau employees and American high school students. The MNIST dataset is one of the most common datasets used for image classification and accessible from many different sources. In fact, even Tensorflow and Keras allow us to import and download the MNIST dataset directly from their API."
   ]
  },
  {
   "cell_type": "markdown",
   "metadata": {
    "colab_type": "text",
    "id": "sAFZGfCbJhtP"
   },
   "source": [
    "Let's import keras and load MNIST dataset"
   ]
  },
  {
   "cell_type": "code",
   "execution_count": 0,
   "metadata": {
    "colab": {},
    "colab_type": "code",
    "id": "TqwkzDAyJhtR"
   },
   "outputs": [],
   "source": [
    "# Initialize the random number generator\n",
    "import random\n",
    "random.seed(0)\n",
    "\n",
    "import warnings\n",
    "warnings.filterwarnings(\"ignore\")"
   ]
  },
  {
   "cell_type": "code",
   "execution_count": 0,
   "metadata": {
    "colab": {},
    "colab_type": "code",
    "id": "XH0BYEEkJhtW"
   },
   "outputs": [],
   "source": [
    "from keras.backend import backend\n",
    "from keras.datasets import mnist\n",
    "\n",
    "# the data, shuffled and split between train and test sets\n",
    "(X_train, y_train), (X_test, y_test) = mnist.load_data()"
   ]
  },
  {
   "cell_type": "markdown",
   "metadata": {
    "colab_type": "text",
    "id": "Ko1twVd0Jhtc"
   },
   "source": [
    "X_train and X_test contain greyscale RGB codes (from 0 to 255) while y_train and y_test contains labels from 0 to 9 which represents which number they actually are."
   ]
  },
  {
   "cell_type": "markdown",
   "metadata": {
    "colab_type": "text",
    "id": "d0MCyAF_Jhtd"
   },
   "source": [
    "Let's visualize some numbers using matplotlib"
   ]
  },
  {
   "cell_type": "code",
   "execution_count": 191,
   "metadata": {
    "colab": {
     "base_uri": "https://localhost:8080/",
     "height": 303
    },
    "colab_type": "code",
    "id": "MFOUfjtRJhtf",
    "outputId": "a1ee5439-48eb-4228-86ff-0e9b9b6600bc"
   },
   "outputs": [
    {
     "name": "stdout",
     "output_type": "stream",
     "text": [
      "Label: 0\n"
     ]
    },
    {
     "data": {
      "text/plain": [
       "<matplotlib.image.AxesImage at 0x7efd215983c8>"
      ]
     },
     "execution_count": 191,
     "metadata": {
      "tags": []
     },
     "output_type": "execute_result"
    },
    {
     "data": {
      "image/png": "[encoded data removed]",
      "text/plain": [
       "<Figure size 432x288 with 1 Axes>"
      ]
     },
     "metadata": {
      "tags": []
     },
     "output_type": "display_data"
    }
   ],
   "source": [
    "import matplotlib.pyplot as plt\n",
    "%matplotlib inline\n",
    "print(\"Label: {}\".format(y_train[1000]))\n",
    "plt.imshow(X_train[1000], cmap='gray')"
   ]
  },
  {
   "cell_type": "markdown",
   "metadata": {
    "colab_type": "text",
    "id": "zfCD5Q8xJhtl"
   },
   "source": [
    "## Question 1"
   ]
  },
  {
   "cell_type": "markdown",
   "metadata": {
    "colab_type": "text",
    "id": "8X3WbgqQJhtn"
   },
   "source": [
    "### Create two datasets\n",
    "- First having digits from 0 to 4\n",
    "- Second having digits from 5 to 9\n",
    "\n",
    "Hint: use labels to separate data"
   ]
  },
  {
   "cell_type": "code",
   "execution_count": 0,
   "metadata": {
    "colab": {},
    "colab_type": "code",
    "id": "0IY9g8YqJhto"
   },
   "outputs": [],
   "source": [
    "dataset1 =[]\n",
    "for i in range(60000):\n",
    "  if y_train[i] >=0 and y_train[i] <=4:\n",
    "    dataset1.append(y_train[i])\n",
    "  "
   ]
  },
  {
   "cell_type": "code",
   "execution_count": 0,
   "metadata": {
    "colab": {},
    "colab_type": "code",
    "id": "AEc4ZTXyaE-M"
   },
   "outputs": [],
   "source": [
    "dataset2 = np.empty([60000,28,28])\n",
    "for i in range(60000):\n",
    "  if y_train[i] >=5 and y_train[i]<=9:\n",
    "    dataset2[i] = y_train[i]\n",
    "  "
   ]
  },
  {
   "cell_type": "markdown",
   "metadata": {
    "colab_type": "text",
    "id": "5VYMEo2vJhts"
   },
   "source": [
    "## Question 2"
   ]
  },
  {
   "cell_type": "markdown",
   "metadata": {
    "colab_type": "text",
    "id": "d9pVD68_Jhtt"
   },
   "source": [
    "### Print shape of the data\n",
    "- print shape of all variables of both the datasets you created"
   ]
  },
  {
   "cell_type": "code",
   "execution_count": 0,
   "metadata": {
    "colab": {},
    "colab_type": "code",
    "id": "Mc8y4QD-Jhtv"
   },
   "outputs": [],
   "source": [
    "dataset1=np.asarray(dataset1)\n"
   ]
  },
  {
   "cell_type": "code",
   "execution_count": 195,
   "metadata": {
    "colab": {
     "base_uri": "https://localhost:8080/",
     "height": 34
    },
    "colab_type": "code",
    "id": "WBoo-9Naio-9",
    "outputId": "59c1e6c4-5790-477a-dd49-656978bb4152"
   },
   "outputs": [
    {
     "data": {
      "text/plain": [
       "(30596,)"
      ]
     },
     "execution_count": 195,
     "metadata": {
      "tags": []
     },
     "output_type": "execute_result"
    }
   ],
   "source": [
    "dataset1.shape"
   ]
  },
  {
   "cell_type": "markdown",
   "metadata": {
    "colab_type": "text",
    "id": "gIhw6WudJhtz"
   },
   "source": [
    "## Question 3"
   ]
  },
  {
   "cell_type": "markdown",
   "metadata": {
    "colab_type": "text",
    "id": "Av3-bg5VJht0"
   },
   "source": [
    "### Reshape data\n",
    "- To be able to use the dataset in Keras, we need 4-dims numpy arrays. \n",
    "- reshape features to pass it to a Conv2D layer\n",
    "- channel = 1\n",
    "- reshape features of first dataset only\n",
    "- do not reshape labels"
   ]
  },
  {
   "cell_type": "code",
   "execution_count": 0,
   "metadata": {
    "colab": {},
    "colab_type": "code",
    "id": "1Ynd-VhIcw9H"
   },
   "outputs": [],
   "source": [
    "X_train =X_train.reshape(X_train.shape[0],28,28,1).astype('float32') \n",
    "X_test = X_test.reshape(X_test.shape[0],28,28,1).astype('float32')"
   ]
  },
  {
   "cell_type": "code",
   "execution_count": 0,
   "metadata": {
    "colab": {},
    "colab_type": "code",
    "id": "VFYM6DpMlhfG"
   },
   "outputs": [],
   "source": []
  },
  {
   "cell_type": "markdown",
   "metadata": {
    "colab_type": "text",
    "id": "0rxqAyqrJht_"
   },
   "source": [
    "## Question 4"
   ]
  },
  {
   "cell_type": "markdown",
   "metadata": {
    "colab_type": "text",
    "id": "BKZRJxbHJhuB"
   },
   "source": [
    "### Normalize data\n",
    "- we must normalize our data as it is always required in neural network models\n",
    "- we can achieve this by dividing the RGB codes to 255 (which is the maximum RGB code minus the minimum RGB code)\n",
    "- normalize X_train and X_test\n",
    "- make sure that the values are float so that we can get decimal points after division"
   ]
  },
  {
   "cell_type": "code",
   "execution_count": 0,
   "metadata": {
    "colab": {},
    "colab_type": "code",
    "id": "RkWBBu18JhuE"
   },
   "outputs": [],
   "source": [
    "X_train/=255\n",
    "X_test/=255"
   ]
  },
  {
   "cell_type": "markdown",
   "metadata": {
    "colab_type": "text",
    "id": "anAPoHnNJhuL"
   },
   "source": [
    "### Print shape of data and number of images\n",
    "- print shape of X_train\n",
    "- print number of images in X_train\n",
    "- print number of images in X_test"
   ]
  },
  {
   "cell_type": "code",
   "execution_count": 198,
   "metadata": {
    "colab": {
     "base_uri": "https://localhost:8080/",
     "height": 68
    },
    "colab_type": "code",
    "id": "zvFbj4Q8JhuM",
    "outputId": "bc4bcd33-8878-4953-d6d6-a704661f68be"
   },
   "outputs": [
    {
     "name": "stdout",
     "output_type": "stream",
     "text": [
      "(60000, 28, 28, 1)\n",
      "60000\n",
      "10000\n"
     ]
    }
   ],
   "source": [
    "print(X_train.shape)\n",
    "print(X_train.shape[0])\n",
    "print(X_test.shape[0])"
   ]
  },
  {
   "cell_type": "markdown",
   "metadata": {
    "colab_type": "text",
    "id": "sJvcUt0HJhuR"
   },
   "source": [
    "## Question 5"
   ]
  },
  {
   "cell_type": "markdown",
   "metadata": {
    "colab_type": "text",
    "id": "yMZbAGS1JhuT"
   },
   "source": [
    "### One-hot encode the class vector\n",
    "- convert class vectors (integers) to binary class matrix\n",
    "- convert y_train and y_test\n",
    "- number of classes: 5\n",
    "- we are doing this to use categorical_crossentropy as loss\n",
    "\n",
    "Hint: you can use keras.utils.to_categorical"
   ]
  },
  {
   "cell_type": "code",
   "execution_count": 0,
   "metadata": {
    "colab": {},
    "colab_type": "code",
    "id": "gBmJllhFmVTk"
   },
   "outputs": [],
   "source": [
    "import keras"
   ]
  },
  {
   "cell_type": "code",
   "execution_count": 0,
   "metadata": {
    "colab": {},
    "colab_type": "code",
    "id": "NAzi5IEEJhuV"
   },
   "outputs": [],
   "source": [
    "y_train = keras.utils.to_categorical(y_train,10)\n",
    "y_test= keras.utils.to_categorical(y_test,10)"
   ]
  },
  {
   "cell_type": "markdown",
   "metadata": {
    "colab_type": "text",
    "id": "dKw_o6MoJhuY"
   },
   "source": [
    "## Question 6\n",
    "We will build our model by using high level Keras."
   ]
  },
  {
   "cell_type": "markdown",
   "metadata": {
    "colab_type": "text",
    "id": "LQWbeBssJhua"
   },
   "source": [
    "### Initialize a sequential model\n",
    "- define a sequential model\n",
    "- add 2 convolutional layers\n",
    "    - no of filters: 32\n",
    "    - kernel size: 3x3\n",
    "    - activation: \"relu\"\n",
    "    - input shape: (28, 28, 1) for first layer\n",
    "- add a max pooling layer of size 2x2\n",
    "- add a dropout layer\n",
    "    - dropout layers fight with the overfitting by disregarding some of the neurons while training\n",
    "    - use dropout rate 0.2"
   ]
  },
  {
   "cell_type": "code",
   "execution_count": 0,
   "metadata": {
    "colab": {},
    "colab_type": "code",
    "id": "QEw_lFYFJhub"
   },
   "outputs": [],
   "source": [
    "from keras.layers.normalization import BatchNormalization\n",
    "from keras.layers.convolutional import Conv2D\n",
    "from keras.layers.convolutional import MaxPooling2D\n",
    "from keras.layers.core import Activation\n",
    "from keras.layers.core import Flatten\n",
    "from keras.layers.core import Dropout\n",
    "from keras.layers.core import Dense\n",
    "import keras\n",
    "import tensorflow as tf\n",
    "from keras.utils import np_utils\n"
   ]
  },
  {
   "cell_type": "code",
   "execution_count": 0,
   "metadata": {
    "colab": {},
    "colab_type": "code",
    "id": "gk1hOVAhmghY"
   },
   "outputs": [],
   "source": [
    "model = tf.keras.Sequential()\n",
    "# Must define the input shape in the first layer of the neural network\n",
    "model.add(tf.keras.layers.Conv2D(filters=32, kernel_size=3, padding='same', activation='relu', input_shape=(28,28,1)))\n",
    "model.add(tf.keras.layers.Conv2D(filters=32, kernel_size=3, padding='same', activation='relu', input_shape=(28,28,1)))\n",
    "keras.layers.MaxPooling2D(pool_size=(2, 2), strides=None, padding='valid', data_format=None)\n",
    "model.add(tf.keras.layers.Dropout(0.2))\n"
   ]
  },
  {
   "cell_type": "markdown",
   "metadata": {
    "colab_type": "text",
    "id": "OUwH-pTpJhuf"
   },
   "source": [
    "## Question 7"
   ]
  },
  {
   "cell_type": "markdown",
   "metadata": {
    "colab_type": "text",
    "id": "pdkuSRpcJhug"
   },
   "source": [
    "### Add classification layers\n",
    "- do this after doing question 7\n",
    "- flatten the data\n",
    "    - add Flatten later\n",
    "    - flatten layers flatten 2D arrays to 1D array before building the fully connected layers\n",
    "- add 2 dense layers\n",
    "    - number of neurons in first layer: 128\n",
    "    - number of neurons in last layer: number of classes\n",
    "    - activation function in first layer: relu\n",
    "    - activation function in last layer: softmax\n",
    "    - we may experiment with any number of neurons for the first Dense layer; however, the final Dense layer must have neurons equal to the number of output classes\n",
    "- you can add a dropout layer in between, if necessary"
   ]
  },
  {
   "cell_type": "code",
   "execution_count": 203,
   "metadata": {
    "colab": {
     "base_uri": "https://localhost:8080/",
     "height": 357
    },
    "colab_type": "code",
    "id": "17IZOGt1Jhuh",
    "outputId": "d399d5eb-7067-4892-8c1e-cd6b947acfda"
   },
   "outputs": [
    {
     "name": "stdout",
     "output_type": "stream",
     "text": [
      "Model: \"sequential_3\"\n",
      "_________________________________________________________________\n",
      "Layer (type)                 Output Shape              Param #   \n",
      "=================================================================\n",
      "conv2d_6 (Conv2D)            (None, 28, 28, 32)        320       \n",
      "_________________________________________________________________\n",
      "conv2d_7 (Conv2D)            (None, 28, 28, 32)        9248      \n",
      "_________________________________________________________________\n",
      "dropout_3 (Dropout)          (None, 28, 28, 32)        0         \n",
      "_________________________________________________________________\n",
      "flatten_3 (Flatten)          (None, 25088)             0         \n",
      "_________________________________________________________________\n",
      "dense_6 (Dense)              (None, 128)               3211392   \n",
      "_________________________________________________________________\n",
      "dense_7 (Dense)              (None, 10)                1290      \n",
      "=================================================================\n",
      "Total params: 3,222,250\n",
      "Trainable params: 3,222,250\n",
      "Non-trainable params: 0\n",
      "_________________________________________________________________\n"
     ]
    }
   ],
   "source": [
    "model.add(tf.keras.layers.Flatten())\n",
    "model.add(tf.keras.layers.Dense(128, activation='relu'))\n",
    "model.add(tf.keras.layers.Dense(10, activation='softmax'))\n",
    "model.summary()"
   ]
  },
  {
   "cell_type": "markdown",
   "metadata": {
    "colab_type": "text",
    "id": "dzgM9c5eJhum"
   },
   "source": [
    "## Question 8"
   ]
  },
  {
   "cell_type": "markdown",
   "metadata": {
    "colab_type": "text",
    "id": "-7aM4srlJhuo"
   },
   "source": [
    "### Compile and fit the model\n",
    "- compile your model\n",
    "    - loss: \"categorical_crossentropy\"\n",
    "    - metrics: \"accuracy\"\n",
    "    - optimizer: \"sgd\"\n",
    "- fit your model\n",
    "    - give train data - features and labels\n",
    "    - batch size: 128\n",
    "    - epochs: 10\n",
    "    - give validation data - features and labels"
   ]
  },
  {
   "cell_type": "code",
   "execution_count": 0,
   "metadata": {
    "colab": {},
    "colab_type": "code",
    "id": "kP1peXUlJhup"
   },
   "outputs": [],
   "source": [
    "model.compile(loss=keras.losses.categorical_crossentropy,\n",
    "              optimizer='sgd',\n",
    "              metrics=['accuracy'])"
   ]
  },
  {
   "cell_type": "code",
   "execution_count": 205,
   "metadata": {
    "colab": {
     "base_uri": "https://localhost:8080/",
     "height": 391
    },
    "colab_type": "code",
    "id": "TR8qhKL-oHTR",
    "outputId": "b0c8ea6d-e30a-4deb-abb8-6de9b58b3c0a"
   },
   "outputs": [
    {
     "name": "stdout",
     "output_type": "stream",
     "text": [
      "Train on 60000 samples, validate on 10000 samples\n",
      "Epoch 1/10\n",
      "60000/60000 [==============================] - 8s 129us/sample - loss: 0.3468 - acc: 0.8991 - val_loss: 0.1483 - val_acc: 0.9560\n",
      "Epoch 2/10\n",
      "60000/60000 [==============================] - 8s 125us/sample - loss: 0.1477 - acc: 0.9561 - val_loss: 0.1154 - val_acc: 0.9640\n",
      "Epoch 3/10\n",
      "60000/60000 [==============================] - 7s 124us/sample - loss: 0.1086 - acc: 0.9675 - val_loss: 0.0948 - val_acc: 0.9700\n",
      "Epoch 4/10\n",
      "60000/60000 [==============================] - 8s 127us/sample - loss: 0.0864 - acc: 0.9732 - val_loss: 0.0865 - val_acc: 0.9722\n",
      "Epoch 5/10\n",
      "60000/60000 [==============================] - 7s 124us/sample - loss: 0.0725 - acc: 0.9778 - val_loss: 0.0741 - val_acc: 0.9761\n",
      "Epoch 6/10\n",
      "60000/60000 [==============================] - 7s 123us/sample - loss: 0.0622 - acc: 0.9806 - val_loss: 0.0665 - val_acc: 0.9806\n",
      "Epoch 7/10\n",
      "60000/60000 [==============================] - 7s 125us/sample - loss: 0.0528 - acc: 0.9836 - val_loss: 0.0651 - val_acc: 0.9795\n",
      "Epoch 8/10\n",
      "60000/60000 [==============================] - 7s 122us/sample - loss: 0.0464 - acc: 0.9852 - val_loss: 0.0570 - val_acc: 0.9817\n",
      "Epoch 9/10\n",
      "60000/60000 [==============================] - 7s 124us/sample - loss: 0.0398 - acc: 0.9879 - val_loss: 0.0582 - val_acc: 0.9807\n",
      "Epoch 10/10\n",
      "60000/60000 [==============================] - 7s 125us/sample - loss: 0.0350 - acc: 0.9887 - val_loss: 0.0547 - val_acc: 0.9821\n"
     ]
    },
    {
     "data": {
      "text/plain": [
       "<tensorflow.python.keras.callbacks.History at 0x7efd21390a58>"
      ]
     },
     "execution_count": 205,
     "metadata": {
      "tags": []
     },
     "output_type": "execute_result"
    }
   ],
   "source": [
    "\n",
    "epochs = 10\n",
    "\n",
    "model.fit(X_train, y_train,\n",
    "          epochs=epochs,\n",
    "          verbose=1,\n",
    "          validation_data=(X_test,y_test))"
   ]
  },
  {
   "cell_type": "markdown",
   "metadata": {
    "colab_type": "text",
    "id": "DX5eV42CJhut"
   },
   "source": [
    "## Question 9"
   ]
  },
  {
   "cell_type": "markdown",
   "metadata": {
    "colab_type": "text",
    "id": "JlvOdqfSJhuu"
   },
   "source": [
    "### Evaluate model\n",
    "- evaluate your model and get accuracy\n",
    "- use test features and labels"
   ]
  },
  {
   "cell_type": "code",
   "execution_count": 206,
   "metadata": {
    "colab": {
     "base_uri": "https://localhost:8080/",
     "height": 51
    },
    "colab_type": "code",
    "id": "ZvMiDu1rJhuw",
    "outputId": "0e858be8-a6a1-4629-f42b-8be427d4e378"
   },
   "outputs": [
    {
     "name": "stdout",
     "output_type": "stream",
     "text": [
      "10000/10000 [==============================] - 1s 65us/sample - loss: 0.0547 - acc: 0.9821\n",
      "[0.05465013315572869, 0.9821]\n"
     ]
    }
   ],
   "source": [
    "print(model.evaluate(X_test,y_test))"
   ]
  },
  {
   "cell_type": "markdown",
   "metadata": {
    "colab_type": "text",
    "id": "kt9Yl0k_Jhuz"
   },
   "source": [
    "## Question 10"
   ]
  },
  {
   "cell_type": "markdown",
   "metadata": {
    "colab_type": "text",
    "id": "s2TYH43KJhu2"
   },
   "source": [
    "## Transfer learning\n",
    "Now we will apply this model on second dataset (5-9 digits)\n",
    "\n",
    "- fix the first convolution layers so that the weights in the convolution layers dont get updated in the process of training\n",
    "- get the second dataset\n",
    "- train the last 2 dense layers\n",
    "- predict the accuracy and loss"
   ]
  },
  {
   "cell_type": "markdown",
   "metadata": {
    "colab_type": "text",
    "id": "DfeQcZFdJhu7"
   },
   "source": [
    "### Make only dense layers trainable\n",
    "- set trainalble = False for all layers other than Dense layers"
   ]
  },
  {
   "cell_type": "code",
   "execution_count": 0,
   "metadata": {
    "colab": {},
    "colab_type": "code",
    "id": "brN7VZHFaEJ4"
   },
   "outputs": [],
   "source": [
    "#Freezing layers in the model which don't have 'dense' in their name\n",
    "for layer in model.layers:\n",
    "  if('dense' not in layer.name): #prefix detection to freeze layers which does not have dense\n",
    "    #Freezing a layer\n",
    "    layer.trainable = False\n"
   ]
  },
  {
   "cell_type": "markdown",
   "metadata": {
    "colab_type": "text",
    "id": "FZDrohFSJhvD"
   },
   "source": [
    "### Modify data\n",
    "- in your second data, class labels will start from 5 to 9 but for keras.utils.to_categorical the labels should start from 0\n",
    "- so you need to subtract 5 from train and test labels"
   ]
  },
  {
   "cell_type": "code",
   "execution_count": 0,
   "metadata": {
    "colab": {},
    "colab_type": "code",
    "id": "rCbGGaDKJhvF"
   },
   "outputs": [],
   "source": [
    "y_train = keras.utils.to_categorical(y_train,10)\n",
    "y_test= keras.utils.to_categorical(y_test,10)"
   ]
  },
  {
   "cell_type": "markdown",
   "metadata": {
    "colab_type": "text",
    "id": "a-CG9MzVJhvK"
   },
   "source": [
    "### Reshape data\n",
    "- reshape second dataset\n",
    "- To be able to use the dataset in Keras, we need 4-dims numpy arrays. \n",
    "- reshape features to pass it to a Conv2D layer\n",
    "- channel = 1\n",
    "- reshape features of first dataset only\n",
    "- do not reshape labels"
   ]
  },
  {
   "cell_type": "code",
   "execution_count": 0,
   "metadata": {
    "colab": {},
    "colab_type": "code",
    "id": "WmiyUsqnJhvL"
   },
   "outputs": [],
   "source": [
    "X_train =X_train.reshape(X_train.shape[0],28,28,1).astype('float32') \n",
    "X_test = X_test.reshape(X_test.shape[0],28,28,1).astype('float32')"
   ]
  },
  {
   "cell_type": "markdown",
   "metadata": {
    "colab_type": "text",
    "id": "XaxzX0hhJhvR"
   },
   "source": [
    "### Normalize data\n",
    "- normalize second data\n",
    "- we must normalize our data as it is always required in neural network models\n",
    "- we can achieve this by dividing the RGB codes to 255 (which is the maximum RGB code minus the minimum RGB code)\n",
    "- normalize X_train and X_test\n",
    "- make sure that the values are float so that we can get decimal points after division"
   ]
  },
  {
   "cell_type": "code",
   "execution_count": 0,
   "metadata": {
    "colab": {},
    "colab_type": "code",
    "id": "sI9fIGr7JhvS"
   },
   "outputs": [],
   "source": [
    "X_train/=255\n",
    "X_test/=255"
   ]
  },
  {
   "cell_type": "markdown",
   "metadata": {
    "colab_type": "text",
    "id": "L_kDjqHMJhvW"
   },
   "source": [
    "### Print shape of data and number of images\n",
    "- print shape of X_train\n",
    "- print number of images in X_train\n",
    "- print number of images in X_test"
   ]
  },
  {
   "cell_type": "code",
   "execution_count": 183,
   "metadata": {
    "colab": {
     "base_uri": "https://localhost:8080/",
     "height": 68
    },
    "colab_type": "code",
    "id": "AdjgtjwmJhvY",
    "outputId": "acab90fd-6db5-4f86-c95c-f006f421e2cc"
   },
   "outputs": [
    {
     "name": "stdout",
     "output_type": "stream",
     "text": [
      "(60000, 28, 28, 1)\n",
      "60000\n",
      "10000\n"
     ]
    }
   ],
   "source": [
    "print(X_train.shape)\n",
    "print(X_train.shape[0])\n",
    "print(X_test.shape[0])"
   ]
  },
  {
   "cell_type": "markdown",
   "metadata": {
    "colab_type": "text",
    "id": "Ta7Yf80RJhvf"
   },
   "source": [
    "### One-hot encode the class vector\n",
    "- convert class vectors (integers) to binary class matrix\n",
    "- convert y_train and y_test\n",
    "- number of classes: 5\n",
    "- we are doing this to use categorical_crossentropy as loss\n",
    "\n",
    "Hint: you can use keras.utils.to_categorical"
   ]
  },
  {
   "cell_type": "code",
   "execution_count": 0,
   "metadata": {
    "colab": {},
    "colab_type": "code",
    "id": "RDGXYi-3Jhvg"
   },
   "outputs": [],
   "source": [
    "y_train = keras.utils.to_categorical(y_train,10)\n",
    "y_test= keras.utils.to_categorical(y_test,10)"
   ]
  },
  {
   "cell_type": "code",
   "execution_count": 0,
   "metadata": {
    "colab": {},
    "colab_type": "code",
    "id": "_mOmVVxFtDq9"
   },
   "outputs": [],
   "source": [
    "from keras.optimizers import Adam\n",
    "from keras.losses import categorical_crossentropy\n",
    "\n",
    "#Set the loss function and optimizer for the model training\n",
    "model.compile(loss=categorical_crossentropy,\n",
    "              optimizer='sgd',\n",
    "              metrics=['accuracy'])"
   ]
  },
  {
   "cell_type": "markdown",
   "metadata": {
    "colab_type": "text",
    "id": "R5kAlhUIJhvk"
   },
   "source": [
    "### Fit the model\n",
    "- give train data - features and labels\n",
    "- batch size: 128\n",
    "- epochs: 10\n",
    "- give validation data - features and labels"
   ]
  },
  {
   "cell_type": "code",
   "execution_count": 209,
   "metadata": {
    "colab": {
     "base_uri": "https://localhost:8080/",
     "height": 391
    },
    "colab_type": "code",
    "id": "vHmGqU0nJhvl",
    "outputId": "8cdf085c-f447-4789-b27b-939ecf476f35"
   },
   "outputs": [
    {
     "name": "stdout",
     "output_type": "stream",
     "text": [
      "Train on 60000 samples, validate on 10000 samples\n",
      "Epoch 1/10\n",
      "60000/60000 [==============================] - 3s 44us/sample - loss: 0.0236 - acc: 0.9935 - val_loss: 0.0480 - val_acc: 0.9839\n",
      "Epoch 2/10\n",
      "60000/60000 [==============================] - 2s 38us/sample - loss: 0.0211 - acc: 0.9944 - val_loss: 0.0490 - val_acc: 0.9837\n",
      "Epoch 3/10\n",
      "60000/60000 [==============================] - 2s 39us/sample - loss: 0.0202 - acc: 0.9947 - val_loss: 0.0484 - val_acc: 0.9838\n",
      "Epoch 4/10\n",
      "60000/60000 [==============================] - 2s 39us/sample - loss: 0.0195 - acc: 0.9950 - val_loss: 0.0490 - val_acc: 0.9831\n",
      "Epoch 5/10\n",
      "60000/60000 [==============================] - 2s 40us/sample - loss: 0.0195 - acc: 0.9948 - val_loss: 0.0481 - val_acc: 0.9840\n",
      "Epoch 6/10\n",
      "60000/60000 [==============================] - 2s 39us/sample - loss: 0.0186 - acc: 0.9952 - val_loss: 0.0475 - val_acc: 0.9839\n",
      "Epoch 7/10\n",
      "60000/60000 [==============================] - 2s 39us/sample - loss: 0.0180 - acc: 0.9956 - val_loss: 0.0481 - val_acc: 0.9832\n",
      "Epoch 8/10\n",
      "60000/60000 [==============================] - 2s 39us/sample - loss: 0.0170 - acc: 0.9962 - val_loss: 0.0488 - val_acc: 0.9839\n",
      "Epoch 9/10\n",
      "60000/60000 [==============================] - 2s 40us/sample - loss: 0.0166 - acc: 0.9962 - val_loss: 0.0480 - val_acc: 0.9835\n",
      "Epoch 10/10\n",
      "60000/60000 [==============================] - 2s 39us/sample - loss: 0.0165 - acc: 0.9961 - val_loss: 0.0482 - val_acc: 0.9834\n"
     ]
    },
    {
     "data": {
      "text/plain": [
       "<tensorflow.python.keras.callbacks.History at 0x7efd2121bb00>"
      ]
     },
     "execution_count": 209,
     "metadata": {
      "tags": []
     },
     "output_type": "execute_result"
    }
   ],
   "source": [
    "\n",
    "epochs = 10\n",
    "\n",
    "model.fit(X_train, y_train,\n",
    "          epochs=epochs,\n",
    "          batch_size=128,\n",
    "          verbose=1,\n",
    "          validation_data=(X_test,y_test))"
   ]
  },
  {
   "cell_type": "markdown",
   "metadata": {
    "colab_type": "text",
    "id": "wglj2lg_Jhvp"
   },
   "source": [
    "### Evaluate model\n",
    "- evaluate your model and get accuracy\n",
    "- use test features and labels"
   ]
  },
  {
   "cell_type": "code",
   "execution_count": 210,
   "metadata": {
    "colab": {
     "base_uri": "https://localhost:8080/",
     "height": 51
    },
    "colab_type": "code",
    "id": "7i7Tn8jSJhvr",
    "outputId": "3ccc4e8b-006f-4c28-9898-079374bc094a"
   },
   "outputs": [
    {
     "name": "stdout",
     "output_type": "stream",
     "text": [
      "10000/10000 [==============================] - 1s 64us/sample - loss: 0.0482 - acc: 0.9834\n",
      "[0.04820268007465056, 0.9834]\n"
     ]
    }
   ],
   "source": [
    "print(model.evaluate(X_test,y_test))"
   ]
  },
  {
   "cell_type": "markdown",
   "metadata": {
    "colab_type": "text",
    "id": "1vFPobapJhvz"
   },
   "source": [
    "-----------------------------------------------------------------------------"
   ]
  },
  {
   "cell_type": "markdown",
   "metadata": {
    "colab_type": "text",
    "id": "FU-HwvIdH0M-"
   },
   "source": [
    "# Sentiment analysis \n",
    "\n",
    "The objective of the second problem is to perform Sentiment analysis from the tweets collected from the users targeted at various mobile devices.\n",
    "Based on the tweet posted by a user (text), we will classify if the sentiment of the user targeted at a particular mobile device is positive or not."
   ]
  },
  {
   "cell_type": "markdown",
   "metadata": {
    "colab_type": "text",
    "id": "sFjcceqDJhv3"
   },
   "source": [
    "## Question 1"
   ]
  },
  {
   "cell_type": "markdown",
   "metadata": {
    "colab_type": "text",
    "id": "nAQDiZHRH0M_"
   },
   "source": [
    "### Read the data\n",
    "- read tweets.csv\n",
    "- use latin encoding if it gives encoding error while loading"
   ]
  },
  {
   "cell_type": "code",
   "execution_count": 61,
   "metadata": {
    "colab": {},
    "colab_type": "code",
    "id": "3eXGIe-SH0NA"
   },
   "outputs": [],
   "source": [
    "import pandas as pd\n",
    "import re\n",
    "from tqdm import tqdm"
   ]
  },
  {
   "cell_type": "code",
   "execution_count": 239,
   "metadata": {},
   "outputs": [],
   "source": [
    "df=pd.read_csv(\"E:/great/tweets.csv\",encoding = 'latin')"
   ]
  },
  {
   "cell_type": "markdown",
   "metadata": {
    "colab_type": "text",
    "id": "lbNPMESgJhv_"
   },
   "source": [
    "### Drop null values\n",
    "- drop all the rows with null values"
   ]
  },
  {
   "cell_type": "code",
   "execution_count": 240,
   "metadata": {
    "colab": {},
    "colab_type": "code",
    "id": "gTUXi6AZJhwA"
   },
   "outputs": [],
   "source": [
    "df.dropna(inplace=True)"
   ]
  },
  {
   "cell_type": "markdown",
   "metadata": {
    "colab_type": "text",
    "id": "USBJkxC3JhwD"
   },
   "source": [
    "### Print the dataframe\n",
    "- print initial 5 rows of the data\n",
    "- use df.head()"
   ]
  },
  {
   "cell_type": "code",
   "execution_count": 241,
   "metadata": {
    "colab": {},
    "colab_type": "code",
    "id": "97Z88k2eJhwE",
    "scrolled": true
   },
   "outputs": [
    {
     "data": {
      "text/html": [
       "<div>\n",
       "<style scoped>\n",
       "    .dataframe tbody tr th:only-of-type {\n",
       "        vertical-align: middle;\n",
       "    }\n",
       "\n",
       "    .dataframe tbody tr th {\n",
       "        vertical-align: top;\n",
       "    }\n",
       "\n",
       "    .dataframe thead th {\n",
       "        text-align: right;\n",
       "    }\n",
       "</style>\n",
       "<table border=\"1\" class=\"dataframe\">\n",
       "  <thead>\n",
       "    <tr style=\"text-align: right;\">\n",
       "      <th></th>\n",
       "      <th>tweet_text</th>\n",
       "      <th>emotion_in_tweet_is_directed_at</th>\n",
       "      <th>is_there_an_emotion_directed_at_a_brand_or_product</th>\n",
       "    </tr>\n",
       "  </thead>\n",
       "  <tbody>\n",
       "    <tr>\n",
       "      <th>0</th>\n",
       "      <td>.@wesley83 I have a 3G iPhone. After 3 hrs twe...</td>\n",
       "      <td>iPhone</td>\n",
       "      <td>Negative emotion</td>\n",
       "    </tr>\n",
       "    <tr>\n",
       "      <th>1</th>\n",
       "      <td>@jessedee Know about @fludapp ? Awesome iPad/i...</td>\n",
       "      <td>iPad or iPhone App</td>\n",
       "      <td>Positive emotion</td>\n",
       "    </tr>\n",
       "    <tr>\n",
       "      <th>2</th>\n",
       "      <td>@swonderlin Can not wait for #iPad 2 also. The...</td>\n",
       "      <td>iPad</td>\n",
       "      <td>Positive emotion</td>\n",
       "    </tr>\n",
       "    <tr>\n",
       "      <th>3</th>\n",
       "      <td>@sxsw I hope this year's festival isn't as cra...</td>\n",
       "      <td>iPad or iPhone App</td>\n",
       "      <td>Negative emotion</td>\n",
       "    </tr>\n",
       "    <tr>\n",
       "      <th>4</th>\n",
       "      <td>@sxtxstate great stuff on Fri #SXSW: Marissa M...</td>\n",
       "      <td>Google</td>\n",
       "      <td>Positive emotion</td>\n",
       "    </tr>\n",
       "  </tbody>\n",
       "</table>\n",
       "</div>"
      ],
      "text/plain": [
       "                                          tweet_text  \\\n",
       "0  .@wesley83 I have a 3G iPhone. After 3 hrs twe...   \n",
       "1  @jessedee Know about @fludapp ? Awesome iPad/i...   \n",
       "2  @swonderlin Can not wait for #iPad 2 also. The...   \n",
       "3  @sxsw I hope this year's festival isn't as cra...   \n",
       "4  @sxtxstate great stuff on Fri #SXSW: Marissa M...   \n",
       "\n",
       "  emotion_in_tweet_is_directed_at  \\\n",
       "0                          iPhone   \n",
       "1              iPad or iPhone App   \n",
       "2                            iPad   \n",
       "3              iPad or iPhone App   \n",
       "4                          Google   \n",
       "\n",
       "  is_there_an_emotion_directed_at_a_brand_or_product  \n",
       "0                                   Negative emotion  \n",
       "1                                   Positive emotion  \n",
       "2                                   Positive emotion  \n",
       "3                                   Negative emotion  \n",
       "4                                   Positive emotion  "
      ]
     },
     "execution_count": 241,
     "metadata": {},
     "output_type": "execute_result"
    }
   ],
   "source": [
    "df.head()"
   ]
  },
  {
   "cell_type": "code",
   "execution_count": 242,
   "metadata": {},
   "outputs": [],
   "source": [
    "stopwords= ['i', 'me', 'my', 'myself', 'we', 'our', 'ours', 'ourselves', 'you', \"you're\", \"you've\",\\\n",
    "            \"you'll\", \"you'd\", 'your', 'yours', 'yourself', 'yourselves', 'he', 'him', 'his', 'himself', \\\n",
    "            'she', \"she's\", 'her', 'hers', 'herself', 'it', \"it's\", 'its', 'itself', 'they', 'them', 'their',\\\n",
    "            'theirs', 'themselves', 'what', 'which', 'who', 'whom', 'this', 'that', \"that'll\", 'these', 'those', \\\n",
    "            'am', 'is', 'are', 'was', 'were', 'be', 'been', 'being', 'have', 'has', 'had', 'having', 'do', 'does', \\\n",
    "            'did', 'doing', 'a', 'an', 'the', 'and', 'but', 'if', 'or', 'because', 'as', 'until', 'while', 'of', \\\n",
    "            'at', 'by', 'for', 'with', 'about', 'against', 'between', 'into', 'through', 'during', 'before', 'after',\\\n",
    "            'above', 'below', 'to', 'from', 'up', 'down', 'in', 'out', 'on', 'off', 'over', 'under', 'again', 'further',\\\n",
    "            'then', 'once', 'here', 'there', 'when', 'where', 'why', 'how', 'all', 'any', 'both', 'each', 'few', 'more',\\\n",
    "            'most', 'other', 'some', 'such', 'only', 'own', 'same', 'so', 'than', 'too', 'very', \\\n",
    "            's', 't', 'can', 'will', 'just', 'don', \"don't\", 'should', \"should've\", 'now', 'd', 'll', 'm', 'o', 're', \\\n",
    "            've', 'y', 'ain', 'aren', \"aren't\", 'couldn', \"couldn't\", 'didn', \"didn't\", 'doesn', \"doesn't\", 'hadn',\\\n",
    "            \"hadn't\", 'hasn', \"hasn't\", 'haven', \"haven't\", 'isn', \"isn't\", 'ma', 'mightn', \"mightn't\", 'mustn',\\\n",
    "            \"mustn't\", 'needn', \"needn't\", 'shan', \"shan't\", 'shouldn', \"shouldn't\", 'wasn', \"wasn't\", 'weren', \"weren't\", \\\n",
    "            'won', \"won't\", 'wouldn', \"wouldn't\"]"
   ]
  },
  {
   "cell_type": "code",
   "execution_count": null,
   "metadata": {},
   "outputs": [],
   "source": []
  },
  {
   "cell_type": "markdown",
   "metadata": {
    "colab_type": "text",
    "id": "XugL-ESaJhwI"
   },
   "source": [
    "## Question 2"
   ]
  },
  {
   "cell_type": "markdown",
   "metadata": {
    "colab_type": "text",
    "id": "36MCGVwyJhwK"
   },
   "source": [
    "### Preprocess data\n",
    "- convert all text to lowercase - use .lower()\n",
    "- select only numbers, alphabets, and #+_ from text - use re.sub()\n",
    "- strip all the text - use .strip()\n",
    "    - this is for removing extra spaces"
   ]
  },
  {
   "cell_type": "code",
   "execution_count": 243,
   "metadata": {
    "colab": {},
    "colab_type": "code",
    "id": "I_W6Ye-1JhwL"
   },
   "outputs": [
    {
     "name": "stderr",
     "output_type": "stream",
     "text": [
      "100%|███████████████████████████████████████████████████████████████████████████| 3291/3291 [00:00<00:00, 11277.09it/s]\n"
     ]
    }
   ],
   "source": [
    "preprocessed_text=[]\n",
    "for sent in tqdm(df['tweet_text']):\n",
    "    sent = sent.lower()\n",
    "    sent = re.sub('[^A-Za-z0-9#+_]+', ' ', sent)\n",
    "    sent = ' '.join(f for f in sent.split() if f not in stopwords)\n",
    "    preprocessed_text.append(sent)"
   ]
  },
  {
   "cell_type": "markdown",
   "metadata": {
    "colab_type": "text",
    "id": "rcpk_UoNJhwO"
   },
   "source": [
    "print dataframe"
   ]
  },
  {
   "cell_type": "code",
   "execution_count": 244,
   "metadata": {
    "colab": {},
    "colab_type": "code",
    "id": "dPYfukC7JhwP"
   },
   "outputs": [
    {
     "data": {
      "text/plain": [
       "['wesley83 3g iphone 3 hrs tweeting #rise_austin dead need upgrade plugin stations #sxsw',\n",
       " 'jessedee know fludapp awesome ipad iphone app likely appreciate design also giving free ts #sxsw',\n",
       " 'swonderlin not wait #ipad 2 also sale #sxsw',\n",
       " 'sxsw hope year festival crashy year iphone app #sxsw',\n",
       " 'sxtxstate great stuff fri #sxsw marissa mayer google tim reilly tech books conferences amp matt mullenweg wordpress',\n",
       " '#sxsw starting #ctia around corner #googleio hop skip jump good time #android fan',\n",
       " 'beautifully smart simple idea rt madebymany thenextweb wrote #hollergram ipad app #sxsw http bit ly ieavob',\n",
       " 'counting days #sxsw plus strong canadian dollar means stock apple gear',\n",
       " 'excited meet samsungmobileus #sxsw show sprint galaxy still running android 2 1 #fail',\n",
       " 'find amp start impromptu parties #sxsw hurricaneparty http bit ly gvlrin wait til android app comes',\n",
       " 'foursquare ups game time #sxsw http j mp grn7pk still prefer gowalla far best looking android app date',\n",
       " 'gotta love #sxsw google calendar featuring top parties show cases check rt hamsandwich via ischafer gt http bit ly axzwxb',\n",
       " 'great #sxsw ipad app madebymany http tinyurl com 4nqv92l',\n",
       " 'haha awesomely rad ipad app madebymany http bit ly htdfim #hollergram #sxsw',\n",
       " 'noticed dst coming weekend many iphone users hour late sxsw come sunday morning #sxsw #iphone',\n",
       " 'added #sxsw flights planely matching people planes airports also downloaded klm iphone app nicely done',\n",
       " 'must #sxsw app rt malbonster lovely review forbes sxsw ipad app holler gram http co g4gzypv',\n",
       " 'need buy ipad2 austin #sxsw not sure need q austin apple store',\n",
       " 'oh god #sxsw app ipad pure unadulterated awesome easier browse events ipad website',\n",
       " 'okay really yay new foursquare #android app 11 kthxbai #sxsw',\n",
       " 'photo installed #sxsw iphone app really nice http tumblr com x6t1pi6av7',\n",
       " 'really enjoying changes gowalla 3 0 android looking forward seeing else amp foursquare sleeves #sxsw',\n",
       " 'rt laurieshook looking forward #smcdallas pre #sxsw party wed hoping win #ipad resulting shameless promotion #chevysmc',\n",
       " 'rt haha awesomely rad ipad app madebymany http bit ly htdfim #hollergram #sxsw via michaelpiliero',\n",
       " 'someone started #austin partnerhub group google groups pre #sxsw great idea',\n",
       " 'new #4sq3 looks like going rock update iphone android push tonight http bit ly etsbzk #sxsw #keepaustinweird',\n",
       " 'right gowalla 3 app #android sweeeeet nice job team #sxsw',\n",
       " 'smart madebymany #hollergram ipad app #sxsw http co a3xvwc6 may leave vuvuzela home',\n",
       " 'must app ipad going #sxsw http itunes apple com us app holler gram id420666439 mt 8 #hollergram',\n",
       " 'best rt mention ha first line #ipad2 #sxsw quot pop quot apple store event planner #eventprofs #pcma #engage365',\n",
       " 'mention false alarm google circles not coming probably not ever link #google #circles #social #sxsw',\n",
       " 'mention great weather greet #sxsw still need sweater night apple putting quot flash store quot downtown sell ipad2',\n",
       " '#ipad2 #smartcover opens instant access waited get one link #apple #sxsw',\n",
       " 'hooray rt mention apple opening pop store austin #sxsw mention link',\n",
       " 'wooooo mention apple store downtown austin open til midnight #sxsw',\n",
       " 'mention mention talking link google effort allow users open systems #bettercloud #sxsw',\n",
       " 'link rt mention 1st stop #sxsw #chaos amp mention hunt austin java get spy game 4 chance 2 win ipad',\n",
       " '#omfg rt mention heard apple pop store downtown austin pics already gowalla link #sxsw #ipad2',\n",
       " '#smile rt mention think apple quot pop store quot austin would lot interesting actually know popped #sxsw',\n",
       " 'attending mention ipad design headaches #sxsw link',\n",
       " 'check mention mention amp mention line ipad 2 austin power #sxswi #sxsw link',\n",
       " 'rt mention come party w google tonight #sxsw link bands food art ice cream nifty interactive maps',\n",
       " 'holla rt mention google party best ever get butt #sxsw',\n",
       " 'love mention iphone case #sxsw get phone #fail',\n",
       " 'new post mention iphone app makes easy connect social networks people meet link #sxsw',\n",
       " 'nice mention iphone app behaving today crashes yesterday ridiculous #sxsw',\n",
       " 'nice rt mention hey apple fans get peek space slated pop #sxsw apple store tomorrow link',\n",
       " 'one thing mention great get great earth face google company love #sxsw #sxwsi',\n",
       " 'thanks mention mention new #speech ipad apps showcased #sxsw conf link #sxswh #sxsh',\n",
       " 'mention #sxsw not provide iphone chargers changed mind going next year',\n",
       " 'xmas rt mention shiny new mention mention mention apps new garyvee book pop ipad 2 stores #sxsw christmas nerds',\n",
       " 'yai rt mention new #ubersocial #iphone app store includes uberguide #sxsw sponsored cont link',\n",
       " 'fast fun amp future mention google presenting #sxsw search local mobile',\n",
       " 'headline quot #ipad 2 must gadget #sxsw quot hmm could seen one coming link #gadget',\n",
       " 'mention quot google launched checkins month ago quot check ins ok check outs future #sxsw #bizzy',\n",
       " 'mention quot google tweet quot new quot think speak quot mark belinsky #911tweets panel #sxsw',\n",
       " 'kawasaki quot not c lewis level reasoning apple continued existence evidence existence god quot #bawling #sxsw',\n",
       " 'kawasaki quot pagemaker saved apple quot oh days #sxsw #jwtatl #enchantment via mention',\n",
       " '#sxsw #apple ipad 2 great thoughts w japan apac regions dealing w earthquake amp tsunami trauma #sxswi',\n",
       " '#sxsw #apple schools marketing experts link',\n",
       " 'temporary #apple store def not tent powerhouse gym #sxsw link',\n",
       " 'temporary #apple store 6th congress #sxsw along 10 000 happy hipsters',\n",
       " 'mention #apple wins #sxsw link opening temporary store downtown austin support #ipad2 launch good',\n",
       " '#ipad #austin trending today fun #sxsw nerdy nerds',\n",
       " 'christian #ipad #iphone devs want talk u #sxsw maybe wk together cool app mention',\n",
       " 'apple #ipad2 taken #sxsw #austin storm link mention excited part #mobile',\n",
       " 'haz #ipad2 ifrom #sxsw gr8 link',\n",
       " 'stacks #ipad2 waiting bought #sxsw got mine no hassle apple handled perfectly link',\n",
       " 'take #sxsw rt mention major south korean director gets 130 000 make movie entirely iphone link',\n",
       " 'beautiful #sxsw mention apple store sxsw pic link',\n",
       " 'must #sxsw app rt mention lovely review forbes sxsw ipad app holler gram link',\n",
       " 'temporary #sxsw apple store apple sneaky usual link',\n",
       " 'mention #sxsw beta testing interactive book ipad app moonbot studios louisiana cool app',\n",
       " 'apple #sxsw day one seeing ton #ipad2',\n",
       " 'mention #sxsw ipad store sold everything except 64gig wifi white mention manage get',\n",
       " 'mention #sxsw ipad store sold everything except 64gig wifi white also known white jeans configuration',\n",
       " 'offered #sxsw ipad promo ninjafinder users fans not #sxsw sucks not #sxsw',\n",
       " '#poursite #sxsw learning life changing impact ipad real people actual lives bravo',\n",
       " 'apple #sxsw store still ipad 2 short lines',\n",
       " 'left #sxsw tradeshow demo mention google theatre ok get see presenters using',\n",
       " 'anyone #sxsw want make quick hundred dollars new #ipad2 ad hoc apple store gets hundred plus cost',\n",
       " 'monday #sxsw barry diller new york times congress lunch w hotel party google party six dirty martinis mondays',\n",
       " 'seriously #sxsw testing mobile apps constant ipad crashes causing lost schedules no sync wp7',\n",
       " 'ready #sxsw iphone apps 2 make ur blogging easier link #sxsw #sxswi',\n",
       " 'ipad2 #sxsw conflagration doofusness link',\n",
       " 'attention #sxsw ers link rumored pop temporary apple store #sxsw ipad 2 launch needs',\n",
       " 'went #sxswi lousy #ipad #sxsw link',\n",
       " '#winning picture #android #google #sxsw link',\n",
       " 'spent 1 000+ come sxsw already used ipad 1 wait couple city blocks #ipad2 #sxsw link',\n",
       " 'behind 100s emails give 1 line iphone composed replies #sxsw #protip',\n",
       " 'like 10pm night line around block popup apple stores selling ipad2s #sxsw',\n",
       " '2 ipad 2s seen wild people say fast still pics terrible #sxsw',\n",
       " '#ipad 2 takes #sxsw video mention link',\n",
       " 'many ipad 2 snapping away keynote slides #sxsw',\n",
       " 'new post 3 iphone apps using south southwest interactive link #sxsw #sxswi',\n",
       " 'sweet new 3 google maps demo going ballroom #sxsw',\n",
       " '35 million miles per day driving google maps navigation #sxsw',\n",
       " '#sxsw day 5 #apple store still line growing link',\n",
       " 'band #sxsw want share track audience stage use frostwire android wi fi available',\n",
       " 'u iphone need car use zimride etc share rides #sxsw #shareable',\n",
       " 'picked mophie battery case 4 iphone prep #sxsw not lugging around laptop amp using phone huge win last year',\n",
       " 'not rumor monger good read _ #google #circles preview mention #sxsw link mention via mention #socbiz #fb',\n",
       " 'hobo shotgun video game coming ipad iphone users yes please link #sxsw',\n",
       " 'build store less 24 hours one biggest launches company history got #apple #sxsw #ipad2',\n",
       " 'read #groupme #sxsw sounds like incredible app available android phones yet',\n",
       " 'iphone alarms botch timechange many #sxsw ers freak late flights missed panels behind bloody marys',\n",
       " 'shouts ladies holding ipad 2 free #sxsw shows take photos sipping free beer cc mention',\n",
       " 'meant also wish #sxsw #dyac stupid iphone',\n",
       " 'rumors apple store opening #sxsw 6th amp congress signs point yes link',\n",
       " 'picked ipad 2 #sxsw pop apple store 15 minute wait',\n",
       " 'brilliant enlightening game mechanics presentation mention google #sxsw',\n",
       " 'marketing sales genius link #apple #sxsw',\n",
       " 'need #sxsw ipad iphone laptop dictaphone vid camera wow love meet real cerebellum charged people',\n",
       " '#sxsw app iphone ridiculous personal planner next 5 days',\n",
       " 'found app kyping iphone geolocation amp not releasing background need patch mention #batterykiller #sxsw',\n",
       " '#sxsw app iphone live rsvp events phone amp check sundayswagger eventbrite com 3 20 #scoremore',\n",
       " 'love app awesome rt mention must see #android app #sxsw quot bizzy quot link',\n",
       " '#sxsw apple quot pop quot store nuts still packed 11 30 link',\n",
       " 'course apple built temp store austin texas understand concept corralling cattle #sxsw #pickmeupanipad2',\n",
       " 'love apple let something like not retail store near #sxsw keep away opening pop store link',\n",
       " 'surprise apple opened pop store austin nerds town #sxsw get new link #cnet',\n",
       " 'surprise apple opened pop store austin nerds town #sxsw get new ipads link #cnet',\n",
       " 'surprise apple opened pop store austin nerds town #sxsw get new ipads link',\n",
       " 'mention apple great example retail store layed future no registers no checkout line #sxsw',\n",
       " 'mention apple opening temporary store downtown austin #sxsw ipad 2 launch link #gswsxsw',\n",
       " 'mention apple opening temporary store downtown austin #sxsw ipad 2 launch quot oh yay traffic',\n",
       " '#sxsw apple popup store open noon fresh shipment ipad 2 pretty sure going get one fingers crossed',\n",
       " '#technews apple saves sxsw set open pop store link #tech_news #apple #sxsw #tech',\n",
       " '#sxsw apple schools marketing experts link',\n",
       " '#sxsw apple schools marketing experts link via mention',\n",
       " '#sxsw apple schools marketing experts link via mention lt lt true love loathe no one marketing like',\n",
       " '#sxsw apple schools marketing experts cnet link',\n",
       " '#sxsw apple schools marketing experts cnet blogs link #austin #atx #retail',\n",
       " 'mention apple store downtown austin open til midnight #sxsw mention still time',\n",
       " 'quot apple store mall sunday 10x crowded line fake need fucking dongle quot genius let #sxsw',\n",
       " 'makeshift apple store 6th congress kidding amazing #sxsw #apple',\n",
       " 'temporary apple store sxsw really cool ipad 2 #apple #sxsw #fanboy',\n",
       " 'temporary apple store set #sxsw shit temptation going control',\n",
       " 'temporary apple store opens 5pm 6th congress line already growing #ipad view io link via mention #sxsw',\n",
       " 'temporary apple store block office wait see line tomorrow photos come #sxsw #ipad2',\n",
       " 'ipad news apps last year #sxsw link',\n",
       " '10 iphone apps probably need use #sxsw link',\n",
       " '150 million mobile google maps users mention #sxsw',\n",
       " 'android rt mention 10 new mobile apps using #sxsw link',\n",
       " 'ipad apps like software development release start working update #sxsw',\n",
       " 'arrived #sxsw mention issue resolved dying use iphone app cant login rt mention mention',\n",
       " 'overheard #sxsw quot ipad relaxing computer quot agreed #ipad #apple',\n",
       " 'overheard #sxsw interactive quot arg hate iphone want blackberry back quot #shocked',\n",
       " 'mention #sxsw quot apple comes cool technology no one ever heard go conferences quot',\n",
       " 'last year #sxswi everbody talking ipad year social media driven revolutions year better #sxsw',\n",
       " 'long line apple pop store ipad 2 great marketing apple #sxsw',\n",
       " 'mention google 4 people work 7 people rather 7 people work 4 #agileagency #sxsw',\n",
       " 'knackered home playing ipad updating iphone timeline smashed partytweets make go bed #sxsw',\n",
       " 'overheard mdw second quot halfway iphone battery already even boarded plane #sxsw quot #amateurhour',\n",
       " '#technews sxsw apple schools marketing experts link #tech_news #apple #jobs_co #sxsw #tech',\n",
       " 'huge line #apple store #austin #sxsw crowd tripping get new ipad',\n",
       " 'ur not #google #aclu 80 party u #sxsw',\n",
       " 'laughed ipad spent week hauling macbook everywhere really want ipad shoulder rub #sxsw',\n",
       " '#sxsw attendees need qr code reader iphone tweet us image badge first 5 get optiscan free',\n",
       " 'hey #sxsw attendees hop line #apple store four days til new ipad2 comes',\n",
       " 'took away lego pit replaced recharging station #sxsw might check prices iphone crap samsung android',\n",
       " 'mention bad apple shows late qs process poo poos ideas leaves early even quot creative quot busy #gamestorming #sxsw',\n",
       " 'trying balance power power needs iphone vs ipad #sxsw 3g ipad sucks quick might go airplane mode',\n",
       " 'iphone battery 100 #winning #sxsw',\n",
       " 'iphone battery keep tweets thanks apple #sxsw #precommerce',\n",
       " 'fun watch #ipadmadness rt mention apple opening pop store austin sxsw link #sxsw',\n",
       " 'control #apple set open popup shop core #sxsw action link via mention cc mention',\n",
       " 'celebrate beauty web mention msft #ie9 launch amp play new #html5 game win ipad2 link #sxsw',\n",
       " 'mention best thing heard weekend #sxsw quot gave ipad 2 money #japan relief need ipad 2 quot mention',\n",
       " 'ipad 2 better time improve #sxsw',\n",
       " 'link go beyond earth hour year sharing positive actions world download #earthhour 60+ iphone app #sxsw',\n",
       " 'google vs bing #bettersearch bing shot success w structured search potentially higher margin cpa model vs #google #sxsw',\n",
       " 'course bing results good google #seo #sxsw #qagb',\n",
       " 'impulsive buy friends #sxsw gt one selling 1st gen 32gb 3g ipad',\n",
       " 'mention buying 2 new ipad mention #geekdate #apple #sxsw #ipad2',\n",
       " 'someone buying present rt mention apple opening pop store austin #sxsw link',\n",
       " 'nice find rsq mention link #sxsw #ipad #app',\n",
       " 'exciting wait rt mention apple opening temporary store downtown austin #sxsw amp ipad 2 launch link',\n",
       " 'great certain meetings rt mention hello holler gram new ipad app link #hollergram #sxsw',\n",
       " 'dont miss charles chen android chromeos access sxsw mention google booth exhibit hall 3 mention 1pm #sxsw',\n",
       " 'ipad 2 coming #sxsw guess apple pretty desperate give attention',\n",
       " 'coming #sxsw sure download sxsw go app schedules locations events link',\n",
       " 'seriously considering leaving macbook pro home flying solo ipad week think make work #sxsw',\n",
       " 'four days #ipad #sxsw #weekend #battlela',\n",
       " 'iphone dead find secret batphone #sxsw',\n",
       " 'google tv demo league extraordinary hackers cool stuff like web apps tv #google #sxsw #lxh',\n",
       " 'best ipad design big chunky elements generous space clarity trumps density tap quality trumps tap quantity #tapworthy #sxsw',\n",
       " 'attending designing ipad interfaces new navigation schemas w mention great stuff far #sxsw',\n",
       " 'barry diller thinks ipad content nuts mention #sxsw mention link mention',\n",
       " 'really need another big social network right thanks #sxsw #google link',\n",
       " 'japan docomo introduced mobile apps six years apple came app store #jpmobilesummit #sxsw',\n",
       " 'jeez guys dunno apple pop gold gym u realize un jobs aesthetic #sxsw #apple',\n",
       " 'even begins #apple wins #sxsw link #tc #apple',\n",
       " 'even begins #apple wins #sxsw link mention',\n",
       " 'even begins #apple wins #sxsw link opening temporary store downtown austin support #ipad2 launch #genius',\n",
       " 'even begins apple wins #sxsw techcrunch link #ipad',\n",
       " 'even begins apple wins #sxsw link',\n",
       " 'even begins apple wins #sxsw link',\n",
       " 'even begins apple wins #sxsw link',\n",
       " 'even begins apple wins #sxsw link mention mention',\n",
       " 'even begins apple wins #sxsw link via mention mention mention',\n",
       " 'even begins apple wins #sxsw link mention',\n",
       " 'even begins apple wins #sxsw link via mention',\n",
       " 'even begins apple wins #sxsw link gt gonna get sum via mention',\n",
       " 'even begins apple wins sxsw techcrunch link #sxsw',\n",
       " 'even begins apple wins sxsw link lt lt win big #sxsw',\n",
       " 'even begins apple wins sxsw link #apple #ipad2 #pm #sxsw',\n",
       " 'even begins apple wins sxsw link #apple #ipad2 #sxsw #tc',\n",
       " 'even begins apple wins sxsw link #apple #sxsw',\n",
       " 'even begins apple wins sxsw link #tc #apple #ipad2 #sxsw',\n",
       " 'even begins apple wins sxsw link via mention #apple #sxsw',\n",
       " 'even begins apple wins sxsw link via mention mention #apple #sxsw',\n",
       " 'badgeless event free drinks mention heading free google sponsored happy hour semantic web austin mention fogo de ch #sxsw',\n",
       " 'best swag ever thanks mention charging iphone thanks #sxsw link',\n",
       " 'timing everything ipad 2 brand winner sxsw mention link #pnid #sxsw',\n",
       " 'hey #sxsw exhibitors not capture booth experience retrollect disc popular disc wins ipad 2 link',\n",
       " '#sxsw fantastic schedule app iphone bummer still crackberry',\n",
       " 'photo far best #sxsw accessory ipad followed closely margarita link',\n",
       " 'one fav photos #sxsw far mention amp mention #google #sxsw link',\n",
       " 'think fell bit love #google today thanks throwing nerd party speakeasy #sxsw',\n",
       " 'way figure ipad 2 good replacement not making #sxsw year',\n",
       " 'need find better #sxsw stream follow inane ipad 2 tweets surely not southby',\n",
       " 'google focusing bridging digital physical divide eg maps streetview hotpot amp autonomous driving #sxsw mention',\n",
       " 'hey #sxsw folks please keep us posted google #circles hope blast link',\n",
       " '#apple follow customers #sxsw forbes link alcoholics call enabling rest us call genius',\n",
       " 'good news austin bound apple fanboys link #sxsw #ipad2',\n",
       " 'wish list tech #ntn #sxsw google apps helps level playing field kids may not software home',\n",
       " 'hitlantis ipad cool song explorer app hitlantis com #sxsw #musicviz',\n",
       " 'friends sxsw willing pick ipad pay premium dm #sxsw #atl link',\n",
       " 'good talk akqas mention ipad interface w callback design principles wish go beyond media marketing examples #fb #sxsw',\n",
       " 'person front took picture new ipad #sxsw',\n",
       " 'marketing genius apple opens pop store outside #sxsw link',\n",
       " 'mention get ready word quot circles quot trending #sxswi #sxsw #google #circles #social',\n",
       " 'get food forget snap photo win macbook air ipad 2 apple tv #sxsw',\n",
       " 'austin getting full #sxsw underway tell iphone intermittent brick #crowded',\n",
       " 'google giving free google labs laptops open source coders r attending meet #sxsw got cupcake',\n",
       " '#sxsw go app no available blackberry windows 7 addition iphone ipad android link',\n",
       " 'want go apple pop store afraid leave new ipad #sxsw',\n",
       " 'omg going #sxsw macbook pro ipad iphone4 ipod galaxy tab #techgeek',\n",
       " 'haha google quot party like 1986 quot party link #sxsw',\n",
       " '#sxsw google authenticator app mobile devices step ahead',\n",
       " 'mention google circles first real alternative facebook #sxsw',\n",
       " 'mention google lets block sites stand link #sxsw blocking looks like need',\n",
       " 'mention google launch major new social network called circles possibly today link #sxsw never beat myspace',\n",
       " 'mention google launch major new social network called circles possibly today link #sxsw mention bigger gaga',\n",
       " 'mention google launch major new social network called circles possibly today link #sxsw super interesting',\n",
       " 'diller google tv quot first product good consumer product basically quot #sxsw #diller',\n",
       " 'mention google connect digital amp physical worlds mobile link #sxsw rt mention',\n",
       " 'future google contextual discovery location + context helps us go deeper ever searches without search mention #sxsw',\n",
       " 'check googletv ipad apps connected tv experience sxsw link #sxsw #connectedtv',\n",
       " 'check googletv ipad apps connected tv experience sxsw link #sxsw #connectedtv fascinating',\n",
       " 'msc_page guy gets tattoo sxsw could win free ipad2 link #sxsw #tattoo #ipad _ link #allshare',\n",
       " 'ipad 2 hand awesome dude gave cutsies 3 hour line #austin #apple #sxsw #winning',\n",
       " '#smtravel heard google plans launch socnet may quot circles quot learned lot 5 years lots changed via #sxsw',\n",
       " 'meetings line #sxsw popup apple store ipad2 love place',\n",
       " '#apple hawk ipad 2 #sxsw festival popup store link mention',\n",
       " 'oh lordy go rt mention time #apple store #sxsw open pulling #ipad2 trigger',\n",
       " 'loved honesty google marissa mayer keynote many products need step customer service locations #sxsw',\n",
       " 'hey #sxsw bout donating spending new #ipad japan really need thing',\n",
       " 'could forget cell phone today #sxsw fail glad ipad #lifelinetotheworld',\n",
       " 'mention 3g iphone 3 hrs tweeting #rise_austin dead need upgrade plugin stations #sxsw',\n",
       " 'mention feeling #sxsw worst place try amp get ipad 2 everyone trying get one #techiesunite',\n",
       " 'love macbook ipad iphone #sxsw year one runs juice jump next',\n",
       " 'holy cow got hooked paolo alex backup charger iphone facebook com powermat #powermatteam #sxsw #thanks',\n",
       " 'holy cow got hooked paolo alex backup charger iphone facebook com powermat #powermattteam #sxsw #thanks',\n",
       " 'knew plied mention beer stogies last night weasel way team android party tonight #success #sxsw',\n",
       " 'thought would use ipad lot #sxsw even touched hmmzies',\n",
       " 'mention beyond frustrated w mention samsung moment runaround amp leaving att amp iphone enjoy #sxsw',\n",
       " 'no idea startupbus thing addictive link #sxsw also added android app',\n",
       " 'hot spot mention data speed could keep rt mention also thanks apple releasing ios 4 3 time #sxsw',\n",
       " 'wondering ppl #sxsw friday queue convention centre apple store xd still figuring wot',\n",
       " 'room full people w good wi fi #sxsw run #frostwire android link share pics apps vids w others',\n",
       " 'room full people w good wi fi #sxsw run #frostwire android link share pics apps vids w others',\n",
       " 'hot spots austin gowalla right convention cnt ignite party n apple store #sxsw #sxswi',\n",
       " '#sxsw guy front panel ipad etch sketch case device wonder #iusxsw',\n",
       " 'need sweet mac goodness #sxsw apple set temporary store downtown link',\n",
       " 'zite intelligent ipad magazine link lt deliciousness #sxsw #trending #youneedthis',\n",
       " 'google interested location based tech indoor venues businesses convention centers etc tech needs improve first #sxsw',\n",
       " 'tim soo invisible instruments jaw dropping iphone+wii controller link #lovemusicapi #sxsw',\n",
       " 'rockin ipad 2 downtown apple #sxsw store #apple',\n",
       " 'awesome ipad 2 jailbreak link grateful dead #fab5 #sxsw',\n",
       " 'new post ipad 2 launches huge lines apple pop shop austin link #sxsw #sxswi',\n",
       " 'mention ipad 2 sold 70 went new buyers report link #sxsw #socialmedia #tech #ipad2 #media',\n",
       " 'remaining ipad 2 stock #sxsw apple store come get one link',\n",
       " 'ipad accessories bag thanks mention #sxsw',\n",
       " '#sxsw ipad app pure gold mention',\n",
       " 'check ipad design headaches 2 tablets call morning sxsw link #sxsw #tapworthy',\n",
       " 'first ipad design headaches 2 tablets call morning #sxsw #tapworthy',\n",
       " 'first ipad even exist last year already feel like pulling antique everytime use ipad #sxsw #ipad2',\n",
       " 'turn ipad physical messaging platform holler gram cheeky app built #sxsw link',\n",
       " 'shoot ipad not display search results go questions later #osmpw #sxsw',\n",
       " 'pic ipad winning performance link #sxsw #accordion #toodamnlucky',\n",
       " 'fear no iphone + #att 3gs slowpoke network #sxsw amp #sxswmusic',\n",
       " '#sxsw iphone app mocking like money come',\n",
       " '#sxsw iphone app one worst use long time',\n",
       " 'cool iphone app launched #sxsw flypost community bulletin board w location learn link link',\n",
       " 'pedicab + iphone charger would epic win #sxsw',\n",
       " 'check iphone developer meet sxsw link #sxsw',\n",
       " 'quot iphone transient device used short bursts ipad 8pm couch device quot mention #sxsw',\n",
       " 'disliking iphone twitter auto shortening links #sxsw',\n",
       " 'mention iphone clearly positively happily #sxsw',\n",
       " 'flipboard developing iphone version not android says mention #sxsw',\n",
       " 'iphone overheating many british sounding people texas #sxsw',\n",
       " 'link part presentation #sxsw good thing crashing instead works best iphone android',\n",
       " 'sister throwing google sxsw party tonigh come link bands food art ice cream nifty interactive #sxsw',\n",
       " 'mention walking around #sxsw staring iphone 4 like everyone else ummmm ditto',\n",
       " 'iphone wilting stress #sxsw',\n",
       " 'believe almost always use google maps iphone rt mention 40 google maps use mobile says mention #sxsw',\n",
       " 'course rt mention #sxsw gets apple store link #geeksrule',\n",
       " 'gotta get rt mention hey taariq howdy texas fav #sxsw app link lt android get iphone #usguys',\n",
       " 'mention bigger iphone smaller pc good big events like #sxsw meeting day link',\n",
       " 'bit jealous seeing #sxsw attendees #ipad2 ipad seems obsolete',\n",
       " 'quot learning things screen quot 4 year old explanation instantly knew use ipad #sxsw',\n",
       " 'location pixieengine rt mention google says future location location location link #sxsw #cnn',\n",
       " 'ipad keeps awake thank god bought #sxsw',\n",
       " 'iphone know #sxsw week tough already dwindling battery help jeebus keep correcting curse words',\n",
       " 'google launch social network circles #sxsw link excited',\n",
       " 'google launch major new social network called circles link #sxsw via mention',\n",
       " 'google launch major new social network called circles updated link not launched #sxsw soon care',\n",
       " 'google launch major new social network called circles link #sxsw brazil orkut users waiting',\n",
       " 'google launch major new social network called circles possibly today updated mention link #sxsw',\n",
       " 'google launch major new social network called circles possibly today link',\n",
       " 'google launch major new social network called circles possibly today link #sxsw surely threat fb',\n",
       " 'google launch major new social network called circles possibly today link #sxsw #pakistan #cwc2011',\n",
       " 'google launch major new social network called circles possibly today link #sxsw mention',\n",
       " 'google launch major new social network called circles possibly today mention #sxsw #sxswi link via mention',\n",
       " 'google launch major new social network called circles possibly today mention link via mention #sxsw #sxswi',\n",
       " 'google launch major new social network called circles link possibly today #sxsw',\n",
       " 'google launch major new social network called circles #google #circles #sxsw link',\n",
       " 'google launch major new social network called circles #google #circles #sxsw link',\n",
       " 'google launch major new social network called circles link #sxsw v mention mention',\n",
       " 'google launch new social network sxsw cnet news link #sxsw',\n",
       " 'google launch new social network circles linking u closely peeps u connect w possibly today mention #sxsw',\n",
       " 'google launch product wait no launch product exists wait product not exist #sxsw link',\n",
       " 'god like #sxsw imac macbook iphone blackberry staring enough time read book remember',\n",
       " 'ha seems like gt mention news sxswi apple temporary ipad store #sxsw #wth',\n",
       " 'line #sxsw apple store ipad day 2 link',\n",
       " 'saw giant line thought movie premiere apple store ipad 2 heard screams premiere #sxsw',\n",
       " 'since listening google marissa mayer engaging twitter wondering heck happened google buzz #sxsw',\n",
       " 'looking forward google bing q website ranking week #sxsw',\n",
       " 'lots google efforts helping japan many global issues rt mention rt mention wtf w people #sxsw',\n",
       " 'gotta love mention mention unabashed apple #fanboy gt gt even begins apple wins #sxsw link',\n",
       " 'geeky love rt mention apple opening temporary store downtown austin #sxsw ipad 2 launch link',\n",
       " 'mention love mention mention #sxsw quot apple comes w cool technology no one ever heard go 2 conferences quot 2',\n",
       " 'mention love mention #sxsw quot apple comes cool technology no one ever heard go conferences quot',\n",
       " 'trying make detailed colour coded google calendar #sxsw proving really tough also get organized',\n",
       " 'love marketing genius #sxsw rt mention inside apple temporary store austin link',\n",
       " 'great vid marty rt mention #ipad2 live unboxing front #sxsw apple store video link',\n",
       " 'think may go ipad no laptop today #sxswi #sxsw veterans reasons',\n",
       " 'made #soundcloud ambassador #sxsw upload music shows amp reward rt mention soundcloud android app fresh',\n",
       " 'alert media saw one android tablet #sxsw like finding needle haystack also saw cr 48',\n",
       " 'purchased mexican mavis boy amp bear sold first listen thanks #sxsw #itunes #free link #itunes',\n",
       " 'think might go weekend without seeing ipad case twice #sxsw',\n",
       " 'sure mine via ipad rt mention know #agnerd #dairy relies evernote link #sxsw #agchat',\n",
       " 'bummed miss #sxsw year quarantined kiddie cold garageband ipad comfort #fb',\n",
       " 'loving morphie juicepack today recharge iphone worth #sxsw',\n",
       " 'brilliant move apple even begins apple wins #sxsw link',\n",
       " 'could murphy usa better serve inside google maps phone google announcing great features v5 #sxsw',\n",
       " '#ipad intimate together #tapworthy #designflaws #sxswi #sxsw',\n",
       " 'compiling #sxsw list one google doc taking lot longer thought many parties many good musicians',\n",
       " 'day 1 charger kicked bucket heck apple store within walking distance #sxsw',\n",
       " 'iphone ipad feel unequipped compared everyone else dang #sxsw',\n",
       " 'headed sole #sxsw event aclu dotrights google party',\n",
       " 'mention new #ubersocial #iphone app store includes uberguide #sxsw sponsored #mashable link',\n",
       " 'couple new blogs random tips awesome iphone app dev link politics behind html5 link #sxsw',\n",
       " 'dude next holding using ipad 2 like trophy #sxsw #lookingforwardtothemusicfest',\n",
       " 'no hard feelings towards google mention says would make great partner #checkins #sxsw #pnid',\n",
       " 'mention not rumor apple popup store downtown austin #sxsw amp ipad 2 launch link smart move 1of many #dfcbto',\n",
       " 'buy not buy rt mention even begins apple wins #sxsw link',\n",
       " 'farooqui mobile ios android catching fast grow allow app purchasing #gamesfortv #sxsw',\n",
       " 'fear not extended wed gt rt mention rt mention last day apple popup sunday 3 13 #sxsw #appleatxdt',\n",
       " 'quot #sxsw nothing teeming sea iphone addicts busy twittering ever engage one anoth _ cont link',\n",
       " 'not fan new #sxsw trend audience sharing opinions via holding ipad not listen #annoying',\n",
       " 'power apple people spent hundreds dollars attend #sxsw spending day waiting line ipad',\n",
       " 'continuum attitudes crowdsourcing gap quot hear quot apple quot tell quot #sxsw',\n",
       " 'third era google logos interactive play space get ready #googledoodle #sxsw #gsdm',\n",
       " 'highlight day undoubtedly meeting mention google 30 seconds softball fancrazed preso #sxsw',\n",
       " 'wow lots #sxsw audience seen 3d vector panning google maps mobile gasps appreciation',\n",
       " 'tomlinson tx observer says apple subscription data holding biggest impediment success #newsapps #sxsw',\n",
       " 'mention official #sxsw app sxsw go link #android #iphone #ipad lt thanks installed',\n",
       " '#technews omg jk kiss ipad 2 slap xoom link #tech_news #ipad_2 #jk #omg #sxsw #tech',\n",
       " 'usa today ipad makes good use digital shortcuts still looking like newspaper mention #tapworthy #sxsw',\n",
       " 'iphone one hand caramel macchiato ouch hiss hot apparently two pumps lava begins #sxsw #tmsxsw',\n",
       " 'haz one mention showed mention charge anywhere bar charge iphone whole table wanted buy one #sxsw',\n",
       " '#apple open quot pop quot store across street #sxsw two weeks umm genius obvious cough #ipad2 cough',\n",
       " '#apple open pop shop sxsw link lt cool concept spend #sxsw waiting #ipad2',\n",
       " 'apple opened makeshift store #sxsw ipad2 available 5pm today #tempted',\n",
       " 'hey #sxsw new ipad app dexteria available link like us facebook link',\n",
       " 'ipad 2 plenty people store line scarfing #sxsw mention apple store sxsw w 65 others link',\n",
       " 'nice line outside #sxsw #apple store guess people want ipad2s',\n",
       " 'mention packing point showing iphone fragmentation #sxsw',\n",
       " 'google party best ever get butt #sxsw',\n",
       " 'hey #sxsw peeps new iphone app #voicefeed launched us link check let us know think',\n",
       " 'google planning launch major new social network called circles previews far super positive #sxsw link',\n",
       " 'need play game #android #sxsw link',\n",
       " 'left pocket guide hotel know going cope say usability ipad iphone app #sxsw',\n",
       " 'apple pop store #sxsw no joke',\n",
       " 'apple pop store attractive impressive many permanent retail stores #sxsw',\n",
       " 'apple pop store line finally dwindled time check ipad2 #sxsw',\n",
       " 'apple popup store hook last night #sxsw singing dancing high fives new ipad purchase',\n",
       " 'brilliant pr stunt business idea customer service response one apple sets pop store #sxsw draws crowds media amp revenue',\n",
       " 'excellent presentation mention quot untapped ipad market site pour quot #sxsw #poursite #accessibility',\n",
       " 'ipad 2 pretty sick almost makes think need one #sxsw',\n",
       " 'mention problem google living stories process creating content change interface #hacknews #sxsw',\n",
       " 'google reproducing digitally way organically consume information goggles best example #sxsw #marissameyer',\n",
       " 'mention retiring wine library tv moving onto daily grape get app yr iphone #thankyouecon #sxsw',\n",
       " 'mention reveals average time users spent nyt oscars ipad app 16mins quot blew mind quot #newsapps #sxsw',\n",
       " 'right mention 3 app #android sweeeeet nice job team #sxsw',\n",
       " 'congrats rt mention good news austin eats bbq iphone available link #itunes #austin #bbq #sxsw #sxswi',\n",
       " 'congrats rt mention awesome ipad mention #sxswbuffalo lounge #sxsw experience complete #quibidswin',\n",
       " 'congrats rt mention yes gowalla wins best andoid app team android choice awards thanks #sxsw',\n",
       " 'like rt mention mention quot google tweet quot new quot think speak quot mark belinsky #911tweets panel #sxsw',\n",
       " 'l e rt mention quot law averages better buzz quot rt mention quot google circles ______ quot #sxsw',\n",
       " 'love rt mention #apple naomi campbell pop stores rage link #sxsw',\n",
       " 'new #sxsw rule no ooing ahing new ipad get not big deal everybody one',\n",
       " 'google saving users 2 years time gps navigation using alternate routes w traffic #sxsw',\n",
       " 'grabbed seat ballroom hear mention google #sxsw',\n",
       " 'ok seen two impressive lines since #sxsw one apple store yesterday amp mention party cc mention',\n",
       " '#apple setting pop store downtown austin sell bajillions ipad2s #sxsw attendees course link',\n",
       " 'exclusive shot #sxsw popup apple store link',\n",
       " '#ipad art show mention time #sxsw check interactive fools',\n",
       " 'mention #jealous #sxsw amp new ipad',\n",
       " 'impressed far ipad 2 slim form quot instant quot ness seen tried one yet #sxsw #sxswi',\n",
       " '#apple smart open pop store #austin #sxsw crowd',\n",
       " 'q social sites like delicious often better results google bing #qagb #sxsw',\n",
       " 'ipad 2 sold 70 1st time users #sxsw',\n",
       " 'got exciting things showing #sxsw year including drag drop store management iphone',\n",
       " 'talked great developers android meetup looking forward working #sxsw #android #androidsxsw',\n",
       " 'information mention morning apple store getting build #sxsw two weeks ipad2 love jealous',\n",
       " 'seen best ipad cases ever #sxsw starting transfer bit book fetishism ipads slowly surely',\n",
       " 'mention spotted #sxsw man need ipad 2 link #sxswi man need go sxsw apple store',\n",
       " 'still ipad 2s least #sxsw pop apple store mention bought one',\n",
       " 'apple store austin 100 people taking pic #ipad2 #sxsw link',\n",
       " 'oh apple store look home downtown austin #sxsw #sxtxstate mention apple store sxsw link #photo',\n",
       " 'stupid not apple opening temporary store austin #sxsw amp ipad 2 launch link via mention',\n",
       " 'great new support web fonts mention #sxsw #google',\n",
       " 'link sxsw apple schools marketing experts #sxsw',\n",
       " 'great talk mention must one #sxsw mention apple',\n",
       " 'read #apple #sxsw selling ipad 2 release day good lord vortex smugness day may unbearable',\n",
       " 'bad want go home read google reader feed #geek #sxsw',\n",
       " 'check #dokobots game mention iphone android seems pretty cool #geogames #sxsw #tmsxsw',\n",
       " 'mention 10 dangerous iphone apps #sxsw link',\n",
       " 'hopefully best thing comes #sxsw fact people flew austin pick ipad',\n",
       " 'first day exhibit hall open #sxsw stop #emc booth enter win ipad 2 mention mention',\n",
       " 'check free sxsw sampler itunes link #sxsw',\n",
       " 'following google bing qa session #sxsw great insights webmasters #qagb',\n",
       " 'like ipoo app iphone mention ha rt mention 4chan internet bathroom wall #sxswmoot #sxsw',\n",
       " 'pdanet awesome app yet android #sxsw mention likes',\n",
       " 'check new mention app link gonna huge next week #sxsw beyond',\n",
       " 'mention new whrrl app live iphone app store android marketplace get hot time #sxsw',\n",
       " 'used ol ipad help brits find hotel austin #gooddeed #sxsw #winning',\n",
       " 'must one #sxsw without ipad2 someone needs make case makes original ipad look like new 2nd gen',\n",
       " 'unveiling pop apple store scarborough building #sxsw link',\n",
       " 'ipad 2 star gadget sxsw link #sxsw',\n",
       " 'went whole day w laptop amp used ipad 1 things missed ftp cloudapp fast typing amp skype #ipad #sxsw',\n",
       " 'exploring world 3d xml combines google earth w location individuals show time cool #sxsw',\n",
       " 'last year not single ipad public #sxsw today common laptops seen android tablets',\n",
       " 'think would #sxsw app blackberry gave iphone finger guess carry around ipad lame',\n",
       " 'mention expectation engagement ipad visual social delving experience #sxsw #sxfl',\n",
       " 'wow thing insanely thin amp light hold ipad 2 seriously #sxsw #mosaicxm link',\n",
       " 'among things missing #sxsw google aclu 80 dance party',\n",
       " 'top 7 things loved #sxsw far link #outbrain #ipad #groupme',\n",
       " 'like think apple decided sell new ipad #sxsw based suggestion link everyone welcome',\n",
       " 'anyone thinks going walking around #sxsw old inferior ipad 1 ipad 2 released well wrong',\n",
       " 'people apple store not smell great #sxsw #hereforwork #nottheipad2',\n",
       " 'check new #android app #bizzy using check #sxsw link',\n",
       " 'check video get glimpse action like ipad 2 #ipad #sxsw #gadgets link could not resist',\n",
       " 'believe good rt mention life would much better ipad #brainwashed #lines #sxsw',\n",
       " 'thousands ipad 2 floating around austin #sxsw not seen even one single android tablet not even one zero',\n",
       " 'excellent tip mention going #sxsw new iphone guide #austin mention free march 9 15 hard beat free #lp',\n",
       " 'thank mention letting test drive car apple store lets hope fix phone #sxsw',\n",
       " 'way quot ipad design headaches quot not sure bloggable sure interesting #sxsw link',\n",
       " 'way #sxsw forgot ipad # mention cleveland hopkins airport w 2 others link',\n",
       " 'listening google q amp saying see yelp services going die #sxsw far interesting',\n",
       " 'listening google marissa mayer discuss new products including google hotpot watch yelp #sxsw',\n",
       " 'apple set open popup shop core #sxsw action link geeks need #ipad2 love',\n",
       " 'apple set open popup shop core sxsw action going sell ipad2 #sxsw link',\n",
       " 'apple set open popup shop core sxsw action link #sxsw #apple #ipad #retail',\n",
       " 'expecting see flood shiny new ipad2 today mention line apple store around block #sxsw',\n",
       " 'get see google fail social another day rt mention okay no google circles debuting #sxsw today',\n",
       " 'google vp speak topic 10 quick steps owning everything world #sxsw link',\n",
       " 'listening twit live mention #sxsw also went boxee keg party google robots event saw tim ferris speak checked ebay hackathon',\n",
       " 'going wait #ipad 4 know going better ipad 2 #sxsw',\n",
       " 'quot fond ipad quot mention #sxswi #sxsw',\n",
       " '#futuremf trajan google destroyed lt title gt tag websites seo open graph protocol added clean title tag instead #sxsw',\n",
       " 'attending tv + new media formula success #sxsw seeing lot ipad 2 around',\n",
       " 'apple two austin stores week no downtown presence changes #sxsw popup store link mention',\n",
       " 'apple two austin area retail locations anticipation gadget #ipad #sxsw #gadgets link',\n",
       " 'know u u selling weve never talked hate product rt mention check heyo 4 iphone #sxsw #sxswi',\n",
       " 'mention unloading #apple store corner 6th congress austin temp store #sxsw link dis awesome',\n",
       " 'apple pop store line ridic #sxsw link',\n",
       " 'def could use ipad #sxsw today tweeting via iphone sorta pretty much sux',\n",
       " 'mention used mention mention ipad app example good navigation #uxdes #sxsw link',\n",
       " 'little need parents anymore comment child playing ipad mention #connectedbrands #sxsw',\n",
       " 'took video ipad 2 6th street smart cover rad filming huge display nuts looks great playback #sxsw',\n",
       " 'dense una vuelta por #socialfuel #sxsw para ver la gran diferencia rt mention quot revolution clumsily translated google quot',\n",
       " 'wishing #sxsw see rumored demo mention new social network circles link via mention',\n",
       " 'mention interrupt regularly scheduled #sxsw geek programming big news link #google #circles',\n",
       " 'mention interrupt regularly scheduled #sxsw geek programming big news link #google #circles sounds interesting',\n",
       " '#sxsw giving away ipad 2 creator popular disc interactive create disc amp share twitter',\n",
       " 'sxsw weekend ipad 2 release taking part either sadly no #sxsw #anybodywanttobuymeanipad2',\n",
       " '#apple cocky perhaps separate ipad2 store #sxsw would good idea guess need extra marketing',\n",
       " 'brilliant win win #austin #sxsw #ipad2 link',\n",
       " 'winner rt mention awesome got ipad 2 #sxsw link via mention mention',\n",
       " 'sort wish pop apple store sold actual apples joke #sxsw',\n",
       " 'impressed mention #google articulate relevant amp fun #sxsw mention austin convention center link',\n",
       " 'new app resourceful way get connected link #hashable #sxsw #iphone #droid',\n",
       " 'disgusted iphone battery life already 11 3 30 pm blackberry going strong #sxsw',\n",
       " 'ouch google v bing mention respect bing guy invited fill third chair #sxsw',\n",
       " 'mention yes gowalla wins best andoid app team android choice awards thanks #sxsw',\n",
       " 'thought quot social quot get overblown #sxsw google may announcing quot circles quot today link',\n",
       " 'check mom ipad designing boomers sxsw link #sxsw',\n",
       " 'mention #apple classiest fascist company america really elegant #sxsw #rji',\n",
       " 'mint com confines coding iphone app luxury worry learning diff phone versions #sxsw #gsdm #sxswmobileapps',\n",
       " '#winning free #sxsw music sampler itunes 22 tracks quot industry favorites amp breakout artists quot link link',\n",
       " '#awesome google maps 5 22 #sxsw great job #google',\n",
       " 'mention got copy #enchantment #ipad #kindle today excited thx keeping world enchanted glad #sxsw',\n",
       " 'apple markets comers #sxsw link',\n",
       " 'apple pop #sxsw ordinance front line admission first step recovery link',\n",
       " 'apple pop shop #sxsw cool link',\n",
       " 'lost ipad corrupted iphone crazy hotels good times #sxsw mention aus austin bergstrom link',\n",
       " 'midday iphone mid battery outlet blocked immobile booth serves no purpose taunt #sxsw link',\n",
       " 'sorry not going mention party #sxsw iphone forever',\n",
       " 'ning amp mobile roadie thrilled offer unofficial #sxsw insider guide iphone fun austin link',\n",
       " 'gt rt mention google 4 people work 7 people rather 7 people work 4 #agileagency #sxsw',\n",
       " 'find amp start impromptu parties #sxsw mention link wait til android app comes',\n",
       " 'quot pop quot apple store packed #sxsw',\n",
       " 'oh quot check new ipad 2 thing quot #sxsw #strangeproblems',\n",
       " 'sweet rt mention rt mention google launch major new social network called circles possibly today link #sxsw',\n",
       " 'nice move apple set open popup shop core #sxsw action link',\n",
       " 'big night come party mention google tonight #sxsw link bands food art interactive maps cc mention',\n",
       " 'sxsw 2011 novelty ipad news apps fades fast among digital delegates link via mention #sxsw xipad',\n",
       " 'thank rt mention picked mention book killer photoes iphone #sxsw #sxswchi link #sxswi',\n",
       " 'good work mention mention check latest stream apple store #sxsw link ipad2 come #playsxsw',\n",
       " 'good news austin eats bbq iphone available link #itunes #austin #bbq #sxsw #sxswi',\n",
       " 'bout time rt mention new #ubersocial #iphone app store includes uberguide #sxsw sponsored cont link',\n",
       " 'good info rt mention improve website rankings advice google amp bing #sxsw link',\n",
       " 'oh god rt mention not rumor apple opening temporary store downtown austin #sxsw amp ipad 2 launch link',\n",
       " 'true rt mention google lost way caring much business vs users mention #psych #sxsw',\n",
       " 'cool rt mention rt mention not rumor apple open temporary store dt atx #sxsw amp ipad 2 launch link',\n",
       " 'brilliant marketing quot apple opening temporary store downtown austin quot next #sxsw world buy',\n",
       " 'brilliant rt mention meetings line #sxsw popup apple store ipad2 love place',\n",
       " 'congrats rt mention yes gowalla wins best andoid app team android choice awards thanks #sxsw',\n",
       " 'love rt mention rt mention not rumor apple open temporary store dt atx #sxsw amp ipad 2 launch',\n",
       " 'well yeah music gt iphone nerds rt mention god cute girls everywhere love interactive ends music begins #sxsw',\n",
       " 'shite app rt mention new #ubersocial #iphone app store includes uberguide #sxsw sponso _ cont link',\n",
       " 'brilliant #apple setting pop store downtown austin sell tons ipad2s #sxsw attendees course link',\n",
       " 'brilliant rt mention apple set open popup shop core sxsw action going sell ipad2 #sxsw link',\n",
       " 'well done see tonight rt mention w00t mention wrote #hollergram ipad app #sxsw link',\n",
       " 'finally yeaayyy rt mention new #ubersocial #iphone app store includes uberguide #sxsw sponsored #mashable',\n",
       " 'begins story cool sxsw app also apple launching ipad 2 temp store stay tuned love #sxsw',\n",
       " 'wise rt mention apple opening temp store austin #sxsw link via mention #ipad2',\n",
       " 'fyi breaking google launch major new social network called circles today link via mention #sxsw #socialmedia',\n",
       " 'brilliant hope plenty ipads rt mention apple open pop shop sxsw report link #sxsw',\n",
       " 'new www divasanddorks com best worlds apple pop store invades sxsw link #sxsw',\n",
       " 'mention goodguide iphone app scans barcode rank environmental responsibility company nice pressure #smmnextgen #sxsw',\n",
       " 'think getting ready order ipad 2 would spend attend #sxsw',\n",
       " 'wow really trying tempt pick ipad 2 tomorrow link #apple #sxsw #austintx',\n",
       " 'know #sxsw iphone started lying signal strength',\n",
       " 'wow dedication rt mention well first line 10 5 hours go #ipad #apple #sxsw #sleepy',\n",
       " 'mention nexus mobile 10x useful iphone4 amp #sxsw many ppl iphone',\n",
       " 'google scale tiny changes even colors blue meaningful optimum shade blue links #sxsw mention',\n",
       " 'hey us gt gt go game launches iphone scavenger hunts link via mention see #sxsw',\n",
       " 'hmm get twitter searches update hootsuite tweetdeck ipad #sxsw',\n",
       " 'mention mention last day get #lp austin iphone app free link #travel #sxsw quot',\n",
       " 'mention ceo gowalla tells journey blinksale iconbuffet packrat #iphone born lightbulb turned #sxsw',\n",
       " 'mention via mention #sxsw ipad store sold everything except 64gig wifi white',\n",
       " 'cnnmoney #sxsw 2011 computing device bigger ipad pass mobile space buzz link #wssxsw',\n",
       " 'rt mention look everyone zomg mention got ipad 2 first day #sxsw link',\n",
       " 'mention link get #sxsw app yet android version schedule',\n",
       " 'mention mention mention #sxsw tried new ipad app beautiful ps thanks tvontheradio tix yall rock',\n",
       " 'mention mention studies players tell us quot petting iphone makes happy quot #tapworthy #sxsw',\n",
       " 'mention mention link #sxsw thanks signing ipad',\n",
       " 'mention mention mention mention paper phones means ipad likely useless #sxsw well #fail',\n",
       " 'mention mention mention quot mention google launch major new social network circles possibly today link #sxsw quot',\n",
       " 'mention #sxsw buzz makes wish android phone #beforetwitter envy',\n",
       " 'mention mention apple sets temporary store #sxsw ipad anyone link cc mention',\n",
       " 'love mention #sxsw quot apple comes cool technology no one ever heard go conferences quot',\n",
       " 'love mention #sxsw quot apple comes cool technology no one ever heard go link',\n",
       " 'agree mention great quot iphone apps mealtime quot link via mention #bizzy #sxsw',\n",
       " 'yeah rt mention details ipad 2 giveaway coming tonight rt #sxsw #sxswi',\n",
       " 'woot rt mention first android mention disc link market version coming soon #sxsw',\n",
       " 'yay rt mention flipboard next platform iphone ceo mention says #sxsw',\n",
       " 'score rt mention google handing free pi pi day #sxsw #win',\n",
       " 'whoa rt mention google launch major new social network called circles possibly today link #sxsw',\n",
       " 'cool rt mention heard apple pop store downtown austin pics already gowalla link #sxsw #ipad2',\n",
       " 'nice rt mention hey apple fans get peek space slated pop #sxsw apple store tomorrow link',\n",
       " 'haha rt mention waited line apple product missing important rite passage #sxsw',\n",
       " 'woo hoo mention finally back iphone link #sxsw #il',\n",
       " 'mention mention lots ipad 2 austin bigger thought would #sxsw',\n",
       " 'mention mention nc buzzing #ipad2 geekdom austin #sxsw elevate smart # apple',\n",
       " 'got mention new iphone app dialy grape link #sxsw #thankyou',\n",
       " 'yeay rt mention new #ubersocial #iphone app store includes uberguide #sxsw sponsored #masha link',\n",
       " 'mention mention similarily tweetcaster android lets zip tweets w annoying hash tags like #sxsw',\n",
       " 'want mention bad #sxsw would make live blogging ipad much efficient beautiful case beats leather 1',\n",
       " 'woohoo mention standing line 6th time #ipad2 #apple #sxsw #popupstore',\n",
       " 'woot rt mention mention spilled beans next platform flipboard iphone team started working #sxflip #sxsw',\n",
       " 'mention mention thanks love show us iphone via twitpic share love #zazzlesxsw #sxsw',\n",
       " 'mention mention wishing excellent day #sxsw today got ipad envy',\n",
       " '#justmet mention worked apple 25 years #sxsw',\n",
       " '#sxsw rt mention wow apple right thing japan must read link',\n",
       " 'mention mention probably know #apple opening pop store austin #sxsw et #ipad2',\n",
       " 'funny rt mention yes line front confirmed pop apple store #sxsw link',\n",
       " 'nice rt mention yes gowalla wins best andoid app team android choice awards thanks #sxsw',\n",
       " 'customer service quot apple opens temporary store near #sxsw quot link',\n",
       " 'applauds link holler gram fun ipad app #sxsw fun anyone play',\n",
       " 'dealing w mention white freeze screen far much #sxsw everyone iphone making conversion possibility #efficient',\n",
       " 'ideally quot google logos bring people together socially quot mention creative lead google doodle team #gsdm #googledoodle #sxsw',\n",
       " 'mention quot worked google 11 years seen lot evil quot #qagb #sxsw',\n",
       " 'mention quot omg gonna miss 2 panels #sxsw standing line 1 panel playing new ipad worth #ponies quot',\n",
       " 'ipad quot arm giant meat pointer quot hilarious mention #sxsw',\n",
       " '#sxsw tip#2 use smartphone google maps app land austin find next 1 bus downtown link',\n",
       " '#airline mentioned guy kawasaki delightful like apple drumroll mention congrats #sxsw',\n",
       " 'must see #android app #sxsw quot bizzy quot link',\n",
       " 'mention #bt #sxsw quot really great social search probably good idea #google quot mention',\n",
       " 'mention #discovr available #iphone killing #sxsw get link',\n",
       " 'mention #hollergram app killing #sxsw link',\n",
       " '#pubcamp #kirkus #sxsw download qrank ipad iphone come pubcamp sxsw 2011 prizes',\n",
       " '#pubcamp #kirkus #sxsw download qrank ipad iphone come pubcamp sxsw 2011 prizes',\n",
       " 'oh yeah #saysshewithoutanipad rt mention flipboard next platform iphone ceo mention says #sxsw via mention',\n",
       " '#sxsw #smileyparty really want win sn ipad',\n",
       " 'mention #sxsw free tunage itunes link',\n",
       " 'heard #sxsw #android leading market share smart phones us #getjarsxsw',\n",
       " 'mention #sxsw #google tv thanks google tv watch guy live living _ link',\n",
       " 'mention #sxsw #ipad fans get really excited unique design klick #sleeves models straps',\n",
       " '#sxsw app google maps pretty sure schwag bag waste paper',\n",
       " 'mention #sxsw blogger orange wodpress blue google owns market #winning',\n",
       " 'first #sxsw blog post mention grand opening apple popup store link',\n",
       " '#sxsw check holler gram ipad app mention link lt tis covered awesome sauce',\n",
       " 'mention #sxsw forget mention plan schedule plus free iphone app link',\n",
       " '#sxsw gadget lust rubbing think want ipad 2 must escape soon',\n",
       " 'mention #sxsw ipad rocks',\n",
       " 'mention #sxsw going alot better u ipad 5 carry around',\n",
       " '#sxswnui #sxsw laptop denotes work #ipad denotes fun',\n",
       " 'google #sxsw party theme quot party like 1986 quot mention maggie mae pic link',\n",
       " 'enjoying #sxsw radio station link iphone use link link amp plug sound system',\n",
       " '#sxsw rt mention hanging mention mention #google industry party good crowd #sxsw',\n",
       " 'first #sxsw survival kit iphone not shot using take picture link might ready',\n",
       " '#sxsw 64gb ipad 2 3g paypal right',\n",
       " 'fear not #sxsw ers rt mention confirmed apple store 2 week popup austin #sxsw link',\n",
       " 'quot #sxsw apple schools marketing experts quot link',\n",
       " '#tech #sxsw apple schools marketing experts link',\n",
       " 'bored #sxsw try iphone app link',\n",
       " 'going #sxsw come #emc consulting booth chance win ipad 2 mention mention',\n",
       " 'going #sxsw new iphone guide #austin mention free march 9 15 hard beat free #lp',\n",
       " '#sxsw #tapworthy ipad design headaches avoiding pitfalls new design challenges',\n",
       " 'evernote + iphone awesome #sxsw notes photos #taccsxsw',\n",
       " 'disaster iphone died middle #sxsw function heading apple store',\n",
       " 'quadroid qualcomm + android called platform next decade vs wintel #sxsw #cloud',\n",
       " 'pay 900 new ipad 2 white 32 gb 3g next 20 hours link #willpay #sxsw #zaarly',\n",
       " 'google 40 map usage mobile seeing demo new version mobile maps nice #sxsw',\n",
       " 'ipad 1 march 11 2011 4 59pm pst #sxsw',\n",
       " '#sxsw 2011 trends google twitter next angry birds',\n",
       " '#sxsw 2011 novelty #ipad news apps fades fast among digital delegates link via mention',\n",
       " '#sxsw 2011 novelty ipad news apps fades fast among digital delegates link',\n",
       " '#sxsw 2011 #google #bing smackdown bloody banality link',\n",
       " 'not even 10am austin iphone batt 54 shit #sxsw #notevenstartedyet',\n",
       " 'ipad 2 goes sale next friday austin apple store going busy #sxsw',\n",
       " 'ipad 2 better product time make worthwhile improvements mention diller #sxsw',\n",
       " 'ipad 2 launch buzz #sxsw 2011 link via mention mention #apple #tablet #marketing #advertising #ipod',\n",
       " 'ipad 2 launch really south austin inde #sxsw #mac #ipad mention',\n",
       " 'ipad 2 takes #sxsw #video link #channels #gadgets #news #uncategorized',\n",
       " 'ipad 2 takes #sxsw #video one biggest events first day sxsw 2011 _ link',\n",
       " 'ipad 2 takes #sxsw video link',\n",
       " 'ipad 2 takes #sxsw video link via mention mention',\n",
       " 'ipad 2 takes #sxsw video link',\n",
       " 'ipad 2 takes #sxsw video link via mashable',\n",
       " 'ipad 2 takes sxsw video link #apple #ipad #sxsw',\n",
       " 'ipad 2 takes sxsw video link #ipad2 #sxsw',\n",
       " '2nd congress #sxsw #rewardswagon mention bookbook ipad cases get fast',\n",
       " '#wjchat q7a going iphone ipad bought zagg keyboard high hopes plan work #sxsw',\n",
       " 'link via mention pretty neat database must say work #android shall see #sxsw #party #free',\n",
       " 'mention #sxsw mystery prize hope ipad 2 thanks great panel gift #discotalk',\n",
       " '15k quot high quality pdf quot ipad app good investment small mags says chris tomlinson formerly texas obs ap #sxsw',\n",
       " 'setup #sxsw demo restaurant page sign download iphone app check link amp say hi mention #sxswi',\n",
       " 'got back door invite google party goona network ass #sxsw',\n",
       " 'great idea behind #circles rt mention amp mention google launching secret new social network called circles link #sxsw',\n",
       " 'got free iphone charger someone came gave one randomly love #sxsw',\n",
       " 'got free iphone charger alex #powermatteam wow makes life #sxsw much easier thanks link',\n",
       " 'enjoying google ice cream sandwich gsd amp party edible wrapper #welivehere #gsdm #sxsw link',\n",
       " 'great festival #app #sxsw featured app store works google maps plan schedule #free',\n",
       " 'watching guy simultaneously use laptop ipad force strong one mmm #sxsw',\n",
       " 'beluga iphone app highlight #sxsw excellent way coordinate #sxsw4japan relief effort',\n",
       " 'apple selfish brand microsoft served brand well #sxsw',\n",
       " 'saw preview new mention ipad app awesome #sxsw',\n",
       " 'watching promo google earth engine techies save world harnessing collective power good #sxsw',\n",
       " 'really bad person could stolen guys ipad saying #sxsw',\n",
       " 'really great #mophie experience #sxsw user 3 months highly recommend iphone 4 battery #goodcustomerservice',\n",
       " 'not rumor #apple opening pop store downtown austin #sxsw amp ipad 2 launch via mention link',\n",
       " 'not rumor apple opening temporary store downtown austin #sxsw ipad 2 launch link',\n",
       " 'got shiny new #ipad2 #sxsw discover new music link built html5 not flash looks great ipad',\n",
       " 'tech bro posed homeless person outside apple pop sign asking ipad #sxsw',\n",
       " '#sxsw beta testing interactive book ipad app moonbot studios louisiana cool app',\n",
       " 'q amp google bing website rankings fun #sxsw',\n",
       " '3 5 available android gt gt 5 absolute must apps rock #sxsw interactive mention link via mention',\n",
       " 'free portable iphone charger mention use heck #sxsw link',\n",
       " 'saw #hashable pushed update iphone app looks ready use paperless biz card solution #sxsw',\n",
       " 'probably best keep away apple pop stores temptation get white 3g ipad #sxsw insanely tempting',\n",
       " 'learning latest food related apps half people rm make apps #sxsw #gsdm check lovefresh coming soon iphone',\n",
       " 'not pretty content nat geo pretty article ipad cooler twitter list current arctic explorers #flipboard #sxsw',\n",
       " 'fucking mac users link #sxsw cwebb ipad grant hill',\n",
       " 'yikes reached new level apple fanboyism last night literally fell asleep macbook pro ipad 2 amp iphone 4 top #sxsw',\n",
       " 'touch trackpads first iphone ipad positives natural sit mobile relaxed #sxsw #sxswnui',\n",
       " 'ipad 2 wohooo tnx apple popup shop #sxsw',\n",
       " 'got ipad 2 gave red cross japan first day #sxsw',\n",
       " 'win ipad 2 sxsw via mention #sxsw link',\n",
       " 'ipad 2 hands exquisite #sxsw',\n",
       " 'win ipad 2 via mention video clipcon see intro reel link #sxsw #suasxsw #sxswaccel #entrepreneur #smallbiz #ceokidschat',\n",
       " 'writer ipad app link saved ass flight amp bigger #sxsw panel good job mention mention link',\n",
       " 'dawn ipad app week early help prep #sxsw link',\n",
       " 'win ipad sxsw via mention #sxsw link',\n",
       " '#sxsw ipad design headaches take two tablet call morning link',\n",
       " 'already first google circle search result link cc mention mention #sxsw',\n",
       " 'ipad available austin #sxsw major #geekdilemma',\n",
       " '#sxsw ipad2 coming buy rt mention apple open store near sxsw ipad 2 release link',\n",
       " 'buying ipad2 turn ur ipad1 apple store wipes clean donates schools mrs jobs idea #apple #ipad2 #sxsw',\n",
       " 'monday adfonic daily read #iphone white release #google social #sxsw things #mobile link',\n",
       " 'lol u r gadgetzilla fun mention #sxsw festival time omg scared got netbook #ipad amp droid',\n",
       " 'packing bag #sxsw not taking dell laptop sorry richard mercy bb torch iphone webmail suppose cheers',\n",
       " 'best schwag seen #sxsw mention battery charger iphone get one',\n",
       " 'waiting eagerly google launch secret new social network called circles today #sxsw gt gt new updates',\n",
       " '2+ hour wait makeshift apple store ipad 2 #fail #sxsw',\n",
       " 'want make #sxsw film fun download #filmaster app link check screenings amp get private recommendations',\n",
       " 'make sense limit content specific platform ipad web mention interview w mention #sxsw',\n",
       " 'big takeaway #sxsw interactive need iphone',\n",
       " 'guy kawasaki quot believe god no explanation continuous survival apple years quot lol #sxsw',\n",
       " 'apple taking old ipads teach america user gets tax write buy new ipad kinda cool #sxsw',\n",
       " '9 essential apps #sxsw beyond underwire wired com link #socialmedia #iphone #android',\n",
       " 'informal unscientific observation #apple far computer choice #sxsw hands no contest',\n",
       " 'mention alive loving great talks jonathan dahl #minimalistprogramming google marissa mayer #marissagoogle #sxsw',\n",
       " 'realized havnt used laptop since thursday pure #iphone sprinkle #ipad2 top #apple #sxsw',\n",
       " 'groupme talks apple app store approval woes would big group people would agree #whowillrise #sxsw',\n",
       " 'not apple love #sxsw heard quite bit grumbling holding back features ipad 1 people would buy v2',\n",
       " '#android meetups #austin work well least ps meetup #sxsw',\n",
       " '#virtualwallet #sxsw no nfc #iphone5 bc standardization #android #confusion',\n",
       " 'dl #calyp app today avail itunes app store amp android market #calyp look us #sxsw',\n",
       " 'google analytics track offsite links virtual page views using javascript #moreknowledge #sxsw #mitharvard',\n",
       " 'google analytics rocks #view512 #sxsw',\n",
       " 'holler gram ipad itunes app store link via mention #sxsw sters great app #madebymany free',\n",
       " 'umshini wam night fishing weird shit mention said work well together liked esp iphone footage #sxsw',\n",
       " 'watching 8 year old report #sxsw via iphone shows technology going anywhere robots revolt',\n",
       " 'awesome ipad mention #sxswbuffalo lounge #sxsw experience complete',\n",
       " '#sxsw vegan guide google map austin tx link based lazy smurf info link',\n",
       " 'ipad 2 rear facing camera get link #sxsw',\n",
       " 'use ipad 2 someone gives otherwise iphone actually task #sxsw',\n",
       " 'ipad 2 #sxsw thanks mention #fxsw',\n",
       " 'got ipad courtesy random stranger street apple investor #sxsw thank utter link',\n",
       " 'mention ipad cheaper laptops #newsapps #sxsw',\n",
       " 'iphone app people use #sxsw scheduling mention awesome app #flummoxed',\n",
       " 'mention mention shooting videos #sxsw ps pic ipad 2 link',\n",
       " 'check offers google cool link #sxsw',\n",
       " 'mention android got big call #sxsw #gamelayer opening keynote knew appreciate',\n",
       " 'mention android needs way group apps like ipad ipod #sxsw #hhrs',\n",
       " 'awesome hands review ipad 2 coming tomorrow mention guest post mention #sxsw',\n",
       " '#lonelyplanet #austin iphone app free godsend gps aware map city without need 3g wifi #sxsw',\n",
       " 'lonely planet releases free austin city guide iphone app #sxsw like enough apps cluttering handset',\n",
       " 'lonely planet new iphone austin city guide free march 9 15 going #sxsw link #travel',\n",
       " 'spontaniety life replaced technology iphone battery dies go home great #busy #sxsw',\n",
       " 'day bank america launched iphone app got 250k new customers #bankinnovation #sxsw',\n",
       " 'mention another google social failure #sxsw',\n",
       " 'mom want ipad 2 back link #thingsthatdontgotogether #sxsw lisa rinna',\n",
       " 'want lose love #google #sxsw',\n",
       " 'brilliant rosso used google doc paste recipe make mothers think generated recipe #leanstartup #sxsw',\n",
       " 'company company best supply chain walmart apple #behance #sxsw',\n",
       " 'way deleting app stop loading iphone draining power no x cancel help #sxsw',\n",
       " 'great recap seemingly great #sxsw session rt mention relive wonder google v bing panel link',\n",
       " 'great recap google bing q session website ranking #sxsw #qagb link via mention cc mention',\n",
       " 'ipad 2 graphics much faster ipad 1 motorola xoom link mention #tech #sxsw',\n",
       " '#sxsw #evaporation mention mention business model platform iphone app makes tools available developers',\n",
       " 'hope #apple approves irelay social network mobile photo sharing app #sxsw easier share people download',\n",
       " 'major #apple ios update day #sxsw genius project manager came brilliant idea #nowhammies',\n",
       " 'mention apple great turning new old #sxsw',\n",
       " 'sweet apple listened us temp apple store near #sxsw ipad2 launch link',\n",
       " 'mention apple pop store #sxsw 5 blocks long #betterthingstodo',\n",
       " 'apple pop store still ipads #sxsw #sxswi',\n",
       " 'love apple pop store #sxsw freaking smart one question amp bring trucks signal please say yes',\n",
       " 'sxsw apple schools marketing experts cnet link #sxsw',\n",
       " 'sxsw apple schools marketing experts link #sxsw',\n",
       " 'sxsw apple schools marketing experts link via mention #sxsw #apple',\n",
       " 'sxsw apple schools marketing experts link #apple #jobsco #sxsw',\n",
       " 'sxsw apple schools marketing experts link via mention #sxsw #apple #marketing',\n",
       " 'clever apple set open popup shop core #sxsw action link',\n",
       " 'temp apple store great move really need help brand recognition seriousness pretty cool #sxsw',\n",
       " 'come #apple cant spell checking without auto correct must nothing #grrr #sxsw',\n",
       " 'mention apple making temp store #sxsw 2011 u get ipad 2 link',\n",
       " 'not fear #sxsw attendees pick ipad 2s apple austin pop shop link via mention',\n",
       " 'search sxsw via twitter not work check google real time search least get results #sxsw',\n",
       " 'tried square credit card reader iphone android amazingly simple #sxsw impressed link',\n",
       " 'mention arg load iphone not via app store site trying #sxsw feelin touch',\n",
       " 'charge #iphone every 6hours #sxsw running lowest possible screen brightness apple fix basics',\n",
       " 'iphone charging party hallway ux ia professionals unite #sxsw',\n",
       " 'rachael harris saw driving nuts thank google #sxsw',\n",
       " 'go bars get free drinks iphone #doesdroid #sxsw',\n",
       " 'smart idea rt mention w00t mention wrote #hollergram ipad app #sxsw link',\n",
       " 'google art project puts famous artworks 7 billion pixels allowing zoom amp get entirely different view art #sxsw',\n",
       " 'google art project would great virtual field trip kids museums around world #edtech #sxsw',\n",
       " 'good cnn article #sxsw important social web innovators link bringing griddler ipad app',\n",
       " 'android party #sxsw mention lustre pearl bar w 36 others link',\n",
       " 'apple case study great #mktg #sxsw showed everyone buzz quot pop store quot link',\n",
       " 'got flask amp ipad yes sitting 9th st waiting aicn screening #sxsw #prepared # iloveasurprise link',\n",
       " 'guy asked google mayer take year remove deadly routes google maps death valley #sxsw',\n",
       " 'mention #cnngrill #sxsw rockin #iphone cooler link',\n",
       " 'nyt wsj #sxsw ask future branded native news apps ipad link no not',\n",
       " 'mention #sxsw 9 10 attendees mac ipad',\n",
       " 'mention #sxsw quot apple comes cool technology no one ever heard go conferences quot via mention',\n",
       " 'mention #sxsw quot apple comes cool technology no one ever heard go conferences quot via mention',\n",
       " 'mention #sxsw quot apple comes cool technology no one ever heard go conferences quot',\n",
       " 'mention #sxsw google connect digital amp physical worlds mobile link link',\n",
       " 'mention #sxsw first send us pic mention get free download game #android #videogame #smartphone',\n",
       " 'shat tear rt mention good news austin bound apple fanboys link #sxsw #ipad2',\n",
       " 'hear apple opening pop store downtown scarborough building sxsw ipad2 cool #sxsw #newapplestoreaustin',\n",
       " 'love apple smart enough popup #sxsw store story + map link tip mention',\n",
       " '80s band google aclu 1986 party rocks #sxsw link',\n",
       " 'hoping easier get ipad 2 today since 50 target audience busy #sxsw #awesometiming',\n",
       " 'oh excuse rt mention rt mention #sxsw quot apple comes cool technology go conferences quot',\n",
       " 'wonder percentage #sxsw interactive participants iphone gotta high',\n",
       " 'mention team android party mention mention walked dl appolicious app amp enter win free nexus #androidsxsw #sxsw',\n",
       " 'geek #sxsw interactive panels ipad holler gram app use ipad display messages others link',\n",
       " 'line apple store goes around block oh right ipad 2 also #sxsw',\n",
       " 'line popup apple store phenomenal #sxsw #apple #ipad2 link',\n",
       " 'venturebeat rt mention second day business apple pop store appears trending #sxsw #vb mention link',\n",
       " 'bout watch mention live #sxsw apple store ipad 2 w mention mention living vicariously buy one',\n",
       " 'another late start #sxsw #sxswi damn google rocking 80 party',\n",
       " 'spasmatics rockin aclu google party #sxsw',\n",
       " 'great location choice nice timing ipad2 launch #apple #hp popping #sxsw link',\n",
       " 'congratulation rt mention yes gowalla wins best andoid app team android choice awards thanks #sxsw',\n",
       " '#iphone battery last long #sxsw usage',\n",
       " 'launched spin ipad app #sxsw tons #music #photos #videos whatcha think link',\n",
       " 'austinjs autocorrects sisyphus iphone sayin #sxsw',\n",
       " 'television still two screen expierence iphone ipad #psych #sxsw',\n",
       " 'ppl spoken quot great #sxsw session w bing google danny sullivan bring back next year larger room quot #qagb #sxswi',\n",
       " 'anyone leaving #sxsw iphone ipad time kill airports flights download tiny wings welcome sorry',\n",
       " '#google saving drivers time fuel link #seo #sem #googlemaps #mobile #topnews #sxsw',\n",
       " 'matthew davis designing ipad quot web like strip mall content quot #sxsw',\n",
       " 'ipad giveaway using mention #sxsw link',\n",
       " 'win awesome ipad quibids custom mention case catch #sxsw wearing openbeta vip badge',\n",
       " 'mention awesome traded #sxsw last year ipad 1',\n",
       " 'rt haha awesomely rad ipad app mention link #hollergram #sxsw via mention',\n",
       " 'rt haha awesomely rad ipad app mention link #hollergram #sxsw via mention mention',\n",
       " 'piece awesomeness arduino + android flaming skulls link mention mention #sxsw #smartthings',\n",
       " 'dude may actually buy ipad 2 tomorrow apple temporary store downtown austin #sxsw link',\n",
       " 'giving away ipad 2 panel wish luck #sxsw',\n",
       " 'giving away ipad sharers invite friends join aos #sxsw mention ginger man link',\n",
       " 'giving away apple gift cards exchange 4 serious style find us 6th conv cntr u look hot rest #sxsw fashion',\n",
       " 'say pretty smart timing #apple drop #ipad2 right top #sxsw nearly anyones talking',\n",
       " 'marissa mayer #sxsw google quot making smart phones smarter quot amp life efficient knowing sched gt suggest flights maps weather amp',\n",
       " 'marissa mayer mention quot mobile cursor quot #sxsw demo next gen google maps really impressive btw',\n",
       " 'marissa mayer google speaking #sxsw mobile phone usage google maps surpassed online use past couple months',\n",
       " 'marissa mayer talks future google maps discusses hotpot answer location based ratings recommendations #sxsw kek',\n",
       " 'marissa mayer vp consumer products google great job #sxsw audience tons respect google w location',\n",
       " 'marissa mayer quot focus location based services quot demoed hotpot google maps vector maps augmented reality #sxsw #webvisions',\n",
       " 'marissa mayer #google wil connect digital amp physical worlds mobile link #sxsw',\n",
       " 'marissa mayer google maps better customer service quicker responses #sxsw #fh',\n",
       " 'marissa mayer google connect digital amp physical worlds mobile link #google #sxsw #mobile #hotpot',\n",
       " 'marissa mayer location contextual discovery enable mobile devices make us efficient e g google places w hotpot #sxsw',\n",
       " 'nothing says douche cake like walking around ipad like iphone #sxsw',\n",
       " 'google plays social network circles #sxsw link fb needs rival even keep toes',\n",
       " 'crowley says no hard feelings towards google dodgeball experience says would good partner #sxsw #checkins',\n",
       " 'really amazing see many people putting apple notes app ipad #sxsw',\n",
       " 'really amazing see many people putting apple notes app ipad #sxsw link',\n",
       " 'google web fonts pretty #sxsw #tradeshow link',\n",
       " 'chrome web store google calls html5 hot tub #sxsw #steamy #hot #nerds',\n",
       " 'apple grabbed tablet mindshare #sxsw rim owns one popular events #foodspotting #mnbuzz link',\n",
       " 'mention best thing heard #sxsw quot gave ipad 2 money #japan relief need ipad 2 mention mention #sxswgood',\n",
       " 'rt globalbestaward holler gram ipad itunes store link via mention #sxsw sters great app #madebymany',\n",
       " 'next big thing hmmm rt mention google launch major new social network called circles possibly today link #sxsw',\n",
       " 'quotable gt rt mention quot apple elegant fascist company america quot #flip board #sxsw',\n",
       " 'mention blogging ipad notes next step hope great time #sxsw',\n",
       " 'somebody write app lets consistently type quot shit quot goddamn iphone hey #sxsw jump',\n",
       " 'excited #sxsw tomorrow leaving austin 8am see google mention 3 30pm still working schedule',\n",
       " 'talking ipad usefulness developers not nerds #sxsw',\n",
       " '#redbull bpm dj ipad app powering party #sxsw #dtas mention republic live link',\n",
       " 'come celebrate w charity water tonight google throwin party jump start #sxsw week right studentsforcleanwater org rsvp',\n",
       " 'google labs fusion tables made election day foursquare visualization possible #sxsw pr',\n",
       " 'late finally #gsdm #google #sxsw great surprise b greeted lovely lindsay stillman gonna b good night',\n",
       " 'everyone buy mention app new ipad day birth happy happy #sxsw #gsdm',\n",
       " 'buy ipad mention makeshift #sxsw apple store launch day fuck no respect much #wwsxsw',\n",
       " 'walk lady bird lake lovely google maps travel times not trusted #sxsw',\n",
       " 'ironic tee usurped ipad 2 hipster geek start chic fashion item year #sxsw',\n",
       " '#sxsw #macallan formula successful day sxsw good sessions ipad glass macallan single malt link',\n",
       " 'mention not wait #ipad 2 also sale #sxsw',\n",
       " '#sxsw #enchantment mention quot bright spot apple pagemaker saved apple believe god b c no explanation apple survival',\n",
       " '#sxsw #enchantment mention quot no one uses windows voluntarily quot quot apple greatest collection egomaniacs history quot haha',\n",
       " '#sxsw #enchantment mention quot sell dream steve jobs say iphone 188 parts+at amp made ppl suicidal chinese',\n",
       " 'mention check rt mention #sxsw free app festival explorer find bands want see music tastes link',\n",
       " 'mention check mention awesome dj skills ipad u #sxsw',\n",
       " 'mention check 2011 south southwest interactive iphone ipad must apps sites tools mention link #sxsw',\n",
       " 'mention check #eventseekr app launching #sxsw keep updated parties android link iphone app way',\n",
       " 'mention check smyle #android web group chat shared location media whiteboarding thanks #sxsw #app',\n",
       " 'check quot mistakes made building netflix iphone quot going cool always learn mistakes #sxsw',\n",
       " 'mention check latest stream apple store #sxsw link ipad2 come #playsxsw',\n",
       " 'mention check latest stream apple store #sxsw link ipad2 wait #playsxsw',\n",
       " 'launched pop apple store #sxsw quot vintage quot store format mostly ipods snarky employees ah good old days',\n",
       " '#saveustechies panel #sxsw getting great start video surui carbon project google link',\n",
       " 'stupid technology always fail important times #sxsw w iphone laptop blackberry thing working pen',\n",
       " 'official people using ipad 2 take photos look weird #sxsw',\n",
       " 'official presenting #filmaster #iphone contest world best mobile apps #sxsw link',\n",
       " 'official buying ipad #sxsw #elevate',\n",
       " 'pretty excited apple pop store coming #sxsw link',\n",
       " 'pretty excited mention ipad session #uxdes #sxsw',\n",
       " 'pretty excited iphone stop working #sxsw #at amp',\n",
       " 'excited see hls dynamic video ad insertion tv everywhere working #ipad2 later today #sxsw popup apple store',\n",
       " '#ipad2 rocks #sxsw mention apple pop store link',\n",
       " 'first computer kid atari 800 kids first computer ipad able #sxsw',\n",
       " 'crowdbeacon put together guide #sxsw link latest update iphone app going sick',\n",
       " 'second day business apple pop store appears trending #sxsw #vb mention apple store sxsw pic link',\n",
       " '#sxsw conf everyone mac ipad including happened pc becoming obsolete',\n",
       " 'mention congrats first ipad 2 #sxsw',\n",
       " 'mention congrats iphone app featured #sxsw',\n",
       " 'mention congratulations winning android award #sxsw',\n",
       " 'mention congratulations sent seesmic android phone #sxsw',\n",
       " 'trying 2 convince mention 2 watch launch google social network #sxsw know going comedy',\n",
       " 'mention cool means watch ustream skyfire browser iphone safari work fun #sxsw',\n",
       " 'could cool rt mention google launch major new social network called circles possibly today link #sxsw',\n",
       " 'eating coolhaus ice cream sandwich google party hmmm happy #sxsw',\n",
       " 'really could use one tiny macbook airs read apple set temporary store sxsw #sxsw',\n",
       " 'google recreated code pac man doodle original bugs included #sxsw #googledoodles',\n",
       " 'mention crew ripped android party thanks us droid link #sxsw',\n",
       " 'data crunch #sxsw crippling google voice back regular texting go',\n",
       " 'new product idea pants built iphone charging dock built pocket #sxsw',\n",
       " 'true expect insidious approaches like apple subscriptions rt mention link disgraceful #libraries #sxsw',\n",
       " '#bjdproductions even begins #apple wins #sxsw link #tech',\n",
       " 'link security guard enjoying ipad2 apple store austin #sxsw',\n",
       " 'unimitated fingerprint security scan link #itunes #ipad2 #1990style #sxsw',\n",
       " '#tech ipad 2 gets temporary #apple_store #sxsw link',\n",
       " 'also ipad 2 ordered stand line wasting valuable fellowship time #sxsw',\n",
       " 'discovered new conversation icebreaker quot hey new ipad 2 yes quot #sxsw #social',\n",
       " 'composed tweet acerbic cynical ipad users phone crashed dumped apps #twitterpower #sxsw #imthatgood',\n",
       " 'wish ipad right lasts longer phone not awkward laptop #sxsw',\n",
       " 'could dangerous rt mention sweet apple listened us temp apple store near #sxsw ipad2 launch link',\n",
       " 'google bing meet #sxsw lovers tiff last month seems disappointingly friendly link',\n",
       " 'google bing page rank panel ridiculously crowded al franken justin timberlake #sxsw link',\n",
       " 'major ipad design flaw sxsw go ipad app stay open switch apps #ipaddesignheadaches #sxsw',\n",
       " 'headed #sxsw hear talk integrated social network dynamics team synergy got ipad ready go',\n",
       " 'bored keynote #sxsw use ipad draw picture even not good artist link #sxswi',\n",
       " 'brand focus rt mention trust zappos + likability virgin + product apple recipe success mention #sxsw',\n",
       " 'brand focuses purpose not object survive amp succeed google not search useful info nike not sneakers performance #sxsw',\n",
       " 'unexpected geekout moment #sxsw far talked guys bringing traveller rpg iphone',\n",
       " 'stood line 30 minutes buy 2 ipads apple pop store #apple #sxsw #ipad #austin #fuckyeah',\n",
       " 'sam licked rt mention got ipad 2 #sxsw link cc mention',\n",
       " 'added #sxsw flights mention matching people planes airports also downloaded mention iphone app nicely done',\n",
       " 'found new mapquest iphone app turn turn gps free time check get reacquainted mq #sxsw',\n",
       " 'probably put away rt mention android party kinda embarrassed iphone #sxsw',\n",
       " 'makes good sense rt mention apple set open popup shop core sxsw action link via mention #sxsw',\n",
       " '#localmind sounds awesome location based q amp could incredibly useful link #iphone #sxsw',\n",
       " 'heard apple opening store downtown austin tomorrow sell ipads #sxsw attendees',\n",
       " 'need charge #sxsw talking sun iphone link boom',\n",
       " 'interested hear different google buzz rt mention get ready word quot circles quot trending #sxswi #sxsw',\n",
       " 'annoyed #sxsw schedule app bad #ui ipad fingers fat',\n",
       " 'link hear apple opening temporary store #sxsw via mention',\n",
       " 'ballroom #marissagoogle talking cool projects obv love google art project #sxsw',\n",
       " 'packed charging ipad busy day weekend ahead also need download #sxsw apps iphone ipad',\n",
       " 'ipad found friend jeff #sxsw thanks everyone helped especially mention',\n",
       " 'packed many #apple devices alarm set 5 15am see ya #sxsw psyched meet finally many guys',\n",
       " '#want ipad2 win link #sxsw',\n",
       " 'download daily grape new app mention iphone take wine shop #sxsw',\n",
       " 'cobra iradar detection system coming android next month link #android #gps #iphone #sxsw',\n",
       " 'exciting day #sxsw day tim ferriss rumors launch google circles later',\n",
       " 'pie day google booth #sxsw #mylunch',\n",
       " 'forbidden apple spoiled long live #samsung rocking #sxsw amp #sxswi world',\n",
       " 'made decision id like purchase ipad would perfect #sxsw',\n",
       " 'decided need ipad #usguys #sxsw',\n",
       " 'model one not rt mention #sxsw quot apple comes cool tech no one ever heard cuz go conferences quot',\n",
       " 'great ui demo mention mention link #xoom #sxsw #android #tech #tablet',\n",
       " 'ipad design panel hilton salon j filling quickly no surprises #tapworthy #sxsw fun ipad2',\n",
       " '#android dev meetup mostly ppl looking devs good skill learn havent already #sxsw #mccannsxsw',\n",
       " 'bit disappointed two ipad talks many overlapping examples #sxsw',\n",
       " 'hope u jinx mention nice mention iphone app behaving today crashes yesterday ridiculous #sxsw',\n",
       " 'thank goodness ran ipad 2s worry giving buying one popup apple store #sxsw',\n",
       " 'fest tip iphone douche put away phone talk fellow festgoers lines etc good people love film #sxsw',\n",
       " 'counting days #sxsw plus strong canadian dollar means stock apple gear',\n",
       " 'drink called alan turing making lego robot oh google #sxsw mention speakeasy link',\n",
       " 'apple driving quot consumerization quot #empowered #sxsw',\n",
       " 'android party kinda embarrassed iphone #sxsw',\n",
       " 'schedule heavier laptop ipad already #sxsw',\n",
       " 'kinda giddy #theindustryparty #google amp #gsdm finally fun comes us non #swsurrogates #sxsw #notpouting',\n",
       " 'google body beta uber #sxsw #health2dev #cool',\n",
       " 'anybody get #sxsw mobile apps work downloaded android iphone blackberry get stuck downloading startup',\n",
       " 'already jealous mention apple popup store #sxsw link #gonnagetanipad2',\n",
       " 'already tell brought ass pillow iphone backup charger #sxsw #numbassonfloor',\n",
       " 'find mention playing #sxsw #eventseekr app android got u link',\n",
       " 'see mention quot left brain search google right brain search x quot panel #sxsw #bettersearch',\n",
       " 'srsly love mention mention promo mention srsly hate excludes mention esp since ipad insists disney #sxsw',\n",
       " 'google aclu party tonight #sxsw best thing ever apparently spazmatics franchised band rock',\n",
       " '#dgtltribe #sxsw #openbeta6 ipad give away fantastic going squeeze',\n",
       " 'loving 80s music aclu google party #sxsw',\n",
       " 'sure total scene rt mention spoke austin apple store cautiously optimistic #nerd #sxsw',\n",
       " 'add google alerts project amazing things happen #sxsw',\n",
       " 'looks like apps #sxsw #iphone #blackberry blackberry link rt mention',\n",
       " 'even use iphone rt mention evidence #sxsw might well call country united states apple #sxswsa',\n",
       " 'google analytics dfp experts #sxsw would love insight managing dfp campaigns ad management measurement dm #hisxsw',\n",
       " 'liking apple pop store sixth street congress avenue mention #sxsw',\n",
       " 'fail whale artist mention living ipad 2 #sxsw link',\n",
       " '#sxsw line buy ipad 2 0 tomorrow #notwinning',\n",
       " 'line #sxsw longer 3 11 temp apple store ipad2 3 14 microsoft booth ie9 yeah right',\n",
       " 'short line apple pop store austin 50 60 people #ipad2 #sxsw link',\n",
       " 'whoa line pop apple store downtown austin ipad midnight madness #sxsw link',\n",
       " 'new iphone autocorrect already tried change quot coworkers quot quot visigoths quot going long five days #sxsw',\n",
       " 'iphone battery not made mention #sxsw',\n",
       " 'one best photo apps iphone hipstamatic getting #apps #sxsw #hipstamatic link']"
      ]
     },
     "execution_count": 244,
     "metadata": {},
     "output_type": "execute_result"
    }
   ],
   "source": [
    "preprocessed_text[0:1000]"
   ]
  },
  {
   "cell_type": "code",
   "execution_count": 245,
   "metadata": {},
   "outputs": [],
   "source": [
    "df[\"clean_text\"] = preprocessed_text"
   ]
  },
  {
   "cell_type": "code",
   "execution_count": 246,
   "metadata": {},
   "outputs": [],
   "source": [
    "df.drop(['tweet_text'], axis=1, inplace=True)\n"
   ]
  },
  {
   "cell_type": "markdown",
   "metadata": {
    "colab_type": "text",
    "id": "s9OI3DO8JhwS"
   },
   "source": [
    "## Question 3"
   ]
  },
  {
   "cell_type": "markdown",
   "metadata": {
    "colab_type": "text",
    "id": "5lAhosXrJhwT"
   },
   "source": [
    "### Preprocess data\n",
    "- in column \"is_there_an_emotion_directed_at_a_brand_or_product\"\n",
    "    - select only those rows where value equal to \"positive emotion\" or \"negative emotion\"\n",
    "- find the value counts of \"positive emotion\" and \"negative emotion\""
   ]
  },
  {
   "cell_type": "code",
   "execution_count": 247,
   "metadata": {
    "colab": {},
    "colab_type": "code",
    "id": "OOS09HazJhwU"
   },
   "outputs": [],
   "source": [
    "df=df[((df['is_there_an_emotion_directed_at_a_brand_or_product'].values=='Positive emotion') | (df['is_there_an_emotion_directed_at_a_brand_or_product'].values=='Negative emotion'))]"
   ]
  },
  {
   "cell_type": "code",
   "execution_count": 248,
   "metadata": {
    "colab": {},
    "colab_type": "code",
    "id": "1toXu0GhJhwY"
   },
   "outputs": [
    {
     "data": {
      "text/plain": [
       "(3191, 3)"
      ]
     },
     "execution_count": 248,
     "metadata": {},
     "output_type": "execute_result"
    }
   ],
   "source": [
    "df.shape"
   ]
  },
  {
   "cell_type": "code",
   "execution_count": null,
   "metadata": {},
   "outputs": [],
   "source": []
  },
  {
   "cell_type": "code",
   "execution_count": 249,
   "metadata": {},
   "outputs": [
    {
     "data": {
      "text/plain": [
       "Positive emotion    2672\n",
       "Negative emotion     519\n",
       "Name: is_there_an_emotion_directed_at_a_brand_or_product, dtype: int64"
      ]
     },
     "execution_count": 249,
     "metadata": {},
     "output_type": "execute_result"
    }
   ],
   "source": [
    "df['is_there_an_emotion_directed_at_a_brand_or_product'].value_counts()"
   ]
  },
  {
   "cell_type": "markdown",
   "metadata": {
    "colab_type": "text",
    "id": "RNTxNyRKJhwg"
   },
   "source": [
    "## Question 4"
   ]
  },
  {
   "cell_type": "markdown",
   "metadata": {
    "colab_type": "text",
    "id": "WbuBEtRfJhwh"
   },
   "source": [
    "### Encode labels\n",
    "- in column \"is_there_an_emotion_directed_at_a_brand_or_product\"\n",
    "    - change \"positive emotion\" to 1\n",
    "    - change \"negative emotion\" to 0\n",
    "- use map function to replace values"
   ]
  },
  {
   "cell_type": "code",
   "execution_count": 250,
   "metadata": {
    "colab": {},
    "colab_type": "code",
    "id": "YftKwFv7H0N9"
   },
   "outputs": [],
   "source": [
    "df['is_there_an_emotion_directed_at_a_brand_or_product'] = df['is_there_an_emotion_directed_at_a_brand_or_product'].map({'Positive emotion': 1, 'Negative emotion': 0})"
   ]
  },
  {
   "cell_type": "code",
   "execution_count": 251,
   "metadata": {},
   "outputs": [],
   "source": [
    "df['is_there_an_emotion_directed_at_a_brand_or_product']=df['is_there_an_emotion_directed_at_a_brand_or_product'].astype(int)"
   ]
  },
  {
   "cell_type": "code",
   "execution_count": 252,
   "metadata": {},
   "outputs": [
    {
     "data": {
      "text/html": [
       "<div>\n",
       "<style scoped>\n",
       "    .dataframe tbody tr th:only-of-type {\n",
       "        vertical-align: middle;\n",
       "    }\n",
       "\n",
       "    .dataframe tbody tr th {\n",
       "        vertical-align: top;\n",
       "    }\n",
       "\n",
       "    .dataframe thead th {\n",
       "        text-align: right;\n",
       "    }\n",
       "</style>\n",
       "<table border=\"1\" class=\"dataframe\">\n",
       "  <thead>\n",
       "    <tr style=\"text-align: right;\">\n",
       "      <th></th>\n",
       "      <th>emotion_in_tweet_is_directed_at</th>\n",
       "      <th>is_there_an_emotion_directed_at_a_brand_or_product</th>\n",
       "      <th>clean_text</th>\n",
       "    </tr>\n",
       "  </thead>\n",
       "  <tbody>\n",
       "    <tr>\n",
       "      <th>0</th>\n",
       "      <td>iPhone</td>\n",
       "      <td>0</td>\n",
       "      <td>wesley83 3g iphone 3 hrs tweeting #rise_austin...</td>\n",
       "    </tr>\n",
       "    <tr>\n",
       "      <th>1</th>\n",
       "      <td>iPad or iPhone App</td>\n",
       "      <td>1</td>\n",
       "      <td>jessedee know fludapp awesome ipad iphone app ...</td>\n",
       "    </tr>\n",
       "    <tr>\n",
       "      <th>2</th>\n",
       "      <td>iPad</td>\n",
       "      <td>1</td>\n",
       "      <td>swonderlin not wait #ipad 2 also sale #sxsw</td>\n",
       "    </tr>\n",
       "    <tr>\n",
       "      <th>3</th>\n",
       "      <td>iPad or iPhone App</td>\n",
       "      <td>0</td>\n",
       "      <td>sxsw hope year festival crashy year iphone app...</td>\n",
       "    </tr>\n",
       "    <tr>\n",
       "      <th>4</th>\n",
       "      <td>Google</td>\n",
       "      <td>1</td>\n",
       "      <td>sxtxstate great stuff fri #sxsw marissa mayer ...</td>\n",
       "    </tr>\n",
       "  </tbody>\n",
       "</table>\n",
       "</div>"
      ],
      "text/plain": [
       "  emotion_in_tweet_is_directed_at  \\\n",
       "0                          iPhone   \n",
       "1              iPad or iPhone App   \n",
       "2                            iPad   \n",
       "3              iPad or iPhone App   \n",
       "4                          Google   \n",
       "\n",
       "   is_there_an_emotion_directed_at_a_brand_or_product  \\\n",
       "0                                                  0    \n",
       "1                                                  1    \n",
       "2                                                  1    \n",
       "3                                                  0    \n",
       "4                                                  1    \n",
       "\n",
       "                                          clean_text  \n",
       "0  wesley83 3g iphone 3 hrs tweeting #rise_austin...  \n",
       "1  jessedee know fludapp awesome ipad iphone app ...  \n",
       "2        swonderlin not wait #ipad 2 also sale #sxsw  \n",
       "3  sxsw hope year festival crashy year iphone app...  \n",
       "4  sxtxstate great stuff fri #sxsw marissa mayer ...  "
      ]
     },
     "execution_count": 252,
     "metadata": {},
     "output_type": "execute_result"
    }
   ],
   "source": [
    "df.head()"
   ]
  },
  {
   "cell_type": "markdown",
   "metadata": {
    "colab_type": "text",
    "id": "W8nWyJqDJhwt"
   },
   "source": [
    "## Question 5"
   ]
  },
  {
   "cell_type": "markdown",
   "metadata": {
    "colab_type": "text",
    "id": "hBfB7qp7Jhww"
   },
   "source": [
    "### Get feature and label\n",
    "- get column \"tweet_text\" as feature\n",
    "- get column \"is_there_an_emotion_directed_at_a_brand_or_product\" as label"
   ]
  },
  {
   "cell_type": "code",
   "execution_count": 253,
   "metadata": {
    "colab": {},
    "colab_type": "code",
    "id": "EQc-db5sJhw4"
   },
   "outputs": [],
   "source": [
    "X = df['clean_text']\n",
    "y=df['is_there_an_emotion_directed_at_a_brand_or_product']"
   ]
  },
  {
   "cell_type": "markdown",
   "metadata": {
    "colab_type": "text",
    "id": "3YErwYLCH0N_"
   },
   "source": [
    "### Create train and test data\n",
    "- use train_test_split to get train and test set\n",
    "- set a random_state\n",
    "- test_size: 0.25"
   ]
  },
  {
   "cell_type": "code",
   "execution_count": 254,
   "metadata": {
    "colab": {},
    "colab_type": "code",
    "id": "lNkwrGgEH0OA"
   },
   "outputs": [],
   "source": [
    "from sklearn.model_selection import train_test_split\n",
    "\n",
    "X_train, X_test, y_train, y_test = train_test_split(X, y, test_size=0.25, stratify = y)"
   ]
  },
  {
   "cell_type": "markdown",
   "metadata": {
    "colab_type": "text",
    "id": "VJrQTFoRJhxJ"
   },
   "source": [
    "## Question 6"
   ]
  },
  {
   "cell_type": "markdown",
   "metadata": {
    "colab_type": "text",
    "id": "F1HumRc4JhxK"
   },
   "source": [
    "### Vectorize data\n",
    "- create document-term matrix\n",
    "- use CountVectorizer()\n",
    "    - ngram_range: (1, 2)\n",
    "    - stop_words: 'english'\n",
    "    - min_df: 2   \n",
    "- do fit_transform on X_train\n",
    "- do transform on X_test"
   ]
  },
  {
   "cell_type": "code",
   "execution_count": 255,
   "metadata": {},
   "outputs": [],
   "source": [
    "from sklearn.feature_extraction.text import CountVectorizer\n",
    "from nltk.corpus import stopwords"
   ]
  },
  {
   "cell_type": "code",
   "execution_count": 256,
   "metadata": {
    "colab": {},
    "colab_type": "code",
    "id": "x8G2gSWvJhxL"
   },
   "outputs": [
    {
     "name": "stdout",
     "output_type": "stream",
     "text": [
      "Shape of matrix after one hot encoding  (2393, 698)\n"
     ]
    }
   ],
   "source": [
    "vectorizer_bow_essay = CountVectorizer(ngram_range=(1,3), min_df=10, max_features =10000)\n",
    "\n",
    "vectorizer_bow_essay.fit(X_train)\n",
    "\n",
    "text_bow_train = vectorizer_bow_essay.transform(X_train)\n",
    "\n",
    "print(\"Shape of matrix after one hot encoding \",text_bow_train.shape)"
   ]
  },
  {
   "cell_type": "code",
   "execution_count": 257,
   "metadata": {},
   "outputs": [
    {
     "name": "stdout",
     "output_type": "stream",
     "text": [
      "Shape of matrix after one hot encoding  (798, 698)\n"
     ]
    }
   ],
   "source": [
    "text_bow_test = vectorizer_bow_essay.transform(X_test)\n",
    "print(\"Shape of matrix after one hot encoding \",text_bow_test.shape)"
   ]
  },
  {
   "cell_type": "code",
   "execution_count": null,
   "metadata": {},
   "outputs": [],
   "source": []
  },
  {
   "cell_type": "markdown",
   "metadata": {
    "colab_type": "text",
    "id": "jhmpE8xPJhxQ"
   },
   "source": [
    "## Question 7"
   ]
  },
  {
   "cell_type": "markdown",
   "metadata": {
    "colab_type": "text",
    "id": "IM_nQ9M0JhxR"
   },
   "source": [
    "### Select classifier logistic regression\n",
    "- use logistic regression for predicting sentiment of the given tweet\n",
    "- initialize classifier"
   ]
  },
  {
   "cell_type": "code",
   "execution_count": 259,
   "metadata": {
    "colab": {},
    "colab_type": "code",
    "id": "vg_UpebtJhxT"
   },
   "outputs": [],
   "source": [
    "from sklearn.linear_model import LogisticRegression\n",
    "logistic_model = LogisticRegression()"
   ]
  },
  {
   "cell_type": "markdown",
   "metadata": {
    "colab_type": "text",
    "id": "Dxif4AlvJhxZ"
   },
   "source": [
    "### Fit the classifer\n",
    "- fit logistic regression classifier"
   ]
  },
  {
   "cell_type": "code",
   "execution_count": 260,
   "metadata": {
    "colab": {},
    "colab_type": "code",
    "id": "yfKK0HXPJhxb"
   },
   "outputs": [
    {
     "name": "stderr",
     "output_type": "stream",
     "text": [
      "C:\\ProgramData\\Anaconda3\\lib\\site-packages\\sklearn\\linear_model\\logistic.py:433: FutureWarning: Default solver will be changed to 'lbfgs' in 0.22. Specify a solver to silence this warning.\n",
      "  FutureWarning)\n"
     ]
    },
    {
     "data": {
      "text/plain": [
       "LogisticRegression(C=1.0, class_weight=None, dual=False, fit_intercept=True,\n",
       "          intercept_scaling=1, max_iter=100, multi_class='warn',\n",
       "          n_jobs=None, penalty='l2', random_state=None, solver='warn',\n",
       "          tol=0.0001, verbose=0, warm_start=False)"
      ]
     },
     "execution_count": 260,
     "metadata": {},
     "output_type": "execute_result"
    }
   ],
   "source": [
    "logistic_model.fit(text_bow_train,y_train)"
   ]
  },
  {
   "cell_type": "markdown",
   "metadata": {
    "colab_type": "text",
    "id": "Cyfa6QjKJhxf"
   },
   "source": [
    "## Question 8"
   ]
  },
  {
   "cell_type": "markdown",
   "metadata": {
    "colab_type": "text",
    "id": "3QV6jamTJhxg"
   },
   "source": [
    "### Select classifier naive bayes\n",
    "- use naive bayes for predicting sentiment of the given tweet\n",
    "- initialize classifier\n",
    "- use MultinomialNB"
   ]
  },
  {
   "cell_type": "code",
   "execution_count": 263,
   "metadata": {
    "colab": {},
    "colab_type": "code",
    "id": "2AbVYssaH0OE"
   },
   "outputs": [],
   "source": [
    "from sklearn.naive_bayes import MultinomialNB\n",
    "clf1 = MultinomialNB()"
   ]
  },
  {
   "cell_type": "markdown",
   "metadata": {
    "colab_type": "text",
    "id": "8GWDJVkhJhxl"
   },
   "source": [
    "### Fit the classifer\n",
    "- fit logistic regression classifier"
   ]
  },
  {
   "cell_type": "code",
   "execution_count": 264,
   "metadata": {
    "colab": {},
    "colab_type": "code",
    "id": "6DMttylbJhxm"
   },
   "outputs": [
    {
     "data": {
      "text/plain": [
       "MultinomialNB(alpha=1.0, class_prior=None, fit_prior=True)"
      ]
     },
     "execution_count": 264,
     "metadata": {},
     "output_type": "execute_result"
    }
   ],
   "source": [
    "clf1.fit(text_bow_train,y_train)"
   ]
  },
  {
   "cell_type": "markdown",
   "metadata": {
    "colab_type": "text",
    "id": "fqNDqFQEJhxo"
   },
   "source": [
    "## Question 9"
   ]
  },
  {
   "cell_type": "markdown",
   "metadata": {
    "colab_type": "text",
    "id": "d4fpplpVJhxq"
   },
   "source": [
    "### Make predictions on logistic regression\n",
    "- use your trained logistic regression model to make predictions on X_test"
   ]
  },
  {
   "cell_type": "code",
   "execution_count": 266,
   "metadata": {
    "colab": {},
    "colab_type": "code",
    "id": "sHPXXZOqJhxr"
   },
   "outputs": [],
   "source": [
    "ypred1 = clf.predict(text_bow_test) "
   ]
  },
  {
   "cell_type": "markdown",
   "metadata": {
    "colab_type": "text",
    "id": "8ir5pcJNJhxu"
   },
   "source": [
    "### Make predictions on naive bayes\n",
    "- use your trained naive bayes model to make predictions on X_test\n",
    "- use a different variable name to store predictions so that they are kept separately"
   ]
  },
  {
   "cell_type": "code",
   "execution_count": 267,
   "metadata": {
    "colab": {},
    "colab_type": "code",
    "id": "iguIi0MPJhxv"
   },
   "outputs": [],
   "source": [
    "ypred2 = clf1.predict(text_bow_test)"
   ]
  },
  {
   "cell_type": "markdown",
   "metadata": {
    "colab_type": "text",
    "id": "OsDHwkAGJhxx"
   },
   "source": [
    "## Question 10"
   ]
  },
  {
   "cell_type": "markdown",
   "metadata": {
    "colab_type": "text",
    "id": "VKvHQjcVJhxy"
   },
   "source": [
    "### Calculate accuracy of logistic regression\n",
    "- check accuracy of logistic regression classifer\n",
    "- use sklearn.metrics.accuracy_score"
   ]
  },
  {
   "cell_type": "code",
   "execution_count": 273,
   "metadata": {
    "colab": {},
    "colab_type": "code",
    "id": "clv2X0kKH0Ok"
   },
   "outputs": [
    {
     "data": {
      "text/plain": [
       "1.0"
      ]
     },
     "execution_count": 273,
     "metadata": {},
     "output_type": "execute_result"
    }
   ],
   "source": [
    "clf.score(text_bow_test,ypred1)"
   ]
  },
  {
   "cell_type": "markdown",
   "metadata": {
    "colab_type": "text",
    "id": "GkwD4yDoJhx2"
   },
   "source": [
    "### Calculate accuracy of naive bayes\n",
    "- check accuracy of naive bayes classifer\n",
    "- use sklearn.metrics.accuracy_score"
   ]
  },
  {
   "cell_type": "code",
   "execution_count": 274,
   "metadata": {
    "colab": {},
    "colab_type": "code",
    "id": "FgbECtX9Jhx2"
   },
   "outputs": [
    {
     "data": {
      "text/plain": [
       "1.0"
      ]
     },
     "execution_count": 274,
     "metadata": {},
     "output_type": "execute_result"
    }
   ],
   "source": [
    "clf1.score(text_bow_test,ypred2)"
   ]
  },
  {
   "cell_type": "code",
   "execution_count": null,
   "metadata": {},
   "outputs": [],
   "source": []
  }
 ],
 "metadata": {
  "accelerator": "GPU",
  "colab": {
   "collapsed_sections": [],
   "name": "R8_Internal_Lab_Questions.ipynb",
   "provenance": [],
   "version": "0.3.2"
  },
  "kernelspec": {
   "display_name": "Python 3",
   "language": "python",
   "name": "python3"
  },
  "language_info": {
   "codemirror_mode": {
    "name": "ipython",
    "version": 3
   },
   "file_extension": ".py",
   "mimetype": "text/x-python",
   "name": "python",
   "nbconvert_exporter": "python",
   "pygments_lexer": "ipython3",
   "version": "3.7.1"
  }
 },
 "nbformat": 4,
 "nbformat_minor": 1
}
