{
  "nbformat": 4,
  "nbformat_minor": 0,
  "metadata": {
    "colab": {
      "name": "Untitled6.ipynb",
      "version": "0.3.2",
      "provenance": [],
      "collapsed_sections": []
    },
    "kernelspec": {
      "name": "python3",
      "display_name": "Python 3"
    },
    "accelerator": "GPU"
  },
  "cells": [
    {
      "cell_type": "code",
      "metadata": {
        "id": "AxGiVnigBg_0",
        "colab_type": "code",
        "outputId": "a639a471-596d-4d1c-89ac-77af240155fe",
        "colab": {
          "base_uri": "https://localhost:8080/",
          "height": 51
        }
      },
      "source": [
        "from google.colab import drive\n",
        "drive.mount('/gdrive')\n",
        "%cd /gdrive\n"
      ],
      "execution_count": 202,
      "outputs": [
        {
          "output_type": "stream",
          "text": [
            "Drive already mounted at /gdrive; to attempt to forcibly remount, call drive.mount(\"/gdrive\", force_remount=True).\n",
            "/gdrive\n"
          ],
          "name": "stdout"
        }
      ]
    },
    {
      "cell_type": "code",
      "metadata": {
        "id": "fff0UUtcBigW",
        "colab_type": "code",
        "colab": {}
      },
      "source": [
        "import h5py\n",
        "import numpy as np\n",
        "from sklearn.neighbors import KNeighborsClassifier "
      ],
      "execution_count": 0,
      "outputs": []
    },
    {
      "cell_type": "code",
      "metadata": {
        "id": "DGnvpDh1BtF5",
        "colab_type": "code",
        "colab": {}
      },
      "source": [
        "file=h5py.File(\"/gdrive/My Drive/SVHN_single_grey1.h5\",\"r+\")"
      ],
      "execution_count": 0,
      "outputs": []
    },
    {
      "cell_type": "code",
      "metadata": {
        "id": "rUvXwf69CNTR",
        "colab_type": "code",
        "outputId": "74cc09ae-aef9-4922-8b3f-abd4be426bfa",
        "colab": {
          "base_uri": "https://localhost:8080/",
          "height": 34
        }
      },
      "source": [
        "list(file.keys())"
      ],
      "execution_count": 205,
      "outputs": [
        {
          "output_type": "execute_result",
          "data": {
            "text/plain": [
              "['X_test', 'X_train', 'X_val', 'y_test', 'y_train', 'y_val']"
            ]
          },
          "metadata": {
            "tags": []
          },
          "execution_count": 205
        }
      ]
    },
    {
      "cell_type": "code",
      "metadata": {
        "id": "NQ-kyIZ4JrMe",
        "colab_type": "code",
        "colab": {}
      },
      "source": [
        "X_train = file['X_train']\n",
        "X_test = file['X_test']\n",
        "X_val = file['X_val']"
      ],
      "execution_count": 0,
      "outputs": []
    },
    {
      "cell_type": "code",
      "metadata": {
        "id": "1d_XmoD6e_8P",
        "colab_type": "code",
        "colab": {}
      },
      "source": [
        "y_train = file['y_train']\n",
        "y_test = file['y_test']\n",
        "y_val = file['y_val']"
      ],
      "execution_count": 0,
      "outputs": []
    },
    {
      "cell_type": "code",
      "metadata": {
        "id": "JlLbWoiDY2sr",
        "colab_type": "code",
        "colab": {}
      },
      "source": [
        "X_train = np.array(X_train)\n",
        "X_train = X_train.reshape([42000,32*32])\n"
      ],
      "execution_count": 0,
      "outputs": []
    },
    {
      "cell_type": "code",
      "metadata": {
        "id": "IUqv80XEaFvP",
        "colab_type": "code",
        "colab": {}
      },
      "source": [
        "\n",
        "X_val = np.array(X_val)\n",
        "X_val = X_val.reshape([60000,32*32])"
      ],
      "execution_count": 0,
      "outputs": []
    },
    {
      "cell_type": "code",
      "metadata": {
        "id": "qMjPKELzamxU",
        "colab_type": "code",
        "colab": {}
      },
      "source": [
        "X_test = np.array(X_test)\n",
        "X_test = X_test.reshape([18000,32*32])"
      ],
      "execution_count": 0,
      "outputs": []
    },
    {
      "cell_type": "code",
      "metadata": {
        "id": "VXr5VkuPc6vQ",
        "colab_type": "code",
        "colab": {}
      },
      "source": [
        "from keras.utils import np_utils\n",
        "y_train = np_utils.to_categorical(y_train)\n",
        "y_test = np_utils.to_categorical(y_test)\n",
        "y_val = np_utils.to_categorical(y_val)\n"
      ],
      "execution_count": 0,
      "outputs": []
    },
    {
      "cell_type": "code",
      "metadata": {
        "id": "6j0Pni-6IByU",
        "colab_type": "code",
        "outputId": "9aa5faa3-be77-4fe4-cc37-599a04512ede",
        "colab": {
          "base_uri": "https://localhost:8080/",
          "height": 34
        }
      },
      "source": [
        "X_test.shape"
      ],
      "execution_count": 150,
      "outputs": [
        {
          "output_type": "execute_result",
          "data": {
            "text/plain": [
              "(18000, 1024)"
            ]
          },
          "metadata": {
            "tags": []
          },
          "execution_count": 150
        }
      ]
    },
    {
      "cell_type": "code",
      "metadata": {
        "id": "1SYi29wHa03u",
        "colab_type": "code",
        "outputId": "1c592c6f-9351-435d-98a1-49206ff8f4e7",
        "colab": {
          "base_uri": "https://localhost:8080/",
          "height": 275
        }
      },
      "source": [
        "from sklearn.model_selection import RandomizedSearchCV\n",
        "\n",
        "neigh = KNeighborsClassifier()\n",
        "parameters = {'n_neighbors':[1, 5, 10, 15, 21, 31, 41, 51]}\n",
        "clf = RandomizedSearchCV(neigh, parameters, cv=3, scoring='roc_auc')\n",
        "clf.fit(X_train, y_train)\n",
        "\n"
      ],
      "execution_count": 0,
      "outputs": [
        {
          "output_type": "stream",
          "text": [
            "/usr/local/lib/python3.6/dist-packages/sklearn/model_selection/_search.py:266: UserWarning: The total space of parameters 8 is smaller than n_iter=10. Running 8 iterations. For exhaustive searches, use GridSearchCV.\n",
            "  % (grid_size, self.n_iter, grid_size), UserWarning)\n"
          ],
          "name": "stderr"
        },
        {
          "output_type": "execute_result",
          "data": {
            "text/plain": [
              "RandomizedSearchCV(cv=3, error_score='raise-deprecating',\n",
              "                   estimator=KNeighborsClassifier(algorithm='auto',\n",
              "                                                  leaf_size=30,\n",
              "                                                  metric='minkowski',\n",
              "                                                  metric_params=None,\n",
              "                                                  n_jobs=None, n_neighbors=5,\n",
              "                                                  p=2, weights='uniform'),\n",
              "                   iid='warn', n_iter=10, n_jobs=None,\n",
              "                   param_distributions={'n_neighbors': [1, 5, 10, 15, 21, 31,\n",
              "                                                        41, 51]},\n",
              "                   pre_dispatch='2*n_jobs', random_state=None, refit=True,\n",
              "                   return_train_score=False, scoring='roc_auc', verbose=0)"
            ]
          },
          "metadata": {
            "tags": []
          },
          "execution_count": 11
        }
      ]
    },
    {
      "cell_type": "code",
      "metadata": {
        "id": "9dmAvn4mdmTD",
        "colab_type": "code",
        "outputId": "35ef45e6-02d9-4ed7-9d72-0dc773da3b5b",
        "colab": {
          "base_uri": "https://localhost:8080/",
          "height": 34
        }
      },
      "source": [
        "clf.best_params_"
      ],
      "execution_count": 0,
      "outputs": [
        {
          "output_type": "execute_result",
          "data": {
            "text/plain": [
              "{'n_neighbors': 31}"
            ]
          },
          "metadata": {
            "tags": []
          },
          "execution_count": 13
        }
      ]
    },
    {
      "cell_type": "code",
      "metadata": {
        "id": "RNY1itVCzgAE",
        "colab_type": "code",
        "outputId": "005763a6-1b74-40ed-9a8d-0bea6fd67eff",
        "colab": {
          "base_uri": "https://localhost:8080/",
          "height": 68
        }
      },
      "source": [
        "neigh = KNeighborsClassifier(n_neighbors=31)\n",
        "neigh.fit(X_train,y_train)"
      ],
      "execution_count": 0,
      "outputs": [
        {
          "output_type": "execute_result",
          "data": {
            "text/plain": [
              "KNeighborsClassifier(algorithm='auto', leaf_size=30, metric='minkowski',\n",
              "                     metric_params=None, n_jobs=None, n_neighbors=31, p=2,\n",
              "                     weights='uniform')"
            ]
          },
          "metadata": {
            "tags": []
          },
          "execution_count": 14
        }
      ]
    },
    {
      "cell_type": "code",
      "metadata": {
        "id": "s4joVgPW14Qw",
        "colab_type": "code",
        "colab": {}
      },
      "source": [
        "predicted_labels = neigh.predict(X_test)"
      ],
      "execution_count": 0,
      "outputs": []
    },
    {
      "cell_type": "code",
      "metadata": {
        "id": "k_YJUsBn3ob3",
        "colab_type": "code",
        "outputId": "b74f6556-29a7-4dff-9ad0-8e7cdbeba78e",
        "colab": {
          "base_uri": "https://localhost:8080/",
          "height": 34
        }
      },
      "source": [
        "neigh.score(X_test,y_test)"
      ],
      "execution_count": 0,
      "outputs": [
        {
          "output_type": "execute_result",
          "data": {
            "text/plain": [
              "0.12255555555555556"
            ]
          },
          "metadata": {
            "tags": []
          },
          "execution_count": 18
        }
      ]
    },
    {
      "cell_type": "code",
      "metadata": {
        "id": "TooFNqGIAP5_",
        "colab_type": "code",
        "colab": {}
      },
      "source": [
        "import numpy as np\n",
        "import pandas as pd\n",
        "from keras.datasets import mnist\n",
        "from keras.models import Sequential\n",
        "from keras.layers.core import Dense,Dropout,Activation,Flatten\n",
        "from keras.layers.convolutional import Conv2D,MaxPooling2D\n",
        "from keras.utils import np_utils\n",
        "from sklearn import metrics\n",
        "import matplotlib.pyplot as plt\n",
        "%matplotlib inline"
      ],
      "execution_count": 0,
      "outputs": []
    },
    {
      "cell_type": "code",
      "metadata": {
        "id": "wHzOWuq0Kujp",
        "colab_type": "code",
        "colab": {
          "base_uri": "https://localhost:8080/",
          "height": 34
        },
        "outputId": "d8e79719-cbbe-4c29-bc7d-d51dd31c3b4c"
      },
      "source": [
        "X_train_nn = file['X_train']\n",
        "X_test_nn = file['X_test']\n",
        "X_val_nn = file['X_val']\n",
        "X_train_nn = np.array(X_train_nn)\n",
        "X_test_nn = np.array(X_test_nn)\n",
        "X_val_nn = np.array(X_val_nn)\n",
        "X_train_nn.shape"
      ],
      "execution_count": 207,
      "outputs": [
        {
          "output_type": "execute_result",
          "data": {
            "text/plain": [
              "(42000, 32, 32)"
            ]
          },
          "metadata": {
            "tags": []
          },
          "execution_count": 207
        }
      ]
    },
    {
      "cell_type": "code",
      "metadata": {
        "id": "azEDijxPLmcy",
        "colab_type": "code",
        "colab": {
          "base_uri": "https://localhost:8080/",
          "height": 34
        },
        "outputId": "eb2faa0c-0b1a-45e7-b1f4-4d06b1d54f78"
      },
      "source": [
        "\n",
        "X_train_nn=X_train_nn.reshape(X_train_nn.shape[0],32,32,1).astype('float32')    # The digit 1 signifies the images are in grayscale\n",
        "X_test_nn=X_test_nn.reshape(X_test_nn.shape[0],32,32,1).astype('float32')\n",
        "X_train_nn.shape[0]"
      ],
      "execution_count": 209,
      "outputs": [
        {
          "output_type": "execute_result",
          "data": {
            "text/plain": [
              "42000"
            ]
          },
          "metadata": {
            "tags": []
          },
          "execution_count": 209
        }
      ]
    },
    {
      "cell_type": "code",
      "metadata": {
        "id": "eOJdclOkHiFQ",
        "colab_type": "code",
        "colab": {
          "base_uri": "https://localhost:8080/",
          "height": 289
        },
        "outputId": "ffa5cfbc-b34f-4321-fc77-cacc91c77b2f"
      },
      "source": [
        "model = tf.keras.Sequential()\n",
        "# Must define the input shape in the first layer of the neural network\n",
        "model.add(tf.keras.layers.Conv2D(filters=64, kernel_size=3, padding='same', activation='relu', input_shape=(32,32,1))) \n",
        "model.add(tf.keras.layers.Flatten())\n",
        "model.add(tf.keras.layers.Dense(128, activation='relu'))\n",
        "model.add(tf.keras.layers.Dense(10, activation='softmax'))\n",
        "model.summary()"
      ],
      "execution_count": 211,
      "outputs": [
        {
          "output_type": "stream",
          "text": [
            "Model: \"sequential_24\"\n",
            "_________________________________________________________________\n",
            "Layer (type)                 Output Shape              Param #   \n",
            "=================================================================\n",
            "conv2d_3 (Conv2D)            (None, 32, 32, 64)        640       \n",
            "_________________________________________________________________\n",
            "flatten_3 (Flatten)          (None, 65536)             0         \n",
            "_________________________________________________________________\n",
            "dense_6 (Dense)              (None, 128)               8388736   \n",
            "_________________________________________________________________\n",
            "dense_7 (Dense)              (None, 10)                1290      \n",
            "=================================================================\n",
            "Total params: 8,390,666\n",
            "Trainable params: 8,390,666\n",
            "Non-trainable params: 0\n",
            "_________________________________________________________________\n"
          ],
          "name": "stdout"
        }
      ]
    },
    {
      "cell_type": "code",
      "metadata": {
        "id": "mS8xzQ5cI8Re",
        "colab_type": "code",
        "colab": {}
      },
      "source": [
        "model.compile(optimizer='sgd', loss='categorical_crossentropy', metrics=['accuracy'])"
      ],
      "execution_count": 0,
      "outputs": []
    },
    {
      "cell_type": "code",
      "metadata": {
        "id": "j92_OmlPJG8A",
        "colab_type": "code",
        "outputId": "cbd37750-942c-454d-a572-bb5329eb42b3",
        "colab": {
          "base_uri": "https://localhost:8080/",
          "height": 731
        }
      },
      "source": [
        "#Train the model\n",
        "model.fit(X_train_nn,y_train,          \n",
        "          validation_data=(X_test_nn,y_test),\n",
        "          epochs=20,\n",
        "          batch_size=32,\n",
        "          shuffle='batch')"
      ],
      "execution_count": 213,
      "outputs": [
        {
          "output_type": "stream",
          "text": [
            "Train on 42000 samples, validate on 18000 samples\n",
            "Epoch 1/20\n",
            "42000/42000 [==============================] - 12s 292us/sample - loss: 80.2038 - acc: 0.1000 - val_loss: 2.3027 - val_acc: 0.0955\n",
            "Epoch 2/20\n",
            "42000/42000 [==============================] - 12s 287us/sample - loss: 2.3029 - acc: 0.1016 - val_loss: 2.3027 - val_acc: 0.0955\n",
            "Epoch 3/20\n",
            "42000/42000 [==============================] - 12s 283us/sample - loss: 2.3027 - acc: 0.0997 - val_loss: 2.3027 - val_acc: 0.0956\n",
            "Epoch 4/20\n",
            "42000/42000 [==============================] - 12s 285us/sample - loss: 2.3027 - acc: 0.1011 - val_loss: 2.3027 - val_acc: 0.0955\n",
            "Epoch 5/20\n",
            "42000/42000 [==============================] - 12s 281us/sample - loss: 2.3027 - acc: 0.0995 - val_loss: 2.3027 - val_acc: 0.0955\n",
            "Epoch 6/20\n",
            "42000/42000 [==============================] - 12s 281us/sample - loss: 2.3027 - acc: 0.0998 - val_loss: 2.3028 - val_acc: 0.0955\n",
            "Epoch 7/20\n",
            "42000/42000 [==============================] - 12s 281us/sample - loss: 2.3026 - acc: 0.1010 - val_loss: 2.3028 - val_acc: 0.0955\n",
            "Epoch 8/20\n",
            "42000/42000 [==============================] - 12s 282us/sample - loss: 2.3027 - acc: 0.1012 - val_loss: 2.3028 - val_acc: 0.0955\n",
            "Epoch 9/20\n",
            "42000/42000 [==============================] - 12s 281us/sample - loss: 2.3027 - acc: 0.1020 - val_loss: 2.3027 - val_acc: 0.0955\n",
            "Epoch 10/20\n",
            "42000/42000 [==============================] - 12s 281us/sample - loss: 2.3027 - acc: 0.1012 - val_loss: 2.3028 - val_acc: 0.0955\n",
            "Epoch 11/20\n",
            "42000/42000 [==============================] - 12s 280us/sample - loss: 2.3027 - acc: 0.1017 - val_loss: 2.3027 - val_acc: 0.0956\n",
            "Epoch 12/20\n",
            "42000/42000 [==============================] - 12s 280us/sample - loss: 2.3027 - acc: 0.1014 - val_loss: 2.3027 - val_acc: 0.0955\n",
            "Epoch 13/20\n",
            "42000/42000 [==============================] - 12s 280us/sample - loss: 2.3027 - acc: 0.1008 - val_loss: 2.3027 - val_acc: 0.0955\n",
            "Epoch 14/20\n",
            "42000/42000 [==============================] - 12s 279us/sample - loss: 2.3027 - acc: 0.1015 - val_loss: 2.3027 - val_acc: 0.0955\n",
            "Epoch 15/20\n",
            "42000/42000 [==============================] - 12s 280us/sample - loss: 2.3027 - acc: 0.1010 - val_loss: 2.3028 - val_acc: 0.0955\n",
            "Epoch 16/20\n",
            "42000/42000 [==============================] - 12s 279us/sample - loss: 2.3026 - acc: 0.1010 - val_loss: 2.3027 - val_acc: 0.0955\n",
            "Epoch 17/20\n",
            "42000/42000 [==============================] - 12s 279us/sample - loss: 2.3026 - acc: 0.1015 - val_loss: 2.3027 - val_acc: 0.0955\n",
            "Epoch 18/20\n",
            "42000/42000 [==============================] - 12s 280us/sample - loss: 2.3026 - acc: 0.1014 - val_loss: 2.3027 - val_acc: 0.0955\n",
            "Epoch 19/20\n",
            "42000/42000 [==============================] - 12s 280us/sample - loss: 2.3027 - acc: 0.1017 - val_loss: 2.3028 - val_acc: 0.0955\n",
            "Epoch 20/20\n",
            "42000/42000 [==============================] - 12s 281us/sample - loss: 2.3026 - acc: 0.1016 - val_loss: 2.3027 - val_acc: 0.0955\n"
          ],
          "name": "stdout"
        },
        {
          "output_type": "execute_result",
          "data": {
            "text/plain": [
              "<tensorflow.python.keras.callbacks.History at 0x7f5266fa6630>"
            ]
          },
          "metadata": {
            "tags": []
          },
          "execution_count": 213
        }
      ]
    },
    {
      "cell_type": "code",
      "metadata": {
        "id": "eRPHUeu-JUG8",
        "colab_type": "code",
        "colab": {}
      },
      "source": [
        "#Normalization \n",
        "X_train_nn/=255\n",
        "X_test_nn/=255"
      ],
      "execution_count": 0,
      "outputs": []
    },
    {
      "cell_type": "code",
      "metadata": {
        "id": "BoNHwZ3Pa54D",
        "colab_type": "code",
        "colab": {}
      },
      "source": [
        "X_train_nn =X_train_nn.reshape(X_train_nn.shape[0],32,32,1).astype('float32')    # The digit 1 signifies the images are in grayscale\n",
        "X_test_nn = X_test_nn.reshape(X_test_nn.shape[0],32,32,1).astype('float32')"
      ],
      "execution_count": 0,
      "outputs": []
    },
    {
      "cell_type": "code",
      "metadata": {
        "id": "kWy5O2TLbRN5",
        "colab_type": "code",
        "colab": {
          "base_uri": "https://localhost:8080/",
          "height": 289
        },
        "outputId": "dc179cca-f600-4e50-e68d-7132d7417b02"
      },
      "source": [
        "model = tf.keras.Sequential()\n",
        "# Must define the input shape in the first layer of the neural network\n",
        "model.add(tf.keras.layers.Conv2D(filters=32, kernel_size=3, padding='same', activation='relu', input_shape=(32,32,1))) \n",
        "model.add(tf.keras.layers.Flatten())\n",
        "model.add(tf.keras.layers.Dense(128, activation='relu'))\n",
        "model.add(tf.keras.layers.Dense(10, activation='softmax'))\n",
        "model.summary()"
      ],
      "execution_count": 222,
      "outputs": [
        {
          "output_type": "stream",
          "text": [
            "Model: \"sequential_26\"\n",
            "_________________________________________________________________\n",
            "Layer (type)                 Output Shape              Param #   \n",
            "=================================================================\n",
            "conv2d_5 (Conv2D)            (None, 32, 32, 32)        320       \n",
            "_________________________________________________________________\n",
            "flatten_5 (Flatten)          (None, 32768)             0         \n",
            "_________________________________________________________________\n",
            "dense_10 (Dense)             (None, 128)               4194432   \n",
            "_________________________________________________________________\n",
            "dense_11 (Dense)             (None, 10)                1290      \n",
            "=================================================================\n",
            "Total params: 4,196,042\n",
            "Trainable params: 4,196,042\n",
            "Non-trainable params: 0\n",
            "_________________________________________________________________\n"
          ],
          "name": "stdout"
        }
      ]
    },
    {
      "cell_type": "code",
      "metadata": {
        "id": "OihU7NfybemS",
        "colab_type": "code",
        "colab": {}
      },
      "source": [
        "model.compile(optimizer='sgd', loss='categorical_crossentropy', metrics=['accuracy'])"
      ],
      "execution_count": 0,
      "outputs": []
    },
    {
      "cell_type": "code",
      "metadata": {
        "id": "OAHasZoNb0Ga",
        "colab_type": "code",
        "colab": {
          "base_uri": "https://localhost:8080/",
          "height": 731
        },
        "outputId": "69c7993a-b593-4644-aa96-cbc79235206a"
      },
      "source": [
        "#Train the model\n",
        "model.fit(X_train_nn,y_train,          \n",
        "          validation_data=(X_test_nn,y_test),\n",
        "          epochs=20,\n",
        "          batch_size=32,\n",
        "          shuffle='batch')"
      ],
      "execution_count": 224,
      "outputs": [
        {
          "output_type": "stream",
          "text": [
            "Train on 42000 samples, validate on 18000 samples\n",
            "Epoch 1/20\n",
            "42000/42000 [==============================] - 11s 262us/sample - loss: 2.2402 - acc: 0.1915 - val_loss: 2.0642 - val_acc: 0.3252\n",
            "Epoch 2/20\n",
            "42000/42000 [==============================] - 11s 259us/sample - loss: 1.5840 - acc: 0.4991 - val_loss: 1.3067 - val_acc: 0.6026\n",
            "Epoch 3/20\n",
            "42000/42000 [==============================] - 11s 265us/sample - loss: 1.2005 - acc: 0.6304 - val_loss: 1.1107 - val_acc: 0.6585\n",
            "Epoch 4/20\n",
            "42000/42000 [==============================] - 11s 259us/sample - loss: 1.0826 - acc: 0.6684 - val_loss: 1.0694 - val_acc: 0.6773\n",
            "Epoch 5/20\n",
            "42000/42000 [==============================] - 11s 256us/sample - loss: 1.0062 - acc: 0.6939 - val_loss: 0.9960 - val_acc: 0.6987\n",
            "Epoch 6/20\n",
            "42000/42000 [==============================] - 11s 256us/sample - loss: 0.9476 - acc: 0.7140 - val_loss: 0.9211 - val_acc: 0.7303\n",
            "Epoch 7/20\n",
            "42000/42000 [==============================] - 11s 256us/sample - loss: 0.8976 - acc: 0.7300 - val_loss: 0.8730 - val_acc: 0.7429\n",
            "Epoch 8/20\n",
            "42000/42000 [==============================] - 11s 256us/sample - loss: 0.8545 - acc: 0.7464 - val_loss: 0.8508 - val_acc: 0.7491\n",
            "Epoch 9/20\n",
            "42000/42000 [==============================] - 11s 256us/sample - loss: 0.8202 - acc: 0.7554 - val_loss: 0.8354 - val_acc: 0.7557\n",
            "Epoch 10/20\n",
            "42000/42000 [==============================] - 11s 256us/sample - loss: 0.7898 - acc: 0.7655 - val_loss: 0.8091 - val_acc: 0.7654\n",
            "Epoch 11/20\n",
            "42000/42000 [==============================] - 11s 257us/sample - loss: 0.7608 - acc: 0.7761 - val_loss: 0.7912 - val_acc: 0.7700\n",
            "Epoch 12/20\n",
            "42000/42000 [==============================] - 11s 256us/sample - loss: 0.7413 - acc: 0.7820 - val_loss: 0.7917 - val_acc: 0.7731\n",
            "Epoch 13/20\n",
            "42000/42000 [==============================] - 11s 256us/sample - loss: 0.7161 - acc: 0.7910 - val_loss: 0.7875 - val_acc: 0.7833\n",
            "Epoch 14/20\n",
            "42000/42000 [==============================] - 11s 256us/sample - loss: 0.6977 - acc: 0.7959 - val_loss: 0.7363 - val_acc: 0.7931\n",
            "Epoch 15/20\n",
            "42000/42000 [==============================] - 11s 258us/sample - loss: 0.6823 - acc: 0.8007 - val_loss: 0.7865 - val_acc: 0.7817\n",
            "Epoch 16/20\n",
            "42000/42000 [==============================] - 11s 257us/sample - loss: 0.6680 - acc: 0.8036 - val_loss: 0.7374 - val_acc: 0.7933\n",
            "Epoch 17/20\n",
            "42000/42000 [==============================] - 11s 257us/sample - loss: 0.6505 - acc: 0.8094 - val_loss: 0.7101 - val_acc: 0.8006\n",
            "Epoch 18/20\n",
            "42000/42000 [==============================] - 11s 257us/sample - loss: 0.6343 - acc: 0.8155 - val_loss: 0.7241 - val_acc: 0.7982\n",
            "Epoch 19/20\n",
            "42000/42000 [==============================] - 11s 256us/sample - loss: 0.6244 - acc: 0.8178 - val_loss: 0.7374 - val_acc: 0.7931\n",
            "Epoch 20/20\n",
            "42000/42000 [==============================] - 11s 257us/sample - loss: 0.6129 - acc: 0.8202 - val_loss: 0.7166 - val_acc: 0.8024\n"
          ],
          "name": "stdout"
        },
        {
          "output_type": "execute_result",
          "data": {
            "text/plain": [
              "<tensorflow.python.keras.callbacks.History at 0x7f52661c94a8>"
            ]
          },
          "metadata": {
            "tags": []
          },
          "execution_count": 224
        }
      ]
    },
    {
      "cell_type": "code",
      "metadata": {
        "id": "Jllwghevb5df",
        "colab_type": "code",
        "colab": {
          "base_uri": "https://localhost:8080/",
          "height": 51
        },
        "outputId": "aeade9d8-1318-4a1f-cdbc-8b55609a730d"
      },
      "source": [
        "# Evaluate the model on test set\n",
        "score = model.evaluate(X_test_nn, y_test, verbose=0)\n",
        "# Print test accuracy\n",
        "print('\\n', 'Test accuracy:', score[1])"
      ],
      "execution_count": 225,
      "outputs": [
        {
          "output_type": "stream",
          "text": [
            "\n",
            " Test accuracy: 0.80244446\n"
          ],
          "name": "stdout"
        }
      ]
    },
    {
      "cell_type": "code",
      "metadata": {
        "id": "8Vtt0JELdFFq",
        "colab_type": "code",
        "colab": {}
      },
      "source": [
        "#Observations:\n",
        "#KNN Algorithm has very less acuracy just 12%\n",
        "#Neural Network has Accuracy of 80% on same data with Batch Normlization."
      ],
      "execution_count": 0,
      "outputs": []
    }
  ]
}