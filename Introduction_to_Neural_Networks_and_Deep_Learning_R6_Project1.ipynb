{
  "nbformat": 4,
  "nbformat_minor": 0,
  "metadata": {
    "colab": {
      "name": " Introduction to Neural Networks and Deep Learning_R6_Project1.ipynb",
      "version": "0.3.2",
      "provenance": [],
      "collapsed_sections": []
    },
    "kernelspec": {
      "name": "python3",
      "display_name": "Python 3"
    }
  },
  "cells": [
    {
      "cell_type": "code",
      "metadata": {
        "id": "Etvyj5i5jTf8",
        "colab_type": "code",
        "colab": {}
      },
      "source": [
        "import tensorflow as tf"
      ],
      "execution_count": 0,
      "outputs": []
    },
    {
      "cell_type": "code",
      "metadata": {
        "id": "akTLH5pdoRgA",
        "colab_type": "code",
        "outputId": "3c969224-a86c-4cdb-f96c-bb910b5e5caf",
        "colab": {
          "base_uri": "https://localhost:8080/",
          "height": 34
        }
      },
      "source": [
        "import numpy as np\n",
        "import pandas as pd\n",
        "import matplotlib.pyplot as plt\n",
        "%matplotlib inline\n",
        "from keras.layers import Dropout"
      ],
      "execution_count": 0,
      "outputs": [
        {
          "output_type": "stream",
          "text": [
            "Using TensorFlow backend.\n"
          ],
          "name": "stderr"
        }
      ]
    },
    {
      "cell_type": "code",
      "metadata": {
        "id": "zlRNjqpRlGRB",
        "colab_type": "code",
        "colab": {}
      },
      "source": [
        "df=pd.read_csv('bank.csv')"
      ],
      "execution_count": 0,
      "outputs": []
    },
    {
      "cell_type": "code",
      "metadata": {
        "id": "NmzzREKClSNV",
        "colab_type": "code",
        "outputId": "56a27dab-da6c-4226-e49c-dc072730ff2a",
        "colab": {
          "base_uri": "https://localhost:8080/",
          "height": 195
        }
      },
      "source": [
        "df.head()"
      ],
      "execution_count": 0,
      "outputs": [
        {
          "output_type": "execute_result",
          "data": {
            "text/html": [
              "<div>\n",
              "<style scoped>\n",
              "    .dataframe tbody tr th:only-of-type {\n",
              "        vertical-align: middle;\n",
              "    }\n",
              "\n",
              "    .dataframe tbody tr th {\n",
              "        vertical-align: top;\n",
              "    }\n",
              "\n",
              "    .dataframe thead th {\n",
              "        text-align: right;\n",
              "    }\n",
              "</style>\n",
              "<table border=\"1\" class=\"dataframe\">\n",
              "  <thead>\n",
              "    <tr style=\"text-align: right;\">\n",
              "      <th></th>\n",
              "      <th>RowNumber</th>\n",
              "      <th>CustomerId</th>\n",
              "      <th>Surname</th>\n",
              "      <th>CreditScore</th>\n",
              "      <th>Geography</th>\n",
              "      <th>Gender</th>\n",
              "      <th>Age</th>\n",
              "      <th>Tenure</th>\n",
              "      <th>Balance</th>\n",
              "      <th>NumOfProducts</th>\n",
              "      <th>HasCrCard</th>\n",
              "      <th>IsActiveMember</th>\n",
              "      <th>EstimatedSalary</th>\n",
              "      <th>Exited</th>\n",
              "    </tr>\n",
              "  </thead>\n",
              "  <tbody>\n",
              "    <tr>\n",
              "      <th>0</th>\n",
              "      <td>1</td>\n",
              "      <td>15634602</td>\n",
              "      <td>Hargrave</td>\n",
              "      <td>619</td>\n",
              "      <td>France</td>\n",
              "      <td>Female</td>\n",
              "      <td>42</td>\n",
              "      <td>2</td>\n",
              "      <td>0.00</td>\n",
              "      <td>1</td>\n",
              "      <td>1</td>\n",
              "      <td>1</td>\n",
              "      <td>101348.88</td>\n",
              "      <td>1</td>\n",
              "    </tr>\n",
              "    <tr>\n",
              "      <th>1</th>\n",
              "      <td>2</td>\n",
              "      <td>15647311</td>\n",
              "      <td>Hill</td>\n",
              "      <td>608</td>\n",
              "      <td>Spain</td>\n",
              "      <td>Female</td>\n",
              "      <td>41</td>\n",
              "      <td>1</td>\n",
              "      <td>83807.86</td>\n",
              "      <td>1</td>\n",
              "      <td>0</td>\n",
              "      <td>1</td>\n",
              "      <td>112542.58</td>\n",
              "      <td>0</td>\n",
              "    </tr>\n",
              "    <tr>\n",
              "      <th>2</th>\n",
              "      <td>3</td>\n",
              "      <td>15619304</td>\n",
              "      <td>Onio</td>\n",
              "      <td>502</td>\n",
              "      <td>France</td>\n",
              "      <td>Female</td>\n",
              "      <td>42</td>\n",
              "      <td>8</td>\n",
              "      <td>159660.80</td>\n",
              "      <td>3</td>\n",
              "      <td>1</td>\n",
              "      <td>0</td>\n",
              "      <td>113931.57</td>\n",
              "      <td>1</td>\n",
              "    </tr>\n",
              "    <tr>\n",
              "      <th>3</th>\n",
              "      <td>4</td>\n",
              "      <td>15701354</td>\n",
              "      <td>Boni</td>\n",
              "      <td>699</td>\n",
              "      <td>France</td>\n",
              "      <td>Female</td>\n",
              "      <td>39</td>\n",
              "      <td>1</td>\n",
              "      <td>0.00</td>\n",
              "      <td>2</td>\n",
              "      <td>0</td>\n",
              "      <td>0</td>\n",
              "      <td>93826.63</td>\n",
              "      <td>0</td>\n",
              "    </tr>\n",
              "    <tr>\n",
              "      <th>4</th>\n",
              "      <td>5</td>\n",
              "      <td>15737888</td>\n",
              "      <td>Mitchell</td>\n",
              "      <td>850</td>\n",
              "      <td>Spain</td>\n",
              "      <td>Female</td>\n",
              "      <td>43</td>\n",
              "      <td>2</td>\n",
              "      <td>125510.82</td>\n",
              "      <td>1</td>\n",
              "      <td>1</td>\n",
              "      <td>1</td>\n",
              "      <td>79084.10</td>\n",
              "      <td>0</td>\n",
              "    </tr>\n",
              "  </tbody>\n",
              "</table>\n",
              "</div>"
            ],
            "text/plain": [
              "   RowNumber  CustomerId   Surname  ...  IsActiveMember EstimatedSalary Exited\n",
              "0          1    15634602  Hargrave  ...               1       101348.88      1\n",
              "1          2    15647311      Hill  ...               1       112542.58      0\n",
              "2          3    15619304      Onio  ...               0       113931.57      1\n",
              "3          4    15701354      Boni  ...               0        93826.63      0\n",
              "4          5    15737888  Mitchell  ...               1        79084.10      0\n",
              "\n",
              "[5 rows x 14 columns]"
            ]
          },
          "metadata": {
            "tags": []
          },
          "execution_count": 4
        }
      ]
    },
    {
      "cell_type": "code",
      "metadata": {
        "id": "KlkbPKj6lUfr",
        "colab_type": "code",
        "colab": {}
      },
      "source": [
        "X=df.iloc[:,3:13].values\n",
        "y=df.iloc[:,13].values"
      ],
      "execution_count": 0,
      "outputs": []
    },
    {
      "cell_type": "code",
      "metadata": {
        "id": "AO1F9qpLlnG8",
        "colab_type": "code",
        "colab": {}
      },
      "source": [
        "from sklearn.preprocessing import LabelEncoder,OneHotEncoder\n",
        "labelencoder_X_1=LabelEncoder()\n",
        "X[:,1]=labelencoder_X_1.fit_transform(X[:,1])\n",
        "labelencoder_X_2=LabelEncoder()\n",
        "X[:,2]=labelencoder_X_2.fit_transform(X[:,2])"
      ],
      "execution_count": 0,
      "outputs": []
    },
    {
      "cell_type": "code",
      "metadata": {
        "id": "HeVNaGBKlyWH",
        "colab_type": "code",
        "outputId": "0f722a30-f44a-4dd8-dc47-f84f75eb53f8",
        "colab": {
          "base_uri": "https://localhost:8080/",
          "height": 134
        }
      },
      "source": [
        "X"
      ],
      "execution_count": 0,
      "outputs": [
        {
          "output_type": "execute_result",
          "data": {
            "text/plain": [
              "array([[619, 0, 0, ..., 1, 1, 101348.88],\n",
              "       [608, 2, 0, ..., 0, 1, 112542.58],\n",
              "       [502, 0, 0, ..., 1, 0, 113931.57],\n",
              "       ...,\n",
              "       [709, 0, 0, ..., 0, 1, 42085.58],\n",
              "       [772, 1, 1, ..., 1, 0, 92888.52],\n",
              "       [792, 0, 0, ..., 1, 0, 38190.78]], dtype=object)"
            ]
          },
          "metadata": {
            "tags": []
          },
          "execution_count": 7
        }
      ]
    },
    {
      "cell_type": "code",
      "metadata": {
        "id": "StwgoWmkqEeV",
        "colab_type": "code",
        "outputId": "1d0e6ef9-eb56-4851-b0d9-24e543f4d091",
        "colab": {
          "base_uri": "https://localhost:8080/",
          "height": 34
        }
      },
      "source": [
        "X[[0]]"
      ],
      "execution_count": 0,
      "outputs": [
        {
          "output_type": "execute_result",
          "data": {
            "text/plain": [
              "array([[619, 0, 0, 42, 2, 0.0, 1, 1, 1, 101348.88]], dtype=object)"
            ]
          },
          "metadata": {
            "tags": []
          },
          "execution_count": 8
        }
      ]
    },
    {
      "cell_type": "code",
      "metadata": {
        "id": "TGP5dHXvsDTA",
        "colab_type": "code",
        "outputId": "d870c405-f7da-40c9-9b07-9e9f96b01a84",
        "colab": {
          "base_uri": "https://localhost:8080/",
          "height": 138
        }
      },
      "source": [
        "onehotencoder=OneHotEncoder(categorical_features=[1])\n",
        "X=onehotencoder.fit_transform(X).toarray()"
      ],
      "execution_count": 0,
      "outputs": [
        {
          "output_type": "stream",
          "text": [
            "/usr/local/lib/python3.6/dist-packages/sklearn/preprocessing/_encoders.py:415: FutureWarning: The handling of integer data will change in version 0.22. Currently, the categories are determined based on the range [0, max(values)], while in the future they will be determined based on the unique values.\n",
            "If you want the future behaviour and silence this warning, you can specify \"categories='auto'\".\n",
            "In case you used a LabelEncoder before this OneHotEncoder to convert the categories to integers, then you can now use the OneHotEncoder directly.\n",
            "  warnings.warn(msg, FutureWarning)\n",
            "/usr/local/lib/python3.6/dist-packages/sklearn/preprocessing/_encoders.py:451: DeprecationWarning: The 'categorical_features' keyword is deprecated in version 0.20 and will be removed in 0.22. You can use the ColumnTransformer instead.\n",
            "  \"use the ColumnTransformer instead.\", DeprecationWarning)\n"
          ],
          "name": "stderr"
        }
      ]
    },
    {
      "cell_type": "code",
      "metadata": {
        "id": "qMKUwsM-s9ks",
        "colab_type": "code",
        "colab": {}
      },
      "source": [
        "X=X[:,1:]"
      ],
      "execution_count": 0,
      "outputs": []
    },
    {
      "cell_type": "code",
      "metadata": {
        "id": "ra4Z_wblyFdO",
        "colab_type": "code",
        "outputId": "16e64d6f-6dde-4ec8-a115-d164390f0ed2",
        "colab": {
          "base_uri": "https://localhost:8080/",
          "height": 67
        }
      },
      "source": [
        "X[[0]]"
      ],
      "execution_count": 0,
      "outputs": [
        {
          "output_type": "execute_result",
          "data": {
            "text/plain": [
              "array([[0.0000000e+00, 0.0000000e+00, 6.1900000e+02, 0.0000000e+00,\n",
              "        4.2000000e+01, 2.0000000e+00, 0.0000000e+00, 1.0000000e+00,\n",
              "        1.0000000e+00, 1.0000000e+00, 1.0134888e+05]])"
            ]
          },
          "metadata": {
            "tags": []
          },
          "execution_count": 11
        }
      ]
    },
    {
      "cell_type": "code",
      "metadata": {
        "id": "E3VIlPh2yUr1",
        "colab_type": "code",
        "colab": {}
      },
      "source": [
        "from sklearn.model_selection import train_test_split\n",
        "seed = 1\n",
        "test_size = 0.3\n",
        "X_train, X_test, y_train, y_test = train_test_split(X, y, test_size=test_size, random_state=seed)"
      ],
      "execution_count": 0,
      "outputs": []
    },
    {
      "cell_type": "code",
      "metadata": {
        "id": "Uw5bHi7Xy_xE",
        "colab_type": "code",
        "colab": {}
      },
      "source": [
        "\n",
        "from sklearn.preprocessing import StandardScaler\n",
        "sc=StandardScaler()\n",
        "X_train=sc.fit_transform(X_train)\n",
        "X_test=sc.fit_transform(X_test)"
      ],
      "execution_count": 0,
      "outputs": []
    },
    {
      "cell_type": "code",
      "metadata": {
        "id": "NZRQAbG2zlZ4",
        "colab_type": "code",
        "colab": {}
      },
      "source": [
        "import keras\n",
        "model=tf.keras.models.Sequential()"
      ],
      "execution_count": 0,
      "outputs": []
    },
    {
      "cell_type": "code",
      "metadata": {
        "id": "DR14XT_WnUeH",
        "colab_type": "code",
        "outputId": "b636afd0-48b2-48cf-fd26-375553ecf4ec",
        "colab": {
          "base_uri": "https://localhost:8080/",
          "height": 104
        }
      },
      "source": [
        "model.add(tf.keras.layers.Dense(6,activation='relu'))"
      ],
      "execution_count": 0,
      "outputs": [
        {
          "output_type": "stream",
          "text": [
            "WARNING: Logging before flag parsing goes to stderr.\n",
            "W0706 14:23:43.379864 140244766902144 deprecation.py:506] From /usr/local/lib/python3.6/dist-packages/tensorflow/python/ops/init_ops.py:1251: calling VarianceScaling.__init__ (from tensorflow.python.ops.init_ops) with dtype is deprecated and will be removed in a future version.\n",
            "Instructions for updating:\n",
            "Call initializer instance with the dtype argument instead of passing it to the constructor\n"
          ],
          "name": "stderr"
        }
      ]
    },
    {
      "cell_type": "code",
      "metadata": {
        "id": "PNLX4KBhnUhP",
        "colab_type": "code",
        "colab": {}
      },
      "source": [
        "model.add(tf.keras.layers.Dense(6,activation='relu'))"
      ],
      "execution_count": 0,
      "outputs": []
    },
    {
      "cell_type": "code",
      "metadata": {
        "id": "uhW01tBDnUm0",
        "colab_type": "code",
        "colab": {}
      },
      "source": [
        "model.add(tf.keras.layers.Dense(1,activation='sigmoid'))"
      ],
      "execution_count": 0,
      "outputs": []
    },
    {
      "cell_type": "code",
      "metadata": {
        "id": "v6F0vHZ-nUvM",
        "colab_type": "code",
        "colab": {}
      },
      "source": [
        "sgd_optimizer=tf.keras.optimizers.SGD(lr=0.03)\n",
        "model.compile(optimizer='adam',loss='binary_crossentropy',metrics=['accuracy'])"
      ],
      "execution_count": 0,
      "outputs": []
    },
    {
      "cell_type": "code",
      "metadata": {
        "id": "Y029yh1Io48n",
        "colab_type": "code",
        "outputId": "3bd40086-000c-4a21-9814-86aecfd9738b",
        "colab": {
          "base_uri": "https://localhost:8080/",
          "height": 1000
        }
      },
      "source": [
        "model.fit(X_train,y_train,\n",
        "          validation_data=(X_test,y_test),\n",
        "          epochs=30,\n",
        "          batch_size=10)"
      ],
      "execution_count": 0,
      "outputs": [
        {
          "output_type": "stream",
          "text": [
            "W0706 14:23:43.544852 140244766902144 deprecation.py:323] From /usr/local/lib/python3.6/dist-packages/tensorflow/python/ops/nn_impl.py:180: add_dispatch_support.<locals>.wrapper (from tensorflow.python.ops.array_ops) is deprecated and will be removed in a future version.\n",
            "Instructions for updating:\n",
            "Use tf.where in 2.0, which has the same broadcast rule as np.where\n"
          ],
          "name": "stderr"
        },
        {
          "output_type": "stream",
          "text": [
            "Train on 7000 samples, validate on 3000 samples\n",
            "Epoch 1/30\n",
            "7000/7000 [==============================] - 1s 166us/sample - loss: 0.5951 - acc: 0.7023 - val_loss: 0.4663 - val_acc: 0.7937\n",
            "Epoch 2/30\n",
            "7000/7000 [==============================] - 1s 142us/sample - loss: 0.4413 - acc: 0.8120 - val_loss: 0.4358 - val_acc: 0.8120\n",
            "Epoch 3/30\n",
            "7000/7000 [==============================] - 1s 145us/sample - loss: 0.4252 - acc: 0.8211 - val_loss: 0.4284 - val_acc: 0.8143\n",
            "Epoch 4/30\n",
            "7000/7000 [==============================] - 1s 141us/sample - loss: 0.4178 - acc: 0.8237 - val_loss: 0.4215 - val_acc: 0.8190\n",
            "Epoch 5/30\n",
            "7000/7000 [==============================] - 1s 140us/sample - loss: 0.4077 - acc: 0.8277 - val_loss: 0.4104 - val_acc: 0.8230\n",
            "Epoch 6/30\n",
            "7000/7000 [==============================] - 1s 138us/sample - loss: 0.3899 - acc: 0.8383 - val_loss: 0.3873 - val_acc: 0.8380\n",
            "Epoch 7/30\n",
            "7000/7000 [==============================] - 1s 140us/sample - loss: 0.3703 - acc: 0.8490 - val_loss: 0.3690 - val_acc: 0.8467\n",
            "Epoch 8/30\n",
            "7000/7000 [==============================] - 1s 140us/sample - loss: 0.3586 - acc: 0.8517 - val_loss: 0.3593 - val_acc: 0.8540\n",
            "Epoch 9/30\n",
            "7000/7000 [==============================] - 1s 145us/sample - loss: 0.3531 - acc: 0.8536 - val_loss: 0.3537 - val_acc: 0.8570\n",
            "Epoch 10/30\n",
            "7000/7000 [==============================] - 1s 144us/sample - loss: 0.3496 - acc: 0.8563 - val_loss: 0.3505 - val_acc: 0.8597\n",
            "Epoch 11/30\n",
            "7000/7000 [==============================] - 1s 142us/sample - loss: 0.3473 - acc: 0.8564 - val_loss: 0.3486 - val_acc: 0.8617\n",
            "Epoch 12/30\n",
            "7000/7000 [==============================] - 1s 143us/sample - loss: 0.3458 - acc: 0.8576 - val_loss: 0.3481 - val_acc: 0.8600\n",
            "Epoch 13/30\n",
            "7000/7000 [==============================] - 1s 142us/sample - loss: 0.3451 - acc: 0.8573 - val_loss: 0.3466 - val_acc: 0.8620\n",
            "Epoch 14/30\n",
            "7000/7000 [==============================] - 1s 142us/sample - loss: 0.3444 - acc: 0.8567 - val_loss: 0.3463 - val_acc: 0.8607\n",
            "Epoch 15/30\n",
            "7000/7000 [==============================] - 1s 142us/sample - loss: 0.3433 - acc: 0.8589 - val_loss: 0.3470 - val_acc: 0.8620\n",
            "Epoch 16/30\n",
            "7000/7000 [==============================] - 1s 142us/sample - loss: 0.3429 - acc: 0.8604 - val_loss: 0.3469 - val_acc: 0.8650\n",
            "Epoch 17/30\n",
            "7000/7000 [==============================] - 1s 142us/sample - loss: 0.3427 - acc: 0.8599 - val_loss: 0.3454 - val_acc: 0.8627\n",
            "Epoch 18/30\n",
            "7000/7000 [==============================] - 1s 143us/sample - loss: 0.3418 - acc: 0.8593 - val_loss: 0.3464 - val_acc: 0.8650\n",
            "Epoch 19/30\n",
            "7000/7000 [==============================] - 1s 145us/sample - loss: 0.3420 - acc: 0.8604 - val_loss: 0.3454 - val_acc: 0.8613\n",
            "Epoch 20/30\n",
            "7000/7000 [==============================] - 1s 143us/sample - loss: 0.3417 - acc: 0.8603 - val_loss: 0.3457 - val_acc: 0.8637\n",
            "Epoch 21/30\n",
            "7000/7000 [==============================] - 1s 142us/sample - loss: 0.3415 - acc: 0.8594 - val_loss: 0.3448 - val_acc: 0.8637\n",
            "Epoch 22/30\n",
            "7000/7000 [==============================] - 1s 142us/sample - loss: 0.3409 - acc: 0.8616 - val_loss: 0.3446 - val_acc: 0.8627\n",
            "Epoch 23/30\n",
            "7000/7000 [==============================] - 1s 142us/sample - loss: 0.3407 - acc: 0.8599 - val_loss: 0.3446 - val_acc: 0.8623\n",
            "Epoch 24/30\n",
            "7000/7000 [==============================] - 1s 143us/sample - loss: 0.3402 - acc: 0.8611 - val_loss: 0.3448 - val_acc: 0.8643\n",
            "Epoch 25/30\n",
            "7000/7000 [==============================] - 1s 142us/sample - loss: 0.3398 - acc: 0.8611 - val_loss: 0.3437 - val_acc: 0.8647\n",
            "Epoch 26/30\n",
            "7000/7000 [==============================] - 1s 141us/sample - loss: 0.3396 - acc: 0.8603 - val_loss: 0.3440 - val_acc: 0.8637\n",
            "Epoch 27/30\n",
            "7000/7000 [==============================] - 1s 142us/sample - loss: 0.3395 - acc: 0.8589 - val_loss: 0.3447 - val_acc: 0.8640\n",
            "Epoch 28/30\n",
            "7000/7000 [==============================] - 1s 141us/sample - loss: 0.3389 - acc: 0.8597 - val_loss: 0.3442 - val_acc: 0.8623\n",
            "Epoch 29/30\n",
            "7000/7000 [==============================] - 1s 143us/sample - loss: 0.3388 - acc: 0.8603 - val_loss: 0.3458 - val_acc: 0.8637\n",
            "Epoch 30/30\n",
            "7000/7000 [==============================] - 1s 144us/sample - loss: 0.3384 - acc: 0.8604 - val_loss: 0.3443 - val_acc: 0.8650\n"
          ],
          "name": "stdout"
        },
        {
          "output_type": "execute_result",
          "data": {
            "text/plain": [
              "<tensorflow.python.keras.callbacks.History at 0x7f8d064b5588>"
            ]
          },
          "metadata": {
            "tags": []
          },
          "execution_count": 19
        }
      ]
    },
    {
      "cell_type": "code",
      "metadata": {
        "id": "IIi_v58qnUpx",
        "colab_type": "code",
        "colab": {}
      },
      "source": [
        "y_pred=model.predict(X_test)\n",
        "y_pred=((y_pred>0.5))"
      ],
      "execution_count": 0,
      "outputs": []
    },
    {
      "cell_type": "code",
      "metadata": {
        "id": "0hn7PEsUnUkY",
        "colab_type": "code",
        "colab": {}
      },
      "source": [
        "from sklearn.metrics import confusion_matrix,accuracy_score\n",
        "cm=confusion_matrix(y_test,y_pred)"
      ],
      "execution_count": 0,
      "outputs": []
    },
    {
      "cell_type": "code",
      "metadata": {
        "id": "WguUi_Gs3hwr",
        "colab_type": "code",
        "outputId": "06569d54-b728-4405-87ae-30b4c19ba66f",
        "colab": {
          "base_uri": "https://localhost:8080/",
          "height": 50
        }
      },
      "source": [
        "cm"
      ],
      "execution_count": 0,
      "outputs": [
        {
          "output_type": "execute_result",
          "data": {
            "text/plain": [
              "array([[2282,   91],\n",
              "       [ 314,  313]])"
            ]
          },
          "metadata": {
            "tags": []
          },
          "execution_count": 23
        }
      ]
    },
    {
      "cell_type": "code",
      "metadata": {
        "id": "UYyl4Af13w-9",
        "colab_type": "code",
        "outputId": "7d5440b3-e8f9-47f4-be77-866dc219d750",
        "colab": {
          "base_uri": "https://localhost:8080/",
          "height": 34
        }
      },
      "source": [
        "accuracy_score(y_test,y_pred)"
      ],
      "execution_count": 0,
      "outputs": [
        {
          "output_type": "execute_result",
          "data": {
            "text/plain": [
              "0.865"
            ]
          },
          "metadata": {
            "tags": []
          },
          "execution_count": 24
        }
      ]
    }
  ]
}